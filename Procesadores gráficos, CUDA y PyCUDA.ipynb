{
 "metadata": {
  "name": "",
  "signature": "sha256:de72e83f46894705e20db2db3913375b648298cc571d389aebb9d74bd2e29bf7"
 },
 "nbformat": 3,
 "nbformat_minor": 0,
 "worksheets": [
  {
   "cells": [
    {
     "cell_type": "heading",
     "level": 1,
     "metadata": {},
     "source": [
      "Procesadores gr\u00e1ficos, CUDA y PyCUDA"
     ]
    },
    {
     "cell_type": "markdown",
     "metadata": {},
     "source": [
      "El c\u00f3mputo en *unidades de procesamiento gr\u00e1fico (GPU por sus siglas en ingl\u00e9s)* pertence a una de las tendencias m\u00e1s nuevas en el mundo de la ciencia computacional. Su atractividad realmente reside en el hecho de que actualmente las tarjetas gr\u00e1ficas cuentan con un gran poder computacional. Por poner un ejemplo, al momento de escribir esto (*mediados de 2014*) la tarjeta [*Nvidia GeForce GTX TITAN Z*](http://www.nvidia.com/gtx-700-graphics-cards/gtx-titan-z/)  que se muestra en la figura 1 (*est\u00e1 guapa \u00bfNo?*) tiene **5760 n\u00facleos** y **12 GB** de memoria, con un rendimiento computacional pico de **8.1Tflops** en aritm\u00e9tica de precisi\u00f3n simple. Para poner \u00e9ste resultado en contexto [*Kan Balam*](http://es.wikipedia.org/wiki/Kan_Balam) la supercomputadora instalada en 2007 en la *UNAM* contaba con **7113GFlops**, i.e. menos de un orden de magnitud menos del poder computacional de la *Nvidia GeForce GTX TITAN Z*, la actual supercomputadora de la *UNAM*,  [*Miztli*](http://www.super.unam.mx/index.php/content-layouts?start=1) cuenta con **21.3Tflops** esto es aproximadamente **2.63** veces el poder computacional de la *GeForce GTX TITAN Z*.\n",
      "\n",
      "\n",
      "\n",
      "<img src=\"Titan-z.jpg\">\n",
      "\n",
      "<h6 align=\"center\">Figura 1: Nvidia GeForce GTX TITAN Z </h6>\n",
      "\n",
      "Pero es necesario hacer ciertas aclaraciones, en primer lugar, estas tarjetas son demasiado caras, y esto significa que uno no es capaz de comprarlas con lo que le paga su pap\u00e1 al lavar el coche. La tarjeta que se muestra en la figura 1 tiene como precio de lanzamiento $2,999 y no son pesos, sino d\u00f3lares. De esta manera, el c\u00f3mputo intensivo en GPUs se sale del alcance del ama de casa promedio en M\u00e9xico, de esta manera \u00e9sta clase de c\u00f3mputo se restringe y por lo tanto no se encuentra a la mano de todo aqu\u00e9l que desee experimentar con ella."
     ]
    },
    {
     "cell_type": "code",
     "collapsed": false,
     "input": [],
     "language": "python",
     "metadata": {},
     "outputs": []
    }
   ],
   "metadata": {}
  }
 ]
}