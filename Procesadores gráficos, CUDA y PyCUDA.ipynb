{
 "metadata": {
  "name": "",
  "signature": "sha256:b53b732364dc160e56b583c73faf54626f82f62a4becdae64c48394479f82cf5"
 },
 "nbformat": 3,
 "nbformat_minor": 0,
 "worksheets": [
  {
   "cells": [
    {
     "cell_type": "heading",
     "level": 1,
     "metadata": {},
     "source": [
      "Introducci\u00f3n"
     ]
    },
    {
     "cell_type": "markdown",
     "metadata": {},
     "source": [
      "El c\u00f3mputo en *unidades de procesamiento gr\u00e1fico (GPU por sus siglas en ingl\u00e9s)* pertenece a una de las tendencias m\u00e1s nuevas en el mundo de la ciencia computacional. Su atractivo realmente reside en el hecho de que actualmente las tarjetas gr\u00e1ficas cuentan con un gran poder computacional. Por poner un ejemplo, al momento de escribir esto (*mediados de 2014*) la tarjeta [*Nvidia GeForce GTX TITAN Z*](http://www.nvidia.com/gtx-700-graphics-cards/gtx-titan-z/)  que se muestra en la figura 1 (*est\u00e1 guapa \u00bfNo?*) tiene **5760 n\u00facleos** y **12 GB** de memoria, con un rendimiento computacional pico de **8.1Tflops** en aritm\u00e9tica de precisi\u00f3n simple. Para poner \u00e9ste resultado en contexto [*Kan Balam*](http://es.wikipedia.org/wiki/Kan_Balam) la supercomputadora instalada en 2007 en la *UNAM* contaba con **7113GFlops**, i.e. un poco menos del poder computacional de la *Nvidia GeForce GTX TITAN Z*; la actual supercomputadora de la *UNAM*,  [*Miztli*](http://www.super.unam.mx/index.php/content-layouts?start=1) cuenta con **21.3Tflops** esto es aproximadamente **2.63** veces el poder computacional de la *GeForce GTX TITAN Z*.\n",
      "\n",
      "\n",
      "\n",
      "<img src=\"Titan-z.jpg\">\n",
      "\n",
      "<h6 align=\"center\">Figura 1: Nvidia GeForce GTX TITAN Z </h6>\n",
      "\n",
      "Pero es necesario hacer ciertas aclaraciones, en primer lugar, estas tarjetas son demasiado caras, y esto significa que uno no es capaz de comprarlas con lo que le paga su pap\u00e1 al lavar el coche. La tarjeta que se muestra en la figura 1 tiene como precio de lanzamiento $2,999 y no son pesos, sino d\u00f3lares. De esta manera, el c\u00f3mputo intensivo en GPUs se sale del alcance del ama de casa promedio; as\u00ed \u00e9sta clase de c\u00f3mputo se restringe y por lo tanto no se encuentra a la mano de todo aqu\u00e9l que desee experimentar con ella.\n",
      "\n",
      "Al leer esto surgir\u00e1 una pregunta natural, y es \u00bfpor qu\u00e9 no se hace todo el c\u00f3mputo en GPUs? Hemos visto que su poder computacional actualmente es enorme, qu\u00e9 hace a los gobiernos y las universidades invertir millones para comprar una supercomputadora si pueden gastar tres mil d\u00f3lares y comprar una tarjeta gr\u00e1fica poderosa, \u00bfla pol\u00edtica les ha da\u00f1ado? La respuesta no tiene que ver con esto, sino con los procesadores gr\u00e1ficos en s\u00ed. Para entender esto se necesita saber c\u00f3mo funcionan los GPUs y para que eso no sea aburrido habremos de adentrarnos en la historia de estos espectaculares bichos."
     ]
    },
    {
     "cell_type": "heading",
     "level": 2,
     "metadata": {},
     "source": [
      "Procesadores gr\u00e1"
     ]
    }
   ],
   "metadata": {}
  }
 ]
}