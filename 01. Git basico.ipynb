{
 "cells": [
  {
   "cell_type": "markdown",
   "metadata": {},
   "source": [
    "# 0. Instalación de `git`, `julia` y el `ipython notebook`"
   ]
  },
  {
   "cell_type": "markdown",
   "metadata": {},
   "source": [
    "### `Git`\n",
    "\n",
    "Como se verá aquí, `git` es una herramienta *extremadamente* útil, y esta aseveración no sólo incluye este curso, sino va *mucho* más allá. Esto está suficientemente bien cubierto en otros lugares. Entonces, sigan las instrucciones que están en el sitio oficial de [git](http://git-scm.com/book/en/v2/Getting-Started-Installing-Git), según la plataforma donde lo quieran usar.\n"
   ]
  },
  {
   "cell_type": "markdown",
   "metadata": {},
   "source": [
    "### `ipython` y `ipython notebook`. (Modificado ligeramente del [curso de David P. Sanders](http://nbviewer.ipython.org/github/computo-fc/fisica_computacional/blob/master/notas/Parte%20I%20--%20Introduccion%20a%20la%20Programacion%20con%20Julia/0.%20Instalación_de_IPython_y_IJulia.ipynb) )\n",
    "\n",
    "Realmente la manera más sencilla de tener todos los paquetes necesarios para usar el IPython Notebook de forma compatible es descargar [Anaconda](http://continuum.io/downloads), que es una \"distribución\" que contiene Python y una gran variedad de paquetes de Python para cómputo científico. Ahí basta que seleccionen su sistema operativo y su versión de 32/64 bits.\n",
    "\n",
    "Nota para Ubunteros: Para saber la versión que tienen de Ubuntu (probablemente sea 32 bits, pero más vale checar) den click en *Acerca de este equipo* que aparece como primer opción cuando abren el menú principal, i.e., el menú donde apagan, bloquean, etc. el equipo.\n",
    "\n",
    "**Ubuntu** En caso de que ya hubieran descargado todos estos paquetes hace tiempo y no tengan una versión actualizada, pueden adquirir la versión más reciente usando\n",
    "- conda update conda\n",
    "- conda update anaconda\n",
    "- conda update ipython\n",
    "\n",
    "**Mac** Los usuarios de Mac deben agregar estas líneas a su archivo `.bash_profile` (o crearlo con ellas si es que no lo tienen):\n",
    "```\n",
    "export LANG=en_US.UTF-8\n",
    "export LC_ALL=en_US.UTF-8\n",
    "```\n",
    "Después de esto ya deben tener todos los paquetes funcionando; pueden probar tecleando\n",
    "```\n",
    "ipython notebook\n",
    "```\n",
    "desde una terminal (todos necesitamos terminales).\n"
   ]
  },
  {
   "cell_type": "markdown",
   "metadata": {},
   "source": [
    "### `julia`\n",
    "\n",
    "**Nota importante:** si tenían una versión previa de Julia, borren el directorio .julia de tu directorio hogar, para que las actualizaciones se hagan correctamente.\n",
    "\n",
    "Todos los paquetes necesarios los pueden encontrar en la sección de [downloads](http://julialang.org/downloads/) de http://julialang.org/, la página hogar del lenguaje Julia. Ahí encuentran los paquetes de la versión “estable” o sea, la versión 0.3 y la de desarrollo (0.4.0-dev+XXXX). En el curso usaremos la versión 0.3.x (hasta que la 0.4 sea estable); conviene usar la última. Además, [aquí](https://github.com/JuliaLang/julia) hay instrucciones explícitas para instalar `julia` a partir de las fuentes.\n",
    "\n",
    "### Instalación de IJulia\n",
    "\n",
    "Para agregar la interfaz del IJulia Notebook, entra al intérprete con Julia (poniendo `julia` en una terminal, como arriba), y ejecuta el comando (¡cuidado con las mayúsculas y las comillas dobles!):\n",
    "```\n",
    "    julia> Pkg.add(\"IJulia\")\n",
    "```\n",
    "\n",
    "Para verificar que todo funciona, ejecuten desde una terminal\n",
    "```\n",
    "ipython notebook --profile julia\n",
    "```\n",
    "Eso debería abrir una interfaz igual al IPython Notebook, pero con el logo de Julia en la parte superior izquierda. Para evitar teclear repetitivamente instrucciones largas, puedes definir\n",
    "un alias apropiad, por ejemplo:\n",
    "```\n",
    "alias IJulia='ipython notebook --profile julia'\n",
    "```\n",
    "que si lo pones en el archivo `~.bashrc` te simplificará la vida enormemente."
   ]
  },
  {
   "cell_type": "markdown",
   "metadata": {},
   "source": [
    "# 1. ¿Qué son `git` y `GitHub`?"
   ]
  },
  {
   "cell_type": "markdown",
   "metadata": {},
   "source": [
    "[git](http://git-scm.com) es un programa que sirve para rastrear los cambios en las versiones de un programa o proyecto (\"[version control system](http://en.wikipedia.org/wiki/Revision_control)\", o VCS). Se puede usar desde la línea de comandos; permite checar cambios en cualquier punto de la historia, resetear a algún punto específico del historial, tener desarrollos independientes, etc. Es código abierto. Fue inventado por Linus Torvalds en el 2005 para el manejo y desarrollo del kernel de Linux. En pocas palabras, es un manejador de repositorios."
   ]
  },
  {
   "cell_type": "markdown",
   "metadata": {},
   "source": [
    "[GitHub](https://github.com) es un sitio-web/red social donde uno puede hacer un desarrollo colaborativo de algún proyecto, de forma abierta o cerrada, y permite hacer respaldos en la nube. Actualmente, es donde se realizan la mayor parte de los proyectos abiertos."
   ]
  },
  {
   "cell_type": "markdown",
   "metadata": {},
   "source": [
    "Los comandos debajo están diseñados para usarse en sistemas tipo Unix, es decir en Linux y Mac. Para usarlos en Windows, es necesario instalar [Git Bash](https://msysgit.github.io/) y llevar a cabo los comandos directamente desde Git Bash (no desde el Notebook). También en Linux y Mac los comandos se pueden teclear directamente desde la terminal. Para hacerlo, simplemente no se escriben los `;` al principio de los comandos."
   ]
  },
  {
   "cell_type": "markdown",
   "metadata": {},
   "source": [
    "# 2. Creación de un repositorio `git` y primeros pasos"
   ]
  },
  {
   "cell_type": "markdown",
   "metadata": {},
   "source": [
    "`git` es un manejador de *repositorios* con mucha flexibilidad. Un repositorio es un directorio donde se almacena el desarrollo de un proyecto. \n",
    "\n",
    "`git`, *en lugar* de hacer copias de cada archivo y cada uno de los cambios del proyecto, lo que hace es guardar los cambios en ciertos puntos de la historia, que el usuario define."
   ]
  },
  {
   "cell_type": "markdown",
   "metadata": {},
   "source": [
    "Antes de iniciar, el repositorio, veamos la estructura actual del directorio (que vale la pena, por ahora, que sea \"git-test\"). Para esto, desde la terminal, ejecutamos:\n",
    "```\n",
    "ls -alp\n",
    "```\n",
    "\n",
    "Esto, se puede hacer desde `julia` o `IJulia` usando `;`, que manda un comando a la terminal / línea de comandos:\n",
    "```\n",
    "; ls -alp\n",
    "```"
   ]
  },
  {
   "cell_type": "code",
   "execution_count": 2,
   "metadata": {
    "collapsed": false
   },
   "outputs": [
    {
     "name": "stdout",
     "output_type": "stream",
     "text": [
      "total 8\n",
      "drwxr-xr-x   4 benet  staff   136 Feb  2 17:28 ./\n",
      "drwxr-xr-x  15 benet  staff   510 Jan 21 10:51 ../\n",
      "drwxr-xr-x   3 benet  staff   102 Feb  2 16:52 .ipynb_checkpoints/\n",
      "-rw-------   1 benet  staff  2726 Feb  2 17:28 01-git.ipynb\n"
     ]
    }
   ],
   "source": [
    "; ls -alp"
   ]
  },
  {
   "cell_type": "markdown",
   "metadata": {},
   "source": [
    "El directorio \".ipynb_checkpoints/\" incluye información de los distintos puntos donde he salvado este \"ipython notebook\", que de hecho es un \"ijulia notebook\". El otro archivo, es la versión actual de este notebook."
   ]
  },
  {
   "cell_type": "markdown",
   "metadata": {},
   "source": [
    "Para empezar un repositorio git, hay que ejecutar la instrucción\n",
    "```\n",
    "; git init\n",
    "```\n"
   ]
  },
  {
   "cell_type": "markdown",
   "metadata": {},
   "source": [
    "**Ejercicio 1:** Crea un directorio nuevo que se llama `git-test` [recuerda que el comando de Linux para crear un directorio es `mkdir`, y para cambiar al directorio es `cd`] e inicializa tu repositorio git ahí; *hazlo* sin miedo. **NOTA:** La celda vacía que hay abajo es para que hagas el ejercicio.  Asegúrate de que el archivo `01-git.ipynb` se encuentre en este directorio (moverlo ahí si es necesario y vuelve a abrir el Notebook desde ahí)."
   ]
  },
  {
   "cell_type": "code",
   "execution_count": null,
   "metadata": {
    "collapsed": false
   },
   "outputs": [],
   "source": []
  },
  {
   "cell_type": "markdown",
   "metadata": {},
   "source": [
    "Una vez que lo hayan hecho, el contenido de su directorio debería verse como sigue:"
   ]
  },
  {
   "cell_type": "code",
   "execution_count": 4,
   "metadata": {
    "collapsed": false
   },
   "outputs": [
    {
     "name": "stdout",
     "output_type": "stream",
     "text": [
      "total 8\n",
      "drwxr-xr-x   5 benet  staff   170 Feb  2 17:31 ./\n",
      "drwxr-xr-x  15 benet  staff   510 Jan 21 10:51 ../\n",
      "drwxr-xr-x   9 benet  staff   306 Feb  2 17:31 .git/\n",
      "drwxr-xr-x   3 benet  staff   102 Feb  2 16:52 .ipynb_checkpoints/\n",
      "-rw-------   1 benet  staff  3749 Feb  2 17:30 01-git.ipynb\n"
     ]
    }
   ],
   "source": [
    ";ls -alp"
   ]
  },
  {
   "cell_type": "markdown",
   "metadata": {},
   "source": [
    "Entonces, el comando `git init` crea el directorio escondido `.git/` que contendrá toda la información del repositorio, en este caso, el contenido de este curso. (Nota que hay un punto, \".\", antes de \"git\". Eso corresponde a un archivo o directorio escondido.)\n"
   ]
  },
  {
   "cell_type": "markdown",
   "metadata": {},
   "source": [
    "**Ejercicio 2:** (Desde el IJulia notebook) ¿Qué hay dentro del directorio `.git`? (Hint: recuerden lo que hace `;` antes de una instrucción de linux.)"
   ]
  },
  {
   "cell_type": "code",
   "execution_count": null,
   "metadata": {
    "collapsed": false
   },
   "outputs": [],
   "source": []
  },
  {
   "cell_type": "markdown",
   "metadata": {},
   "source": [
    "Antes de seguir adelante, **conviene** que ejecuten los siguientes comandos, con los cambios apropiados a ustedes:\n",
    "```\n",
    "git config --global user.name \"Luis Benet\"\n",
    "git config --global user.email \"benet@fis.unam.mx\"\n",
    "git config --global color.ui \"auto\"\n",
    "```\n",
    "Estos comandos tienen como objetivo configurar la cuenta desde donde están trabajando. Los dos primeros sirven para que los cambios que hagan queden *debidamente firmados*, por así decirlo; el último sirve para ver la vida de colores, desde la terminal :-)"
   ]
  },
  {
   "cell_type": "markdown",
   "metadata": {},
   "source": [
    "Para ver la situación o *status* del repo, ejecutamos la instrucción\n",
    "```\n",
    "git status\n",
    "```"
   ]
  },
  {
   "cell_type": "code",
   "execution_count": 5,
   "metadata": {
    "collapsed": false
   },
   "outputs": [
    {
     "name": "stdout",
     "output_type": "stream",
     "text": [
      "On branch master\n",
      "\n",
      "Initial commit\n",
      "\n",
      "Untracked files:\n",
      "  (use \"git add <file>...\" to include in what will be committed)\n",
      "\n",
      "\t.ipynb_checkpoints/\n",
      "\t01-git.ipynb\n",
      "\n",
      "nothing added to commit but untracked files present (use \"git add\" to track)\n"
     ]
    }
   ],
   "source": [
    "; git status"
   ]
  },
  {
   "cell_type": "markdown",
   "metadata": {},
   "source": [
    "A fin de interpretar el contenido de la salida de \n",
    "```\n",
    "git status\n",
    "```\n",
    "empezaremos por definir ciertos términos:\n",
    "\n",
    "- Cada punto de la *historia* de un repositorio se guarda en \"branches\" (ramas).\n",
    "- En el tiempo, el usuario puede decidir guardar una representación de ese momento del desarrollo del proyecto. Cada uno de esas fotografías del desarrollo se llaman *\"commits\"*, y el guardar la historia es *hacer un commit*, del inglés, *committing*."
   ]
  },
  {
   "cell_type": "markdown",
   "metadata": {},
   "source": [
    "Entonces, el resultado de `git status` indica:\n",
    "- Que estamos en la rama *master*; de ahora en adelante, en el branch master, que es el de default y, de hecho, el principal.\n",
    "- Que estamos en el *commit* inicial, es decir, que no se ha guardado ningún cambio aún en el repositorio.\n",
    "- Que hay dos archivos cuyos cambios, en este momento, no se están siguiendo: *untracked files*.\n",
    "- Y, lo más importante, **qué es lo que hay que hacer** para hacer que la historia de uno o varios archivos sea seguida. O sea, que esos archivos sean *tracked*: `(use \"git add\" to track)`"
   ]
  },
  {
   "cell_type": "markdown",
   "metadata": {},
   "source": [
    "Vayamos paso a paso. Nos interesa seguir los cambios de \"01-git.ipynb\"; después veremos cómo se puede ignorar los cambios en \".ipynb-checkpoints/\". Entonces, siguiendo lo que nos dice, ejecutaremos:\n",
    "```\n",
    "git add 01-git,ipynb\n",
    "```\n",
    "\n",
    "Pero, **antes**, vale la pena salvar la situación actual de este archivo. \n",
    "\n",
    "**NOTA** Yo haré esto desde IJulia, pero puede ser más conveniente hacerlo desde la propia terminal; así, uno evita hacer cosas que cambian este archivo. Si lo hacen desde la terminal, recuerden **no** poner el `;`."
   ]
  },
  {
   "cell_type": "code",
   "execution_count": 6,
   "metadata": {
    "collapsed": false
   },
   "outputs": [],
   "source": [
    "; git add 01-git.ipynb"
   ]
  },
  {
   "cell_type": "markdown",
   "metadata": {},
   "source": [
    "Mmmmmm... \n",
    "\n",
    "¿Pasó algo? Veamos qué dice `git status`; nuevamente, es mejor hacerlo desde la terminal."
   ]
  },
  {
   "cell_type": "code",
   "execution_count": 10,
   "metadata": {
    "collapsed": false
   },
   "outputs": [
    {
     "name": "stdout",
     "output_type": "stream",
     "text": [
      "On branch master\n",
      "\n",
      "Initial commit\n",
      "\n",
      "Changes to be committed:\n",
      "  (use \"git rm --cached <file>...\" to unstage)\n",
      "\n",
      "\tnew file:   01-git.ipynb\n",
      "\n",
      "Untracked files:\n",
      "  (use \"git add <file>...\" to include in what will be committed)\n",
      "\n",
      "\t.ipynb_checkpoints/\n",
      "\n"
     ]
    }
   ],
   "source": [
    "; git status"
   ]
  },
  {
   "cell_type": "markdown",
   "metadata": {},
   "source": [
    "A pesar de que aún **no** hemos guardado este punto en la historia del proyecto (`Changes to be committed:`), vemos que git ahora nos avisa de los cambios que serán hechos: se incluirá el nuevo archivo `01-git.ipynb`. Y también, cómo dar marcha atrás a los cambios: `(use \"git rm --cached <file>...\" to unstage)`; pero esto lo dejaremos para más tarde.\n",
    "\n",
    "Para guardar este punto de la historia del proyecto ejecutaremos:\n",
    "```\n",
    "git commit -m \"Add 01-git.ipynb\"\n",
    "```\n",
    "Aquí, la bandera `-m` avisa que escribiremos una línea de mensaje, escrito entre comillas. Ese mensaje habla de los cambios que se hicieron (de manera resumida) y sirven como recordatorio. \n",
    "\n",
    "**NOTA**: De igual manera uno puede escribir la línea de resumen y más detalles de los cambios que se guardan, cosa que obviamente es beneficiosa. Para esto último, uno ejecutaría `git commit` (sin ninguna bandera ni nada más); esto abrirá un editor, por default \"vi\", donde escribiremos una línea de resumen, y dejando un espacio en blanco, lo que queramos más detallado. Esto **conviene** hacerlo desde la terminal.\n",
    "\n",
    "Ver [aquí](http://tbaggery.com/2008/04/19/a-note-about-git-commit-messages.html) para una guía de \"buenas prácticas\" sobre cómo escribir los mensajes en los commits; vale la pena leerlo!"
   ]
  },
  {
   "cell_type": "code",
   "execution_count": 11,
   "metadata": {
    "collapsed": false
   },
   "outputs": [
    {
     "name": "stdout",
     "output_type": "stream",
     "text": [
      "[master (root-commit) 3225b9d] Add 01-git.ipynb\n",
      " 1 file changed, 315 insertions(+)\n",
      " create mode 100644 01-git.ipynb\n"
     ]
    }
   ],
   "source": [
    "; git commit -m \"Add 01-git.ipynb\""
   ]
  },
  {
   "cell_type": "markdown",
   "metadata": {},
   "source": [
    "El mensaje indica que hemos hecho el primer commit, etiquetado \"3225b9d\", y que éste incluye 315 inserciones. Esta etiqueta (que podría ser otra para ustedes), que de hecho es una etiqueta abreviada, se llama \"hash\"."
   ]
  },
  {
   "cell_type": "markdown",
   "metadata": {},
   "source": [
    "**Ejercicio 3:** ¿Qué indica `git status` ahora?"
   ]
  },
  {
   "cell_type": "code",
   "execution_count": null,
   "metadata": {
    "collapsed": false
   },
   "outputs": [],
   "source": []
  },
  {
   "cell_type": "markdown",
   "metadata": {},
   "source": [
    "Para saber más detalles de la historia del repositorio, o sea, echarle un ojo a la bitácora (*log*), uno utiliza la instrucción \n",
    "```\n",
    "git log\n",
    "```"
   ]
  },
  {
   "cell_type": "code",
   "execution_count": 13,
   "metadata": {
    "collapsed": false
   },
   "outputs": [
    {
     "name": "stdout",
     "output_type": "stream",
     "text": [
      "commit 3225b9d8cbd4722805a73ede1c2fe4a247de82a9\n",
      "Author: Luis Benet <benet@fis.unam.mx>\n",
      "Date:   Mon Feb 2 18:27:27 2015 -0600\n",
      "\n",
      "    Add 01-git.ipynb\n"
     ]
    }
   ],
   "source": [
    "; git log"
   ]
  },
  {
   "cell_type": "markdown",
   "metadata": {},
   "source": [
    "Aquí ven por qué arriba dije que la etiqueta es abreviada; también ven que yo hice los cambios, cuando, y mi email."
   ]
  },
  {
   "cell_type": "markdown",
   "metadata": {},
   "source": [
    " "
   ]
  },
  {
   "cell_type": "markdown",
   "metadata": {},
   "source": [
    "Desde que hice el commit inicial, de hecho, *muuuuucho* he escrito. Para darme cuenta de ello, un simple `git status` basta y sobra. Ahí veré que el archivo `01-git.ipynb` ha sido modificado, y que \n",
    "`.ipynb_checkpoints/` aparece como *untracked*. Ahora, veremos cómo hacer para que ciertos archivos simplemente no se consideren en la lista; en particular, que `.ipynb_checkpoints/` no aparezca nuevamente.\n",
    "\n",
    "Empecemos por crear el archivo `.gitignore` vacío; noten que es un archivo escondido: \n",
    "```\n",
    "touch .gitignore\n",
    "```\n",
    "\n",
    "Ahora, yo escribiré desde la línea de comandos `.ipynb_checkpoints` en ese archivo. Esto se logra con:\n",
    "```\n",
    "echo \".ipynb_checkpoints\" > .gitignore\n",
    "```\n"
   ]
  },
  {
   "cell_type": "markdown",
   "metadata": {},
   "source": [
    "**Ejercicio 4:** Creen un archivo que se llame `.gitignore` con el contenido arriba mencionado."
   ]
  },
  {
   "cell_type": "code",
   "execution_count": null,
   "metadata": {
    "collapsed": false
   },
   "outputs": [],
   "source": []
  },
  {
   "cell_type": "markdown",
   "metadata": {},
   "source": [
    "Si todo va bien hasta aquí, entonces podemos ver el contenido del archivo `.gitignore` con el comando `cat`:"
   ]
  },
  {
   "cell_type": "code",
   "execution_count": 15,
   "metadata": {
    "collapsed": false
   },
   "outputs": [
    {
     "name": "stdout",
     "output_type": "stream",
     "text": [
      ".ipynb_checkpoints\n"
     ]
    }
   ],
   "source": [
    "; cat .gitignore"
   ]
  },
  {
   "cell_type": "code",
   "execution_count": 16,
   "metadata": {
    "collapsed": false
   },
   "outputs": [
    {
     "name": "stdout",
     "output_type": "stream",
     "text": [
      "On branch master\n",
      "Changes not staged for commit:\n",
      "  (use \"git add <file>...\" to update what will be committed)\n",
      "  (use \"git checkout -- <file>...\" to discard changes in working directory)\n",
      "\n",
      "\tmodified:   01-git.ipynb\n",
      "\n",
      "Untracked files:\n",
      "  (use \"git add <file>...\" to include in what will be committed)\n",
      "\n",
      "\t.gitignore\n",
      "\n",
      "no changes added to commit (use \"git add\" and/or \"git commit -a\")\n"
     ]
    }
   ],
   "source": [
    "; git status"
   ]
  },
  {
   "cell_type": "markdown",
   "metadata": {},
   "source": [
    "Por un lado, he modificado el archivo \"01-git.ipynb\"; además, hay un nuevo archivo que no está siendo seguido por git: `.gitignore`. El punto que **resaltar** es que el dichoso directorio `.ipynb_checkpoints` ya **no** aparece en la lista de los archivos que no se están siguiendo. Esto es justamente lo que hace el archivo `.gitignore`."
   ]
  },
  {
   "cell_type": "markdown",
   "metadata": {},
   "source": [
    "**Ejercicio 5:** Agreguen ese archivo a la lista de los archivos que serán seguidos en el respositorio. ¿Qué resulta dar `git status` después de agregar ese archivo? Después, hagan el commit relacionado a ese cambio. Para el mensaje del commit, ¡ejerciten su inglés!"
   ]
  },
  {
   "cell_type": "code",
   "execution_count": null,
   "metadata": {
    "collapsed": false
   },
   "outputs": [],
   "source": []
  },
  {
   "cell_type": "markdown",
   "metadata": {},
   "source": [
    "**Ejercicio 6:** ¿Qué hay nuevo en la salida de `git log`?"
   ]
  },
  {
   "cell_type": "code",
   "execution_count": null,
   "metadata": {
    "collapsed": false
   },
   "outputs": [],
   "source": []
  },
  {
   "cell_type": "markdown",
   "metadata": {},
   "source": [
    "Ahora haré un cambio trivial y no importante en \".gitignore\":"
   ]
  },
  {
   "cell_type": "code",
   "execution_count": 17,
   "metadata": {
    "collapsed": false
   },
   "outputs": [],
   "source": [
    "; echo \".DS_Store\" >> .gitignore"
   ]
  },
  {
   "cell_type": "code",
   "execution_count": 18,
   "metadata": {
    "collapsed": false
   },
   "outputs": [
    {
     "name": "stdout",
     "output_type": "stream",
     "text": [
      "On branch master\n",
      "Changes not staged for commit:\n",
      "  (use \"git add <file>...\" to update what will be committed)\n",
      "  (use \"git checkout -- <file>...\" to discard changes in working directory)\n",
      "\n",
      "\tmodified:   .gitignore\n",
      "\tmodified:   01-git.ipynb\n",
      "\n",
      "no changes added to commit (use \"git add\" and/or \"git commit -a\")\n"
     ]
    }
   ],
   "source": [
    "; git status"
   ]
  },
  {
   "cell_type": "markdown",
   "metadata": {},
   "source": [
    "Claramente, `git` nota que ha habido cambios en ambos archivos: en \"01-git.ipynb\" son los cambios asociados con lo que voy escribiendo ---y que por lo mismo, evitaremos ir comentando---, y el cambio en \".gitignore\" que acabo de hacer. Para saber qué cambios he hecho en \".gitignore\" usamos\n",
    "el comando `git diff .gitignore`:"
   ]
  },
  {
   "cell_type": "code",
   "execution_count": 19,
   "metadata": {
    "collapsed": false
   },
   "outputs": [
    {
     "name": "stdout",
     "output_type": "stream",
     "text": [
      "diff --git a/.gitignore b/.gitignore\n",
      "index 763513e..b5f2b45 100644\n",
      "--- a/.gitignore\n",
      "+++ b/.gitignore\n",
      "@@ -1 +1,2 @@\n",
      " .ipynb_checkpoints\n",
      "+.DS_Store\n"
     ]
    }
   ],
   "source": [
    "; git diff .gitignore"
   ]
  },
  {
   "cell_type": "markdown",
   "metadata": {},
   "source": [
    "La información muestra que se agregó una línea: `+.DS_Store` y su contenido. Cambios más complejos se señalarán de igual manera, pero no les recomiendo hacer esto con \"01-git.ipynb\". Incidentalmente, en la terminal las diferencias se ven con colores.\n",
    "\n",
    "Ahora, si por alguna razón queremos revertir los cambios, que por cierto justo ahora *no* hemos guardado, entonces, siguiendo las instrucciones que están en `git status`, ejecutamos:\n",
    "```\n",
    "git checkout -- .gitignore\n",
    "```"
   ]
  },
  {
   "cell_type": "code",
   "execution_count": 20,
   "metadata": {
    "collapsed": false
   },
   "outputs": [],
   "source": [
    "; git checkout -- .gitignore"
   ]
  },
  {
   "cell_type": "code",
   "execution_count": 21,
   "metadata": {
    "collapsed": false
   },
   "outputs": [
    {
     "name": "stdout",
     "output_type": "stream",
     "text": [
      ".ipynb_checkpoints\n"
     ]
    }
   ],
   "source": [
    "; cat .gitignore"
   ]
  },
  {
   "cell_type": "markdown",
   "metadata": {},
   "source": [
    "Como se puede apreciar, hemos borrado los cambios en ese archivo y hemos vuelto al estado del último commit.\n",
    "\n",
    "Esto nos lleva a un comentario importante: si bien uno puede borrar un archivo con `rm archivo` desde la terminal, esto no implica que `git` deje de ser checando los cambios a ese archivo. Si uno quiere borrar un archivo y que también desaparezca de ser seguido por `git`, uno debe además ejecutar:\n",
    "```\n",
    "git rm archivo\n",
    "```\n"
   ]
  },
  {
   "cell_type": "markdown",
   "metadata": {},
   "source": [
    "**Resumiendo**, el ciclo típico de desarrollo, desde el punto de vista de `git` es:\n",
    "\n",
    "    > git status   # ver cuál es la situación\n",
    "    [Modificar archivos]\n",
    "    > git status   # revisar cambios\n",
    "    > git add *archivo*  # prepara los archivos que se cambiaron\n",
    "    > git commit -m \"Mensaje\"\n"
   ]
  },
  {
   "cell_type": "markdown",
   "metadata": {},
   "source": [
    "# 3. Subiendo los cambios del repositorio"
   ]
  },
  {
   "cell_type": "markdown",
   "metadata": {},
   "source": [
    "Una característica de `git` es que permite subir los cambios en el repositorio a algún servidor central o un directorio de uso compratido. En particular, permite subir los cambios a [GitHub](https://github.com), donde se puede tener un respaldo del repositorio de manera gratuita, siempre y cuando sea de código abierto.\n",
    "\n",
    "Lo primero necesario, obviamente, es abrir una cuenta en GitHub, y entonces crear un nuevo repositorio; las instrucciones se encuentran [aquí](https://help.github.com/articles/creating-a-new-repository/). Una vez que se ha creado el repositorio, GitHub explica los comandos que hay que usar para subir los cambios (*push*) a GitHub. Éstos son:\n",
    "\n",
    "    > git remote add origin https://github.com/NombreUsuario/Proyecto.git\n",
    "    > git push -u origin master\n",
    "    \n",
    "Aquí, \"NombreUsuario\" es el nombre de identificación ante GitHub (el suyo o el del desarrollador principal del repositorio), y \"Proyecto\" es el nombre del repositorio. Entonces, la primer instrucción define (configura) el lugar remoto donde se subirán los cambios, en este caso a GitHub; la segunda instrucción *sube* los cambios del branch `master` del repositorio local al repositorio remoto.\n",
    "\n",
    "Por ahora dejaremos esto, pero eventualmente será algo importante, sobretodo en la parte *colaborativa*."
   ]
  },
  {
   "cell_type": "markdown",
   "metadata": {},
   "source": [
    "## Referencias"
   ]
  },
  {
   "cell_type": "markdown",
   "metadata": {},
   "source": [
    "- La [documentación](http://git-scm.com/doc) de git (capítulo 2, por ahora).\n",
    "- [gitSimplified](http://www.gitguys.com/topics/).\n",
    "- [Think like (a) git](http://think-like-a-git.net).\n",
    "- Algunas [notas](http://nbviewer.ipython.org/github/computo-fc/fisica_computacional/blob/master/notas/Usando%20git/git%20básico.ipynb) de David Sanders sobre `git`"
   ]
  }
 ],
 "metadata": {
  "kernelspec": {
   "display_name": "Julia 0.3.5",
   "language": "julia",
   "name": "julia 0.3"
  },
  "language_info": {
   "name": "julia",
   "version": "0.3.5"
  }
 },
 "nbformat": 4,
 "nbformat_minor": 0
}
