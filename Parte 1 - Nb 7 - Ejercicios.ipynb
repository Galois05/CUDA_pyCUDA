{
 "cells": [
  {
   "cell_type": "markdown",
   "metadata": {},
   "source": [
    "# Ejercicios"
   ]
  },
  {
   "cell_type": "markdown",
   "metadata": {},
   "source": [
    "En este notebook hemos escrito distintos ejercicios para que el lector pueda entrenarse y mejorar sus habilidades con CUDA C.\n",
    "\n",
    "En primer lugar pondremos una plantilla parecida a aquella que hemos escrito en los ejercicios anteriores para que el lector tenga una pequeña guía."
   ]
  },
  {
   "cell_type": "code",
   "execution_count": null,
   "metadata": {
    "collapsed": true
   },
   "outputs": [],
   "source": [
    "\n",
    "\n",
    "// Escribir el kernel\n",
    "\n",
    "__global__ Nombre_Kernel() \n",
    "{\n",
    "   // Puedes declarar variables en GPU\n",
    "    \n",
    "    // Escribir el codigo que seguira cada bloque o thread\n",
    "}\n",
    "\n",
    "int main( int argc, char * argv[])\n",
    "{\n",
    "    \n",
    "    // Declara las variables en el CPU\n",
    "    \n",
    "    // Escribe abajo las lineas para la alocacion de memoria\n",
    "    \n",
    "    // Escribe abajo las lineas para la copia de memoria del CPU al GPU\n",
    "    \n",
    "    // Escribe las dimensiones de los bloques y mallas\n",
    "    \n",
    "    // Escribe las lineas para lanzar el kernel\n",
    "    \n",
    "    // Copia la memoria del GPU al CPU\n",
    "      \n",
    "    // Libera la memoria\n",
    "      \n",
    "    // Escribe un codigo para poder saber si tu resultado es correcto\n",
    "    \n",
    "    \n",
    "    return 0 ;\n",
    "}"
   ]
  },
  {
   "cell_type": "markdown",
   "metadata": {},
   "source": [
    "+ Pequeño ejercicio para hacer algo con vectores usando memoria compartida\n",
    "+ Pequeño ejercicio para hacer algo con matrices en dos dimensiones con memoria compartida\n",
    "+ Ejercicio para usar la memoria constante\n",
    "+ Ejercicio para calcular algún promedio en una red bidimensional\n",
    "+ Ejercicio sencillo para mapear de tres dimensiones a una\n",
    "+ Ejercicio en el que haya dos funciones en un mismo kernel"
   ]
  },
  {
   "cell_type": "markdown",
   "metadata": {},
   "source": [
    "Para los siguiente ejercicios se recomienda usar la `programación en bloques`. Es decir utilizar la memoria `compartida`."
   ]
  },
  {
   "cell_type": "markdown",
   "metadata": {},
   "source": [
    "**1.** Sea un vector unidimensional $u$ con $30$ entradas divididas en 10 bloques y sea un vector de tres entradas $m \\ = \\ (1,2,3)$. Sumar a cada bloque de $u$ el vector $m$ con ayuda de la memoria `constante`. Esto se hace declarando $m$ de la siguiente manera para luego usar la variable estática en el `kernel`.\n",
    "\n",
    "```C\n",
    "\n",
    "__constant__ int m[3] ;\n",
    "\n",
    "```\n",
    "\n",
    "La memoria `constante` tiene la ventaja de hacer más eficiente el acceso a información que tendrá que ser usada durante todo el programa. Pero atención, para arreglos muy grandes la memoria constante viene a perder sus ventajas, por lo que se recomienda utilizar este tipo de memoria para información con tamaño menor o igual a 32B."
   ]
  },
  {
   "cell_type": "markdown",
   "metadata": {},
   "source": [
    "**2.** Sea una matriz de $10 \\times 10$. Para cada una de las entradas calcula el promedio de ella y las cuatro entradas a su alrededor (arriba, abajo y a los lados) para luego colocarla en una nueva matriz de $10 \\times 10$. \n",
    "\n",
    "Haz el ejercicio para fronteras abiertas y cerradas."
   ]
  },
  {
   "cell_type": "markdown",
   "metadata": {},
   "source": [
    "**3.** Sea una matriz de $10 \\times 15 \\times 8 $. Idea una indexación para mapear el índice en tres dimensions $x,y,z$  a uno en una dimensión."
   ]
  },
  {
   "cell_type": "markdown",
   "metadata": {},
   "source": [
    "**4.** Sea un vector unidimensional con 1000 entradas. A cada entrada súmale 3 unidades y luego eleva al cuadrado el resultado. El vector tiene que estar dividido en bloques de 16.\n",
    "\n",
    "En cada uno de los bloques suma todas las entradas que se encuentren en este para obtener un vector de 16 entradas. Repite el procedimiento (suma, elevación al cuadrado) para luego sumar las entradas en 8 bloques, luego en 4 bloques, 2 bloques para luego finalmente obtener la suma de los resultados en los dos bloques."
   ]
  },
  {
   "cell_type": "markdown",
   "metadata": {},
   "source": [
    "### Referencias"
   ]
  },
  {
   "cell_type": "markdown",
   "metadata": {},
   "source": [
    "+ Toda la Internet"
   ]
  },
  {
   "cell_type": "markdown",
   "metadata": {},
   "source": [
    "Recuerda que cualquier duda, comentario o queja puedes escribirnos a:\n",
    "\n",
    "+ urifisico@ciencias.unam.mx\n",
    "+ leonardo_castro@ciencias.unam.mx"
   ]
  },
  {
   "cell_type": "code",
   "execution_count": null,
   "metadata": {
    "collapsed": true
   },
   "outputs": [],
   "source": []
  }
 ],
 "metadata": {
  "kernelspec": {
   "display_name": "Python 2",
   "language": "python",
   "name": "python2"
  },
  "language_info": {
   "codemirror_mode": {
    "name": "ipython",
    "version": 2
   },
   "file_extension": ".py",
   "mimetype": "text/x-python",
   "name": "python",
   "nbconvert_exporter": "python",
   "pygments_lexer": "ipython2",
   "version": "2.7.9"
  }
 },
 "nbformat": 4,
 "nbformat_minor": 0
}
