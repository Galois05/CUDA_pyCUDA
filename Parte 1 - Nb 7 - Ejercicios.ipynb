{
 "cells": [
  {
   "cell_type": "markdown",
   "metadata": {},
   "source": [
    "# Ejercicios"
   ]
  },
  {
   "cell_type": "markdown",
   "metadata": {},
   "source": [
    "En este notebook hemos escrito distintos ejercicios para que el lector pueda entrenarse y mejorar sus habilidades con CUDA C.\n",
    "\n",
    "En primer lugar pondremos una plantilla parecida a aquella que hemos escrito en los ejercicios anteriores para que el lector tenga una pequeña guía."
   ]
  },
  {
   "cell_type": "code",
   "execution_count": null,
   "metadata": {
    "collapsed": true
   },
   "outputs": [],
   "source": [
    "\n",
    "\n",
    "// Escribir el kernel\n",
    "\n",
    "__global__ Nombre_Kernel() \n",
    "{\n",
    "   // Puedes declarar variables en GPU\n",
    "    \n",
    "    // Escribir el codigo que seguira cada bloque o thread\n",
    "}\n",
    "\n",
    "int main( int argc, char * argv[])\n",
    "{\n",
    "    \n",
    "    // Declara las variables en el CPU\n",
    "    \n",
    "    // Escribe abajo las lineas para la alocacion de memoria\n",
    "    \n",
    "    // Escribe abajo las lineas para la copia de memoria del CPU al GPU\n",
    "    \n",
    "    // Escribe las dimensiones de los bloques y mallas\n",
    "    \n",
    "    // Escribe las lineas para lanzar el kernel\n",
    "    \n",
    "    // Copia la memoria del GPU al CPU\n",
    "      \n",
    "    // Libera la memoria\n",
    "      \n",
    "    // Escribe un codigo para poder saber si tu resultado es correcto\n",
    "    \n",
    "    \n",
    "    return 0 ;\n",
    "}"
   ]
  },
  {
   "cell_type": "markdown",
   "metadata": {},
   "source": [
    "+ Pequeño ejercicio para hacer algo con vectores usando memoria compartida\n",
    "+ Pequeño ejercicio para hacer algo con matrices en dos dimensiones con memoria compartida\n",
    "+ Ejercicio para usar la memoria constante\n",
    "+ Ejercicio para calcular algún promedio en una red bidimensional\n",
    "+ Ejercicio sencillo para mapear de tres dimensiones a una\n",
    "+ Ejercicio en el que haya dos funciones en un mismo kernel"
   ]
  },
  {
   "cell_type": "markdown",
   "metadata": {},
   "source": [
    "### Referencias"
   ]
  },
  {
   "cell_type": "markdown",
   "metadata": {},
   "source": [
    "+ Todo Internet"
   ]
  },
  {
   "cell_type": "markdown",
   "metadata": {},
   "source": [
    "Recuerda que cualquier duda, comentario o queja puedes escribirnos a:\n",
    "\n",
    "+ urifisico@ciencias.unam.mx\n",
    "+ leonardo_castro@ciencias.unam.mx"
   ]
  },
  {
   "cell_type": "code",
   "execution_count": null,
   "metadata": {
    "collapsed": true
   },
   "outputs": [],
   "source": []
  }
 ],
 "metadata": {
  "kernelspec": {
   "display_name": "Python 2",
   "language": "python",
   "name": "python2"
  },
  "language_info": {
   "codemirror_mode": {
    "name": "ipython",
    "version": 2
   },
   "file_extension": ".py",
   "mimetype": "text/x-python",
   "name": "python",
   "nbconvert_exporter": "python",
   "pygments_lexer": "ipython2",
   "version": "2.7.9"
  }
 },
 "nbformat": 4,
 "nbformat_minor": 0
}
