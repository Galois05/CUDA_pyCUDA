{
 "cells": [
  {
   "cell_type": "markdown",
   "metadata": {},
   "source": [
    "List of thing to do:\n",
    "\n",
    "- Explain what does it mean the arguments in the main function\n",
    "\n",
    "- Basic C functions (Memcpy, Malloc)\n",
    "- Kernels\n",
    "- Launching a kernel\n",
    "- Maybe: ways to split our information"
   ]
  },
  {
   "cell_type": "markdown",
   "metadata": {
    "collapsed": true
   },
   "source": [
    "# Elevando al cuadrado en serie y en paralelo\n",
    "\n",
    "Nuestra primer misión en CUDA es explicar ciertas sutilezas, para esto iniciaremos con un pequeño ejemplo.\n",
    "\n",
    "Supongamos que queremos elevar al cuadrado los números del 1 al 100. Un programa en python podríamos hacerlo de la siguiente manera.\n",
    "\n",
    "- Generamos un arreglo con los números del 1 al 100.\n",
    "- Utilizando un ciclo **for** elevamos cada uno de estos números y los metemos en un nuevo arreglo.\n",
    "\n",
    "Por último lo imprimos para mostrarlo al lector."
   ]
  },
  {
   "cell_type": "code",
   "execution_count": 1,
   "metadata": {
    "collapsed": false
   },
   "outputs": [
    {
     "name": "stdout",
     "output_type": "stream",
     "text": [
      "[1, 4, 9, 16, 25, 36, 49, 64, 81, 100, 121, 144, 169, 196, 225, 256, 289, 324, 361, 400, 441, 484, 529, 576, 625, 676, 729, 784, 841, 900, 961, 1024, 1089, 1156, 1225, 1296, 1369, 1444, 1521, 1600, 1681, 1764, 1849, 1936, 2025, 2116, 2209, 2304, 2401, 2500, 2601, 2704, 2809, 2916, 3025, 3136, 3249, 3364, 3481, 3600, 3721, 3844, 3969, 4096, 4225, 4356, 4489, 4624, 4761, 4900, 5041, 5184, 5329, 5476, 5625, 5776, 5929, 6084, 6241, 6400, 6561, 6724, 6889, 7056, 7225, 7396, 7569, 7744, 7921, 8100, 8281, 8464, 8649, 8836, 9025, 9216, 9409, 9604, 9801, 10000]\n"
     ]
    }
   ],
   "source": [
    "enteros = range(1,101)\n",
    "cuadrados = []\n",
    "\n",
    "for i in enteros:\n",
    "    cuadrados.append(i*i)\n",
    "\n",
    "print(cuadrados)"
   ]
  },
  {
   "cell_type": "markdown",
   "metadata": {},
   "source": [
    "Como podemos ver, también hemos calculado el tiempo que se toma en hacer todo el proceso. Analicemos un poco nuestro algoritmo; el programa hace lo siguiente\n",
    "\n",
    "- Lee un número del arreglo.\n",
    "- Lo multiplica por sí mismo.\n",
    "- Guarda el resultado en un nuevo arreglo.\n",
    "- Si hay un siguiente número se regresa al punto inicial, si no termina.\n",
    "\n",
    "Supongamos a manera de esquema que cada multiplicación en nuestro procesador toma **2 ns** en realizarse, como estamos haciendo 100 multiplicaciones, entonces nos tomaría **200 ns** obtener todos y cada uno de los cuadrados que queremos.\n",
    "\n",
    "¿Cómo podríamos hacer esto en paralelo?\n",
    "\n",
    "Bueno, tal vez utilizando 100 trabajadores (a los cuales de aquí en adelante llamaremos threads o hilos) y haciendo que cada uno se encargue de leer un número del arreglo de entrada, multiplicarlo por sí mismo y escribirlo dentro de otro arreglo. Si vemos lo que hace un sólo thread no podríamos notar cuál es la diferencia entre el algoritmo en Python (algoritmo escrito en serie) y el algoritmo en parelelo. La principal diferencia radica en que en el algoritmo serial un solo thread se encarga de multiplicar todos los números, avanzando de uno en uno, mientras que en el algoritmo en paralelo le damos un número a cada uno de los 100 trabajadores y los hacemos multiplicarlos por sí mismos. Si cada uno de estos trabajadores tardara **10 ns** en hacer una multiplicación ¿Cuánto se tardarían en multiplicar los 100 números? Exacto, **10 ns**.\n",
    "\n",
    "Ahora veamos cómo quedaría éste código escrito en CUDA, recordando que **al final de cada declaracion se debe poner un punto y coma.**"
   ]
  },
  {
   "cell_type": "markdown",
   "metadata": {},
   "source": [
    "```C\n",
    "#include <stdio.h>\n",
    "\n",
    "__global__ void elevar_al_cuadrado(float * d_salida, float * d_entrada){\n",
    "\tint idx = threadIdx.x;\n",
    "    float f = d_entrada[idx];\n",
    "    d_salida[idx] = f*f;\n",
    "}\n",
    "\n",
    "int main(int argc, char ** argv) {\n",
    "\n",
    "\tconst int TAMANIO_ARREGLO = 100;\n",
    "\tconst int BYTES_ARREGLO = TAMANIO_ARREGLO * sizeof(float);\n",
    "\n",
    "\t// Generamos el arreglo de entrada en el anfitrion\n",
    "\tfloat h_entrada[TAMANIO_ARREGLO];\n",
    "    \n",
    "\tfor (int i = 0; i < TAMANIO_ARREGLO; i++) {\n",
    "\t\th_entrada[i] = float(i);\n",
    "\t}\n",
    "    \n",
    "\tfloat h_salida[TAMANIO_ARREGLO];\n",
    "\n",
    "\t// Declaramos apuntadores de memoria en GPU\n",
    "\tfloat * d_entrada;\n",
    "\tfloat * d_salida;\n",
    "\n",
    "\t// Reservamos memoria del GPU\n",
    "\tcudaMalloc((void**) &d_entrada, BYTES_ARREGLO);\n",
    "\tcudaMalloc((void**) &d_salida, BYTES_ARREGLO);\n",
    "\n",
    "\t// Copiamos informacion al GPU\n",
    "\tcudaMemcpy(d_entrada, h_entrada, BYTES_ARREGLO, cudaMemcpyHostToDevice);\n",
    "\n",
    "\t// Lanza el kernel\n",
    "\televar_al_cuadrado<<<1, TAMANIO_ARREGLO>>>(d_salida, d_entrada);\n",
    "\n",
    "\t// Copiamos el arreglo resultante al GPU\n",
    "\tcudaMemcpy(h_salida, d_salida, BYTES_ARREGLO, cudaMemcpyDeviceToHost);\n",
    "\n",
    "\t// Imprimimos el arreglo resultante\n",
    "\tfor (int i =0; i < TAMANIO_ARREGLO; i++) {\n",
    "\t\tprintf(\"%f\", h_salida[i]);\n",
    "\t\tprintf(((i % 4) != 3) ? \"\\t\" : \"\\n\");\n",
    "\t}\n",
    "\n",
    "\tcudaFree(d_entrada);\n",
    "\tcudaFree(d_salida);\n",
    "\n",
    "\treturn 0;\n",
    "}```"
   ]
  },
  {
   "cell_type": "markdown",
   "metadata": {
    "collapsed": true
   },
   "source": [
    "No tan simple como en Python ¿cierto?\n",
    "\n",
    "La parte \n",
    "```C\n",
    "#include <stdio.h>```\n",
    "simplemente agrega a nuestro programa la librería básica de C, que contiene funciones como ```printf()```, ```scanf()```, etc. Esto no es en el sentido extricto algo relacionado con CUDA, sin embargo, al estar basado en C CUDA sigue reglas similares.\n",
    "\n",
    "Lo siguiente en nuestro código es\n",
    "\n",
    "```C\n",
    "__global__ void elevar_al_cuadrado(float * d_salida, float * d_entrada){\n",
    "\tint idx = threadIdx.x;\n",
    "    float f = d_entrada[idx];\n",
    "    d_salida[idx] = f*f;\n",
    "}```\n",
    "\n",
    "Esto es lo que conocemos como kernel; en el kernel se ponen los comandos que el programador desea que ejecute cada uno de los threads (nuestros [Oompa Loompas](https://es.wikipedia.org/wiki/Oompa_Loompa) del GPU). A primera vista, y como ya habíamos adelantado, las órdenes parecen ser de un código serial, en ninguna parte podemos ver exactamente donde yace el paralelismo, pero hay que tener calma, llegaremos a ese punto en este mismo notebook.\n",
    "\n",
    "Vayamos paso a paso, esta parte del código simplemente define una función para elevar al cuadrado números en un arreglo. El lector familiarizado con C habrá notado una peculiaridad (y el lector no familiarizado está a punto de enterarse), en C no existe tal cosa como ```__global__``` (con dos guiones bajos a cada lado); nos encontramos pues ante la primer característica de CUDA."
   ]
  },
  {
   "cell_type": "markdown",
   "metadata": {},
   "source": [
    "##Calificadores de tipo de función\n",
    "\n",
    "Al ser un lenguaje de programación diseñado para controlar tanto al CPU como al GPU CUDA debe saber de alguna forma si la función que estamos escribiendo se va a ejecutar en uno u otro. Es por eso que cuenta con ciertos [calificadores de tipo de función](http://docs.nvidia.com/cuda/cuda-c-programming-guide/#function-type-qualifiers). Los tres principales son:\n",
    "\n",
    "* ```__global__``` : especifica que la función es un kernel. Dicha función es\n",
    " - Ejecutada en el dispositivo (GPU)\n",
    " - Invocable desde el anfitrión (CPU)\n",
    " - Invocable desde el dispositivo para dispositivos (para quien tenga más de un  GPU)\n",
    " \n",
    " Cuenta también con ciertas cualidades; debe ser una función de tipo ```void```, es decir, que no regresa nada. Y además las invocaciones a ```__global__``` son asíncronas, en otras palabras, la función devuelve el control al programa principal antes de haber terminado de hacer el trabajo.\n",
    " \n",
    " \n",
    "* ```__device__``` : este calificador declara una función que es\n",
    "\n",
    " - Ejecutada en el dispositivo.\n",
    " - Invocable solamente desde el dispositivo.\n",
    " \n",
    " \n",
    "* ```__host__``` : declara una función\n",
    "\n",
    " - Ejecutada en el anfitrión.\n",
    " - Invocable solamente desde el anfitrión.\n",
    " \n",
    "Lo siguiente en la lista es ```void```, esto lo que quiere decir es que la función no va a regresar ningún tipo de dato, o lo que es lo mismo, sólo va a trabajar. En ocasiones es fácil confundirse con este concepto, si no va a regresar nada ¿por qué hacerlo?. Pongamos dos situaciones distintas, en la primera quieres saber cuál es el resultado de hacer cierta operación e imprimirlo, por ejemplo saber cuánto es 4!. Pero bien puede suceder que después necesites ese valor. En el caso en que sólo deseas saber cuánto vale, el tipo de función que se necesita es ```void```, ya que sólo queremos que calcule 4! y nos diga cuánto es. En el segundo caso usaríamos una función de tipo ```int``` (integer) que regrese un número entero. La diferencia sería que la segunda función puede ser utilizada como cualquier número entero, la podemos multiplicar, sumar, dividir... A la primera no.\n",
    "\n",
    "Después tenemos el nombre de la función, que en nuestro caso es ```elevar_al_cuadrado``` y recibe dos argumentos, declarados como \n",
    "```C \n",
    "float * d_entrada```\n",
    "```C\n",
    "float * d_salida```\n",
    "\n",
    "Por convención, las variables que serán usadas por el dispositivo (device) se marcan con el prefijo ```d_```\n",
    "mientras que las utilizadas por el anfitrión (host) llevan el prefijo ```h_```. Así pues, vemos que los dos argumentos que recibe nuestra función son *bichos* alojados en el dispositivo, dos bichos que reconocemos como números de punto flotante, pero; hay un asterisco que nos estorba, **¿será esto causante de una nueva sección en las notas?**"
   ]
  },
  {
   "cell_type": "markdown",
   "metadata": {},
   "source": [
    "##Apuntadores\n",
    "\n",
    "Un apuntador es una variable cuyo valor es la dirección en memoria de otra variable. Supongamos que tenemos lo siguiente en C\n",
    "\n",
    "```C\n",
    " float pi = 3.1416;\n",
    " float * apuntador_pi;\n",
    " \n",
    " apuntador_pi = &pi;\n",
    "```\n",
    "\n",
    "En el primer renglón declaramos un flotante llamado pi con cierto valor, en el siguiente declaramos un apuntador que será dirigido hacia un número flotante, y por último dirigimos el apuntador hacia el valor deseado, usando el caracter &.\n",
    "\n",
    "Si quisiésemos imprimir el valor de ```apuntador_pi``` la computadora escupiría algo como ```bffd8b3c``` mientras que al imprimir ```*apuntador_pi``` obtenemos ```3.1416```.\n",
    "\n",
    "La pregunta que nace naturalmente es, ¿por qué complicarse la vida con apuntadores? Bueno, los apuntadores son necesarios cuando se necesita reservar memoria dinámicamente, o cuando se manejan cantidades grandes de información. Los apuntadores fueron creados en una época en que se necesitaba un uso de memoria rápido y eficiente dado que las máquinas eran demasiado lentas, eso quiere decir que en la actualidad podemos usar apuntadores para hacer correr más rápido nuestros programas o *usar menos memoria*, esto último, como veremos más adelante es una característica deseable cuando utilizamos GPU."
   ]
  },
  {
   "cell_type": "markdown",
   "metadata": {},
   "source": [
    "##De regreso al código\n",
    "\n",
    "Entonces, hasta ahora hemos visto que en el primer renglón se declaró una función, ejecutable en el dispositivo pero invocable solamente desde el anfitrión, que no regresa ningún tipo de dato, llamada ```elevar_al_cuadrado```, que recibe como argumentos dos apuntadores a estructuras alojadas en el dispositivo (demasiado para un renglón si me preguntan).\n",
    "\n",
    "Lo siguiente en la lista es \n",
    "\n",
    "```C\n",
    "\tint idx = threadIdx.x;\n",
    "```\n",
    "\n",
    "Declaramos una variable llamada ```ìdx``` y le asignamos el valor de ```threadIdx.x```, como recordará el lector, a nuestros trajadores le habíamos cambiado el nombre por *threads*, ```threadIdx.x``` simplemente nos dice cuál es la etiqueta que porta el thread, o el número de trabajador si se quiere ver de otra forma; dicho número es exclusivo para cada uno de los threads, y como podemos ver, con el uso del sufijo ```.x``` los threads tienen etiquetas en cada dimensión. Es decir que podríamos acomodar threads en una cuadrícula tridimensional en donde cada uno estaría al tanto de su posición en x, y, z.\n",
    "\n",
    "Finalmente tenemos\n",
    "\n",
    "```C\n",
    "    float f = d_entrada[idx];\n",
    "    d_salida[idx] = f*f;\n",
    "```\n",
    "En la primer parte declaramos una variable ```f``` que guardará el valor de la entrada ubicada en la posición ```idx``` del arreglo cuyo apuntador se metió como argumento a la función. En la segunda elevamos el número al cuadrado y lo guardamos en la entrada ```idx``` del segundo arreglo cuyo apuntador se ingresa en la funcion como argumento.\n",
    "\n",
    "Como prometimos esta función (o kernel), será ejecutado en el GPU. Le pedimos (de una forma conveniente) 100 trabajadores al dispositivo y hacemos que cada uno de ellos ejecute el kernel. Ya antes mencionamos que cada uno de ellos contará con un índice (número de trabajador) único, y por lo tanto leerán una entrada específica del arreglo de entrada y escribirán en una entrada específica del arreglo de salida, por lo tanto no habrá que temer que dos threads intenten leer y escribir en los mismos sitios. Más adelante veremos que éste tipo de proceso es conocido como **mapeo** en el contexto de patrones de comunicación."
   ]
  },
  {
   "cell_type": "markdown",
   "metadata": {},
   "source": [
    "##Avanzamos en el código\n",
    "\n",
    "Hasta ahora hemos visto cómo se especifica cuál es el trabajo que hará cada uno de los threads, sin embargo, en ningún momento los pusimos a trabajar ¿cómo es que se logra esto? ¿nuestro kernel sirve para el número de threads que deseemos? Es hora de explicar con detenimiento el proceso de ejecución del kernel.\n",
    "\n",
    "```\n",
    "no tengo la más minima idea de por qué está eso en el main, no sé si es estándar\n",
    "```\n",
    "\n",
    "La siguiente parte del código es simple de entender, más no intuitiva.\n",
    "\n",
    "```C\n",
    "\tconst int TAMANIO_ARREGLO = 100;\n",
    "\tconst int BYTES_ARREGLO = TAMANIO_ARREGLO * sizeof(float);\n",
    "```\n",
    "\n",
    "El primer renglón simplemente define el tamaño del arreglo que usaremos. En nuestro caso, dado que queremos obtener los cuadrados de los 100 primeros números naturales (consideramos que el 0 es un número natural) declaramos una constante que guarde el tamaño del arreglo. En el segundo renglón obtenemos el tamaño en bytes del arreglo y lo guardamos en una nueva variable. Es importante observar aquí que no supusimos ningún tamaño específico para los números flotantes, sino que lo obtuvimos utilizando la función ```sizeof()```, al momento de programar es importante escribir de tal manera que nuestros programas puedan ser corridos en otras computadoras. \n",
    "\n",
    "Quizá se estarán preguntando ¿para qué guardar el tamaño del arreglo en bytes? Puede parecer un poco inútil, sin embargo detrás de éste renglón se esconde una sutileza importante de CUDA. **No, no es el hecho de que escribimos \"ni\" en lugar de \"ñ\"**\n",
    "\n",
    "Después declaramos un arreglo de números flotantes, lo llenamos con los números del 0 al 99, y declaramos otro arreglo de flotantes para almacenar en él los cuadrados.\n",
    "\n",
    "```C\n",
    "\tfloat h_entrada[TAMANIO_ARREGLO];\n",
    "\tfor (int i = 0; i < TAMANIO_ARREGLO; i++) {\n",
    "\t\th_entrada[i] = float(i);\n",
    "\t}\n",
    "\tfloat h_salida[TAMANIO_ARREGLO];\n",
    "```\n",
    "\n",
    "*Podría el lector decir ¿quién se utilizará esos arreglos?*"
   ]
  },
  {
   "cell_type": "markdown",
   "metadata": {},
   "source": [
    "#Hacer una celda con widgets con dos botones."
   ]
  }
 ],
 "metadata": {
  "kernelspec": {
   "display_name": "Python 3",
   "language": "python",
   "name": "python3"
  },
  "language_info": {
   "codemirror_mode": {
    "name": "ipython",
    "version": 3
   },
   "file_extension": ".py",
   "mimetype": "text/x-python",
   "name": "python",
   "nbconvert_exporter": "python",
   "pygments_lexer": "ipython3",
   "version": "3.4.1"
  }
 },
 "nbformat": 4,
 "nbformat_minor": 0
}
