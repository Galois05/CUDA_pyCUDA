{
 "cells": [
  {
   "cell_type": "markdown",
   "metadata": {},
   "source": [
    "#  Bloques, índices y un primer ejercicio"
   ]
  },
  {
   "cell_type": "markdown",
   "metadata": {},
   "source": [
    "Hablaremos de la indexación que normalmente se utiliza en los códigos de CUDA C y que además nos ayudará a comprender mejor los bloques.\n",
    "\n",
    "Sin más, presentamos el índice `idx` que, por cierto, se utilizará en el ejercicio a continuación.\n",
    "\n",
    "```C\n",
    "idx = blockIdx.x * blockDim.x + threadIdx.x ;\n",
    "```\n",
    "\n",
    "Los componentes de `idx` son lo suficientemente claros. `blockIdx.x` se refiere al índice del bloque dentro de una `malla`, mientras que  `threadIdx.x` se refiere al índice de un `thread` dentro del `block` en el que se encuentra. \n",
    "`blockDim.x`, por otra parte, se refiere a la dimensión del bloque en la dirección `x`. Sencillo, ¿no?\n",
    "\n",
    "Estamos suponiendo que únicamente tenemos una dimensión, pero todo esto es análogo en dos o tres dimensiones.\n",
    "\n",
    "Para ilustrar la magia de este índices, supongamos que tenemos un vector unidimensional con 16 entradas, dividido en 4 bloques de 4 entradas.\n",
    "\n",
    "Entonces `blockDim.x = 4` y es un valor fijo.\n",
    "\n",
    "`blockIdx.x` y `threadIdx.x` van de `0` a `3`.\n",
    "\n",
    "En el primer bloque (`blockIdx.x = 0`), `idx = 0 * 4 + threadIdx.x` irá de 0 a 3. \n",
    "\n",
    "En el segundo (`blockIdx.x = 1`), `idx = 4 + threadIdx.x` empezará en 4 y terminará en 7. \n",
    "\n",
    "Así, sucesivamente hasta terminar en 15 y contando así las 16 entradas de nuestro vector.\n",
    "\n",
    "\n",
    "\n",
    "Ahora bien. ¿Dónde podemos fijar las dimensiones de los bloques y mallas?\n",
    "\n",
    "CUDA C ha creado unas variables llamadas `dim3` con las que podemos fijar muy sencillamente las dimensiones de estos objetos. Su sintáxis es muy sencilla:\n",
    "\n",
    "```C\n",
    "\n",
    "dim3 dimBlock(4, 1, 1) ;\n",
    "dim3 dimGrid(4, 1, 1) ;\n",
    "\n",
    "```\n",
    "\n",
    "Las variables `dimBlock` y `dimGrid` fueron escritas como para el ejemplo pasado. La sintáxis es, como se puede intuir, la ya establecida (x, y, z)."
   ]
  },
  {
   "cell_type": "markdown",
   "metadata": {},
   "source": [
    "##  Ejercicio: Multiplicación de Vectores"
   ]
  },
  {
   "cell_type": "markdown",
   "metadata": {},
   "source": [
    "Ahora veremos como escribir nuestro primer código en CUDA C para realizar un ejercicio básico: la multiplicación de vectores.\n",
    "\n",
    "La dinámica será esta: A continuación pondremos una parte del código. El lector sólo tendrá que llenar las partes faltantes.\n",
    "\n",
    "Así de fácil."
   ]
  },
  {
   "cell_type": "markdown",
   "metadata": {},
   "source": [
    "**Nota:** las partes que faltan por llenar en este código son\n",
    "+ el kernel\n",
    "+ la alocación, copia y liberación de memoria\n",
    "+ dimensiones de `bloques` y `grid`"
   ]
  },
  {
   "cell_type": "code",
   "execution_count": null,
   "metadata": {
    "collapsed": true
   },
   "outputs": [],
   "source": [
    "%%writefile Mul_vectores.cu\n",
    "\n",
    "__global__ void multiplicar_vectores(float * d_A, float * d_B, float * d_C, int TAMANIO)\n",
    "{\n",
    " // Llena el kernel   \n",
    "}\n",
    "\n",
    "int main( int argc, char * argv[])\n",
    "{\n",
    "\n",
    "    int TAMANIO 1000 ;\n",
    "    float h_A[TAMANIO] ;\n",
    "    float h_B[TAMANIO] ;\n",
    "    float h_C[TAMANIO] ;\n",
    "    float prueba ;\n",
    "    \n",
    "    for (int i = 0, i < TAMANIO, i ++)\n",
    "    {\n",
    "        h_A[i] = i ;\n",
    "        h_B[i] = i + 1 ;\n",
    "    }\n",
    "    \n",
    "    // Escribe abajo las lineas para la alocacion de memoria\n",
    "    \n",
    "    // Escribe abajo las lineas para copia de memoria del CPU al GPU\n",
    "    \n",
    "    // Completa para escribir las dimensiones de los bloques\n",
    "    \n",
    "    dim3 dimBlock( ) ;\n",
    "    dim3 dimGrid( ) ;\n",
    "    \n",
    "    // Completa para lanzar el kernel\n",
    "    \n",
    "    multiplicar_vectores<<< dimGrid, dimBlock >>>( ) ;\n",
    "    \n",
    "    // Copia la memoria del GPU al CPU\n",
    "    \n",
    "    \n",
    "    // Aqui abajo YA ESTAN ESCRITAS las lineas para liberar la memoria\n",
    "    \n",
    "    cudaFree(d_A) ;\n",
    "    cudaFree(d_B) ;\n",
    "    cudaFree(d_C) ;\n",
    "    \n",
    "    \n",
    "    // Aqui abajo un pequenio codigo para poder saber si tu resultado es correcto\n",
    "    \n",
    "    prueba = 0. ;\n",
    "    \n",
    "    for (int i = 0, i < TAMANIO, i ++)\n",
    "    {\n",
    "        prueba += h_C[i] ;\n",
    "    }\n",
    "    \n",
    "    println( prueba) ;\n",
    "    return 0;\n",
    "}\n"
   ]
  },
  {
   "cell_type": "code",
   "execution_count": null,
   "metadata": {
    "collapsed": true
   },
   "outputs": [],
   "source": [
    "!nvcc Mul_vectores.cu"
   ]
  },
  {
   "cell_type": "markdown",
   "metadata": {},
   "source": [
    "El resultado final tendría que ser igual a **333300.0**. Si tu resultado es correcto, ¡felicidades! has escrito correctamente tu primer código en CUDA C.\n",
    "\n",
    "En caso de que no logres encontrar el resultado correcto y ya estés harto de intentar, recuerda que nos puedes contactar a nuestros correos (que están en el primer notebook)."
   ]
  },
  {
   "cell_type": "code",
   "execution_count": 4,
   "metadata": {
    "collapsed": false
   },
   "outputs": [
    {
     "data": {
      "text/plain": [
       "333300.0"
      ]
     },
     "execution_count": 4,
     "metadata": {},
     "output_type": "execute_result"
    }
   ],
   "source": [
    "suma = 0.\n",
    "for i in xrange(100):\n",
    "    suma += i*(i+1)\n",
    "suma"
   ]
  },
  {
   "cell_type": "markdown",
   "metadata": {},
   "source": [
    "Este ejercicio tiene distintos objetivos. \n",
    "+ Hacer notar todos los elementos que un código de CUDA C ha de tener.\n",
    "+ Encontrar dentro del gran número de elementos que conforma un código de CUDA C, que la escencia de C no se ha ido (por ejemplo, la simplicidad del kernel)\n",
    "+ Ahondar en el tema de las dimensiones de `blocks` y `grids`, como a continuación será descrito."
   ]
  },
  {
   "cell_type": "markdown",
   "metadata": {},
   "source": [
    "Un ejercicio muy interesante dentro del que se acaba de realizar es perderle miedo a jugar con los `bloques`. Esto compilando el código para distintas dimensiones de `bloques` y `mallas`. \n",
    "\n",
    "En principio dos distintas dimensiones pueden dar el mismo resultado correcto, sin embargo más adelante veremos que la elección de una buena dimensión afecta en la optimización del código.\n",
    "\n",
    "Invitamos al lector a jugar no sólo con las dimensiones ya descritas, sino con otros elementos del código, con el fin que pierda el miedo de escribir lo que se le venga en mente. "
   ]
  }
 ],
 "metadata": {
  "kernelspec": {
   "display_name": "Python 2",
   "language": "python",
   "name": "python2"
  },
  "language_info": {
   "codemirror_mode": {
    "name": "ipython",
    "version": 2
   },
   "file_extension": ".py",
   "mimetype": "text/x-python",
   "name": "python",
   "nbconvert_exporter": "python",
   "pygments_lexer": "ipython2",
   "version": "2.7.9"
  }
 },
 "nbformat": 4,
 "nbformat_minor": 0
}
