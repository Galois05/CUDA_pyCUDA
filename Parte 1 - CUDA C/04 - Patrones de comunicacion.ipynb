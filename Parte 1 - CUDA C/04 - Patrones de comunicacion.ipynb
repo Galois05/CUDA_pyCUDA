{
 "cells": [
  {
   "cell_type": "markdown",
   "metadata": {},
   "source": [
    "# El modelo de programación en paralelo\n",
    "\n",
    "El lector podrá ahora darse cuenta por sí mismo que hay diferencias al programar en paralelo, con respecto a la forma usual. La principal de ellas es que el GPU no es un procesador serial, sino un procesador *stream*. Un procesador serial, también conocido como arquitectura de von Neumann, ejecuta instrucciones serialmente, actualizando la memoria a medida que avanza. Un procesador en *stream* funciona de una manera ligeramente diferente, ejecutando una función (tal como un fragmento de programa) en un conjunto de registros de entrada, produciendo un conjunto de registros de salida (e.g. pixeles sombreados) en paralelo. Los procesadores en stream, típicamente se refieren a dicha función como *kernel* y al conjunto de registros como *stream* (muy imaginativos). La información es lanzada al procesador, operada vía una función *kernel*, y sacada a la memoria, como se muestra en la figura 1. Cada elemento pasado al procesador es procesado independientemente, sin ser influido por los demás elementos. Esto permite a la arquitectura ejecutar un programa en paralelo sin la necesidad de exponer las unidades paralelas o cualquier construcción en paralelo al programador. Es por dicha razón que al escribir la función kernel en el capítulo pasado no notamos el paralelismo, no fue sino hasta el momento de lanzar el kernel que vimos esto.\n",
    "\n",
    "![](http://http.developer.nvidia.com/GPUGems/elementLinks/fig37-01.jpg)\n",
    "\n",
    "<h6 align=\"center\">Figura 1: Modelo de ejecución de un programa en el GPU (imagen tomada de los GPUGems de NVIDIA) </h6>\n",
    "\n",
    "Y qué tal si quisiésemos hacer física con esto, sería increíblemente incómodo que el único tipo de dato que pudiésemos manejar fuera el sombreado de un pixel; sin embargo, gracias a los avances en GPU se pueden manejar registros que no necesariamente son pixeles y sombreados; bien podría ser un conjunto arbitrario de datos, por ejemplo puntos de una red y ecuaciones fisicas. Digamos, que queremos implementar una simulación simple de partículas libres y dejar que el GPU lleve a cabo la mayor parte de las operaciones físicas. Usando texturas de punto flotante y buffers de pixel (pbuffers), guardamos la posición de las partículas, valocidades, y orientaciones. Un kernel hace los cálculos necesarios para obtener la nueva posición de cada partícula. Para calcular todas y cada una de las nuevas posiciones simplemente tomamos un cuadrante que tenga tantos pixeles como partículas, tal y como se muestra en la figura 2. Las coordenadas de textura para el cuadrante indican al kernel cuál de las partículas guardadas procesará. El resultado guardado en el pbuffer contiene los valores de las nuevas posiciones.\n",
    "\n",
    "![](http://http.developer.nvidia.com/GPUGems/elementLinks/fig37-02.jpg)\n",
    "\n",
    "<h6 align=\"center\">Figura 2: Ejemplo de un sistema de partículas (imagen tomada de los GPUGems de NVIDIA) </h6>\n",
    "\n",
    "Este ejemplo de un sistema de partículas demuestra una obvia pero útil aplicación del GPU para el cómputo de propósito general (GPGPU). La operación de actualizar la posición de las partículas puede generalizarse al proceso de aplicar una función a un arreglo. Esta operación - también llamada mapeo en lenguajes de programación funcional - puede ser usada para una amplia variedad de aplicaciones.\n",
    "\n",
    "Pero **¿qué es este mapeo del que tanto hablamos?**"
   ]
  },
  {
   "cell_type": "markdown",
   "metadata": {},
   "source": [
    "# Patrones de comunicación\n",
    "\n",
    "## Mapeo\n",
    "\n",
    "En el mapeo, una función opera en cada elemento de un arreglo de entrada y produce un resultado, por ejemplo sumar a cada entrada de un vector un número, o multiplicar todo el vector por una constante, con la conveniencia de que lo que se lee en la posición *i* de la entrada sirve para obtener el resultado que se escribe en la posición *i* de la salida. Para procesar todos los elementos de la entrada en paralelo, una función de mapeo debe ser pura. Esto quiere decir que genera exactamente el mismo resultado para la misma entrada, y que su ejecución no tiene efectos secundarios.\n",
    "\n",
    "Dado que no hay necesidad de sincronizar a los threads, y no se comparte información, el patrón de mapeo se ajusta perfectamente a arquitecturas paralelas, de muchos núcleos. En las implementaciones en paralelo de los patrones de mapeo, cada thread ejecuta una instancia de una función mapeo y genera su correspondiente resultado. Éste patron es usado en muchos dominios, incluyendo el procesamiento de imágenes, simulaciones financieras, simulaciones físicas, etc.\n",
    "\n",
    "A continuación mostramos un código para multiplicar un vector de 100 entradas (predefinidas del 1 al 100) por un escalar."
   ]
  },
  {
   "cell_type": "markdown",
   "metadata": {},
   "source": [
    "```C\n",
    "#include \"stdio.h\"\n",
    "#define N 100\n",
    "\n",
    "__global__ void add(int *a, int *c)\n",
    "{\n",
    "  int tID   = blockIdx.x;\n",
    "  if (tID < N)\n",
    "  {\n",
    "\tc[tID] = 3*a[tID];\n",
    "  }\n",
    "}\n",
    "\n",
    "int main()\n",
    "{\n",
    "\t\n",
    "  int a[N], c[N];\n",
    "  int *d_a, *d_c;\n",
    "\n",
    "  cudaMalloc((void **) &d_a, N*sizeof(int));\n",
    "  cudaMalloc((void **) &d_c, N*sizeof(int));\n",
    "\n",
    "  // Llenar el arreglo\n",
    "  for (int i = 0; i < N; i++)\n",
    "  {\n",
    "\ta[i] = i;\n",
    "  }\n",
    "\n",
    "  cudaMemcpy(d_a, a, N*sizeof(int), cudaMemcpyHostToDevice);\n",
    "\n",
    "  add<<<N,1>>>(d_a, d_c);\n",
    "\n",
    "  cudaMemcpy(c, d_c, N*sizeof(int), cudaMemcpyDeviceToHost);\n",
    "\n",
    "  for (int i = 0; i < N; i++)\n",
    "  {\n",
    "\tprintf(\"3*%d = %d\\n\", a[i], c[i]);\n",
    "  }\n",
    "  \n",
    "  return 0;\n",
    "  \n",
    "}```"
   ]
  },
  {
   "cell_type": "code",
   "execution_count": 1,
   "metadata": {
    "collapsed": false
   },
   "outputs": [],
   "source": [
    "!nvcc -o ./Programas/multEscalar ./Programas/multEscalar.cu"
   ]
  },
  {
   "cell_type": "code",
   "execution_count": 2,
   "metadata": {
    "collapsed": false
   },
   "outputs": [
    {
     "name": "stdout",
     "output_type": "stream",
     "text": [
      "3*0 = 0\r\n",
      "3*1 = 3\r\n",
      "3*2 = 6\r\n",
      "3*3 = 9\r\n",
      "3*4 = 12\r\n",
      "3*5 = 15\r\n",
      "3*6 = 18\r\n",
      "3*7 = 21\r\n",
      "3*8 = 24\r\n",
      "3*9 = 27\r\n",
      "3*10 = 30\r\n",
      "3*11 = 33\r\n",
      "3*12 = 36\r\n",
      "3*13 = 39\r\n",
      "3*14 = 42\r\n",
      "3*15 = 45\r\n",
      "3*16 = 48\r\n",
      "3*17 = 51\r\n",
      "3*18 = 54\r\n",
      "3*19 = 57\r\n",
      "3*20 = 60\r\n",
      "3*21 = 63\r\n",
      "3*22 = 66\r\n",
      "3*23 = 69\r\n",
      "3*24 = 72\r\n",
      "3*25 = 75\r\n",
      "3*26 = 78\r\n",
      "3*27 = 81\r\n",
      "3*28 = 84\r\n",
      "3*29 = 87\r\n",
      "3*30 = 90\r\n",
      "3*31 = 93\r\n",
      "3*32 = 96\r\n",
      "3*33 = 99\r\n",
      "3*34 = 102\r\n",
      "3*35 = 105\r\n",
      "3*36 = 108\r\n",
      "3*37 = 111\r\n",
      "3*38 = 114\r\n",
      "3*39 = 117\r\n",
      "3*40 = 120\r\n",
      "3*41 = 123\r\n",
      "3*42 = 126\r\n",
      "3*43 = 129\r\n",
      "3*44 = 132\r\n",
      "3*45 = 135\r\n",
      "3*46 = 138\r\n",
      "3*47 = 141\r\n",
      "3*48 = 144\r\n",
      "3*49 = 147\r\n",
      "3*50 = 150\r\n",
      "3*51 = 153\r\n",
      "3*52 = 156\r\n",
      "3*53 = 159\r\n",
      "3*54 = 162\r\n",
      "3*55 = 165\r\n",
      "3*56 = 168\r\n",
      "3*57 = 171\r\n",
      "3*58 = 174\r\n",
      "3*59 = 177\r\n",
      "3*60 = 180\r\n",
      "3*61 = 183\r\n",
      "3*62 = 186\r\n",
      "3*63 = 189\r\n",
      "3*64 = 192\r\n",
      "3*65 = 195\r\n",
      "3*66 = 198\r\n",
      "3*67 = 201\r\n",
      "3*68 = 204\r\n",
      "3*69 = 207\r\n",
      "3*70 = 210\r\n",
      "3*71 = 213\r\n",
      "3*72 = 216\r\n",
      "3*73 = 219\r\n",
      "3*74 = 222\r\n",
      "3*75 = 225\r\n",
      "3*76 = 228\r\n",
      "3*77 = 231\r\n",
      "3*78 = 234\r\n",
      "3*79 = 237\r\n",
      "3*80 = 240\r\n",
      "3*81 = 243\r\n",
      "3*82 = 246\r\n",
      "3*83 = 249\r\n",
      "3*84 = 252\r\n",
      "3*85 = 255\r\n",
      "3*86 = 258\r\n",
      "3*87 = 261\r\n",
      "3*88 = 264\r\n",
      "3*89 = 267\r\n",
      "3*90 = 270\r\n",
      "3*91 = 273\r\n",
      "3*92 = 276\r\n",
      "3*93 = 279\r\n",
      "3*94 = 282\r\n",
      "3*95 = 285\r\n",
      "3*96 = 288\r\n",
      "3*97 = 291\r\n",
      "3*98 = 294\r\n",
      "3*99 = 297\r\n"
     ]
    }
   ],
   "source": [
    "!./Programas/multEscalar"
   ]
  },
  {
   "cell_type": "markdown",
   "metadata": {},
   "source": [
    "En este punto la pregunta en el aire debe ser **¿Qué es `#define N 100`?** Bueno, simplemente definimos una constante que se llama *N* y que tiene como valor *100*.\n",
    "\n",
    "Otra cosa que llama la atención es que en el kernel tenemos esta parte\n",
    "\n",
    "```C\n",
    "if (tID < N)\n",
    "  {\n",
    "\tc[tID] = 3*a[tID];\n",
    "  }\n",
    "```\n",
    "\n",
    "Por el momento sólo explicaremos que esto se hace porque planeamos lanzar más de 100 threads. \"¿Por qué?\" es una pregunta que contestaremos más adelante. Por el momento sólo se necesita saber que ese `if` nos permite hacer trabajar solamente a los 100 primeros threads y deja a los otros sin hacer nada. ¿Qué pasaría si un thread con un índice mayor a 100 intenta ejecutar esto `c[tID] = 3*a[tID]`?\n",
    "\n",
    "Visto esto, **se deja como ejercicio al lector hacer un código (en la celda de abajo) que sume 3 a cada una de las entradas de un vector (pueden usar el vector que quieran, en especial el que hemos venido utilizando)**."
   ]
  },
  {
   "cell_type": "code",
   "execution_count": null,
   "metadata": {
    "collapsed": true
   },
   "outputs": [],
   "source": []
  },
  {
   "cell_type": "markdown",
   "metadata": {},
   "source": [
    "## Dispersar y reunir\n",
    "\n",
    "Los patrones dispersar (scatter) y reunir (gather) son similares a los patrones mapeo pero sus accesos a la memoria son aleatorios. Dispersar es una función mapeo que escribe en posiciones aleatorias, y reunir es la combinación de una función mapeo con accesos a memoria que leen de entradas aleatorias. Las implementacionesen paralelo de los patrones dispersar y reunir son similares a las implementaciones del mapeo. Dicho patrón se encuentra comunmente en aplicaciones estadísticas."
   ]
  },
  {
   "cell_type": "markdown",
   "metadata": {},
   "source": [
    "## Reducción\n",
    "\n",
    "Cuando una función combina todos los elementos de un arreglo de entrada para generar una salida única, se dice que está realizando una reducción. Si la función usada por el patrón de reducción es asociativa y conmutativa, por ejemplo, el [XOR](https://en.wikipedia.org/wiki/Exclusive_or), el orden en el cuál la operación de reducción es aplicada a las entradas no tiene importancia. En este caso, las implementaciones basadas en árboles pueden ser utilizadas para paralelizar dicha reducción. Las reducciones se pueden encontrar en diferentes áreas, como el aprendizaje de máquinas, física, y estadística; entre otras.\n",
    "\n",
    "Un ejemplo trivial de esto sería el promediar todas las entradas de un arreglo.\n",
    "\n",
    "**Ejercicio: Escribir un kernel que calcule dicho promedio**"
   ]
  },
  {
   "cell_type": "code",
   "execution_count": null,
   "metadata": {
    "collapsed": true
   },
   "outputs": [],
   "source": []
  },
  {
   "cell_type": "markdown",
   "metadata": {},
   "source": [
    "*Discuta consigo mismo, o con un amigo, ¿por qué podría no resultar buena idea realizar el promedio en el GPU?*\n",
    "\n",
    "Podemos obtener ayuda de nuestros amigos en los [foros de NVIDIA](https://devtalk.nvidia.com/default/topic/416372/performing-average-calculation-of-an-array-2048-2048-expedient-use-of-cuda-in-this-case-/)"
   ]
  },
  {
   "cell_type": "markdown",
   "metadata": {},
   "source": [
    "## Escaneo\n",
    "\n",
    "El escaneo aplica una función asociativa a un arreglo de entrada y genera un arreglo nuevo. Cada n-ésimo elemento del arreglo de salida es el resultado de aplicar la función escaneo a los primeros N (escaneo inclusivo) o N - 1 (escaneo exclusivo) elementos de entrada. El patrón de escaneo es usualmente utilizado en el contexto de procesamiento de señales, y aprendizaje de máquinas.\n",
    "\n",
    "*Discuta un ejemplo en donde se utilice el escaneo*"
   ]
  },
  {
   "cell_type": "markdown",
   "metadata": {},
   "source": [
    "## Stencil\n",
    "\n",
    "En un patrón \"stencil\", cada elemento de salida es calculado aplicando la función a su correspondiente elemento en el arreglo de entrada, y a sus vecinos. Éste patrón es útil por ejemplo para hacer borrosa una imagen; si decidimos que en nuestra nueva imagen cada pixel tendrá el color del pixel que estaba originalmente en ese lugar promediado con el color de sus vecinos. Este patrón es usualmente encontrado en procesamiento de imágenes y física.\n",
    "\n",
    "*¿Habrá algún juego divertido en el que el patrón stencil sea útil?*"
   ]
  },
  {
   "cell_type": "markdown",
   "metadata": {},
   "source": [
    "## Partición\n",
    "\n",
    "El patrón de partición (o \"tile\") es similar al patrón stencil. El arreglo de entrada es separado en particiones y cada partición es procesada de manera separada. Cada partición es completamente independiente de las otras. Particionar es utilizando comunmente en aplicaciones que tienen paralelismo de datos para utilizar eficientemente las arquitecturas intrínsecas de jerarquía de memoria y así mejorar el rendimiento. Éste patrón es utilizado comunmente en dominios como procesamiento de imágenes, procesamiento de señales, y modelación en física. Más adelante en las notas se mostrará un ejemplo para exhibir la importancia de este patrón de comunicación.\n"
   ]
  },
  {
   "cell_type": "markdown",
   "metadata": {},
   "source": [
    "# ¿En qué orden se ejecutan los threads?\n",
    "\n",
    "Esta pregunta no nos llega a la mente en primera instancia, por el hecho de que estamos demasiado acostumbrados a que en la programación serial el orden de ejecución es el orden que se muestra en el código, la computadora no tiene mucho control sobre eso. En programación en paralelo esta cuestión nos preocupa, ¿en qué orden se ejecutarán los threads?\n",
    "\n",
    "Bueno, veámoslo. El siguiente kernel simplemente imprime el índice del bloque en que está el thread que se ejecuta."
   ]
  },
  {
   "cell_type": "markdown",
   "metadata": {},
   "source": [
    "```C\n",
    "#include <stdio.h>\n",
    "\n",
    "#define NUM_BLOCKS 16\n",
    "#define ANCHURA_BLOCK 1\n",
    "\n",
    "__global__ void hola()\n",
    "{\n",
    "    printf(\"Hola mundo! Soy un thread en el bloque %d\\n\", blockIdx.x);\n",
    "}\n",
    "\n",
    "\n",
    "int main(int argc,char **argv)\n",
    "{\n",
    "    // lanzar el kernel\n",
    "    hola<<<NUM_BLOCKS, ANCHURA_BLOCK>>>();\n",
    "\n",
    "    // forzar a los printf() para que se muestren\n",
    "    cudaDeviceSynchronize();\n",
    "\n",
    "    printf(\"Eso es todo amigos!\\n\");\n",
    "\n",
    "    return 0;\n",
    "}```"
   ]
  },
  {
   "cell_type": "markdown",
   "metadata": {},
   "source": [
    "Lo compilamos, esta vez con la bandera `-arch sm_20` para especificar que compilamos en esta arquitectura, esto nos permite compilar sin problemas con la función `printf`. Se le sugiere al lector intentar la compilacion sin dicha bandera para que se familiarice con este tipo de errores de compilación."
   ]
  },
  {
   "cell_type": "code",
   "execution_count": null,
   "metadata": {
    "collapsed": false
   },
   "outputs": [],
   "source": [
    "!nvcc -arch sm_20 -o ./Programas/orden ./Programas/orden.cu"
   ]
  },
  {
   "cell_type": "code",
   "execution_count": null,
   "metadata": {
    "collapsed": false
   },
   "outputs": [],
   "source": [
    "!./Programas/orden"
   ]
  },
  {
   "cell_type": "code",
   "execution_count": null,
   "metadata": {
    "collapsed": false
   },
   "outputs": [],
   "source": [
    "!./Programas/orden"
   ]
  },
  {
   "cell_type": "code",
   "execution_count": null,
   "metadata": {
    "collapsed": false
   },
   "outputs": [],
   "source": [
    "!./Programas/orden"
   ]
  },
  {
   "cell_type": "markdown",
   "metadata": {},
   "source": [
    "Como podemos ver no se ejecutan en un orden predefinido, y ciertamente no lo hacen siempre en el mismo orden. ¿Esto puede ser problemático? **Sí**, sin embargo más adelante (en el capítulo 5) veremos una forma de lidiar con este problema."
   ]
  },
  {
   "cell_type": "markdown",
   "metadata": {},
   "source": [
    "# Referencias\n",
    "\n",
    "1. [Curso de Udacity - Intro to Parallel Programming](https://www.udacity.com/course/intro-to-parallel-programming--cs344)\n",
    "2. [GPUGems - Capítulo 37](http://http.developer.nvidia.com/GPUGems/gpugems_ch37.html)\n",
    "3. [Paraprox: Pattern-Based Approximation for Data Parallel Applications](http://cccp.eecs.umich.edu/papers/samadi-asplos14.pdf)"
   ]
  },
  {
   "cell_type": "markdown",
   "metadata": {},
   "source": [
    "# Materiales adicionales\n",
    "\n",
    "1. [GPUGems](http://developer.nvidia.com/object/gpu_gems_home.html)\n",
    "2. [gpgpu.org](http://gpgpu.org/)"
   ]
  }
 ],
 "metadata": {
  "kernelspec": {
   "display_name": "Python 2",
   "language": "python",
   "name": "python2"
  },
  "language_info": {
   "codemirror_mode": {
    "name": "ipython",
    "version": 2
   },
   "file_extension": ".py",
   "mimetype": "text/x-python",
   "name": "python",
   "nbconvert_exporter": "python",
   "pygments_lexer": "ipython2",
   "version": "2.7.6"
  }
 },
 "nbformat": 4,
 "nbformat_minor": 0
}
