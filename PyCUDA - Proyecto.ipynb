{
 "metadata": {
  "name": "",
  "signature": "sha256:4bb4692cb4be795ebabb0ab22d152e46d3dc1b3098f33bf68722a4e7648eef22"
 },
 "nbformat": 3,
 "nbformat_minor": 0,
 "worksheets": [
  {
   "cells": [
    {
     "cell_type": "heading",
     "level": 1,
     "metadata": {},
     "source": [
      "Implementando CUDA C en el IPython Notebook"
     ]
    },
    {
     "cell_type": "heading",
     "level": 2,
     "metadata": {},
     "source": [
      "1. \u00bfPor qu\u00e9 hacerlo?"
     ]
    },
    {
     "cell_type": "markdown",
     "metadata": {},
     "source": [
      "Hubo un tiempo en el pasado no muy lejano en que el c\u00f3mputo en paralelo era visto como una persecuci\u00f3n \"ex\u00f3tica\" y t\u00edpicamente ligada con especialidades dentro del campo de las ciencias de la computaci\u00f3n. Esta percepci\u00f3n ha cambiado profundamente en los a\u00f1os recientes. El mundo del c\u00f3mputo ha cambiado al punto en donde, lejos de ser una persecuci\u00f3n esot\u00e9rica, casi todo programador ne\u00f3fito *necesita* entrenamiento en programaci\u00f3n en paralelo para ser completamente eficaz en ciencias de la computaci\u00f3n.\n",
      "\n",
      "Durante 30 a\u00f1os, uno de los m\u00e9todos importantes para mejorar el rendimiento de aparatos computadores ha sido incrementar la velocidad a la cual opera el reloj del procesador. Empezando con las primeras computadoras personales a principios de los 80, estas computadoras corr\u00edan con relojes internos operando alrededor de 1MHz. En la actualidad, la mayor\u00eda de los procesadores para computadora cuentan con velocidades entre 1 y 4GHz, cerca de mil veces m\u00e1s r\u00e1pido que los relojes arcaicos; sin embargo, resulta que \u00e9sta no es la \u00fanica manera de mejorar el rendimiento, ni el \u00fanico problema. Con el avance de las computadoras se hizo necesaria tambi\u00e9n una mejora en la calidad de los gr\u00e1ficos, sobre todo en la industria de los videojuegos. Es con este fin que se hizo imperativo contar con aceleradores de gr\u00e1ficos al alcance del jugador promedio, es en este contexto que a finales de la d\u00e9cada de los 90, NVIDIA (empresa desarrolladora de CUDA) lanza al mercado su tarjeta *GeForce 256*.\n",
      "\n",
      "El lanzamiento de unidades de procesamiento gr\u00e1fico (GPU) atrajo a muchos investigadores a la posibilidad de usar estas tarjetas para fines m\u00e1s nobles y quiz\u00e1 menos divertidos. A principios de\n",
      "la d\u00e9cada del 2000 los GPUs estaban dise\u00f1ados exclusivamente para producir colores y asignarlos a\n",
      "cada pixel en la pantalla usando cierto tipo de aritm\u00e9tica. Eventualmente los investigadores encontraron maneras de calcular cosas utilizando pixeles; estos dieron resultados muy prometedores en cuanto a rendimiento, sin embargo puede parecer un trabajo miserable tener que inventar un m\u00e9todo que relacione colores con operaciones elementales sobre todo al momento de analizar datos. Para terminar con el sufrimiento, aproximadamente 6 a\u00f1os despu\u00e9s del lanzamiento de la *GeForce 256* NVIDIA lanz\u00f3 la *GeForce 8800 GTX*, que se convirti\u00f3 en la primer tarjeta con la nueva arquitectura CUDA.\n",
      "\n",
      "Desde su debut, una gran variedad de industrias han tenido gran \u00e9xito al elegir construir aplicaciones escritas en CUDA C. Adem\u00e1s, las aplicaciones corriendo en procesadores gr\u00e1ficos\n",
      "cuentan con un mayor rendimiento por peso (dinero) y por watt.\n",
      "\n",
      "Ha permitido tambi\u00e9n alcanzar simplemente con tarjetas gr\u00e1ficas el rendimiento de supercomputadores de generaciones no muy viejas, como ejemplo tenemos a Graham Pullan\n",
      "y Tobias Brandvik de la Universidad de Cambridge quienes identificaron el potencial de CUDA para acelerar la din\u00e1mica computacional de fluidos. Eventualmente el uso de clusters de GPUs sobrepas\u00f3 al rendimiento de sus supercomputadoras m\u00e1s costosas.\n",
      "\n",
      "Estas son, entre otras, las razones de por qu\u00e9 CUDA es un lenguaje importante en la ciencia moderna, y por qu\u00e9 es \u00fatil tener nociones de programaci\u00f3n en paralelo."
     ]
    },
    {
     "cell_type": "heading",
     "level": 2,
     "metadata": {},
     "source": [
      "2. \u00bfQu\u00e9 se har\u00e1?"
     ]
    },
    {
     "cell_type": "markdown",
     "metadata": {},
     "source": [
      "Con el objetivo de apoyar al desarrollo del libro electr\u00f3nico de sistemas din\u00e1micos con el uso del IPython Notebook, se desarrollar\u00e1 la parte concerniente a la paqueter\u00eda PyCUDA que permite trabajar de manera simbi\u00f3tica a dos lenguajes de programaci\u00f3n importantes: CUDA C y Python. \n",
      "\n",
      "Para esto es necesario escribir una serie de Notebooks que expliquen, a manera de introducci\u00f3n; c\u00f3mo es la programaci\u00f3n en un lenguaje como CUDA, as\u00ed como el manejo de los recursos de Hardware por parte del mismo, en especial el manejo de GPUs. Esto se puede resumir en los siguientes puntos: \n",
      "\n",
      "- Primer uso de procesadores gr\u00e1ficos en c\u00f3mputo cient\u00edfico.\n",
      "- Nacimiento de CUDA.\n",
      "- Comunicaci\u00f3n CPU-GPU y viceversa.\n",
      "- Utilizaci\u00f3n de Hardware por parte de CUDA.\n",
      "- Sintaxis.\n",
      "- Comandos b\u00e1sicos.\n",
      "- Problemas paralelizables.\n",
      "- Cambio de paradigma: de programaci\u00f3n en serie a programaci\u00f3n en paralelo.\n",
      "- Paralelizaci\u00f3n de problemas.\n",
      "- Uso eficiente de memoria.\n",
      "\n",
      "Adem\u00e1s de recalcar la motivaci\u00f3n para usar un lenguaje de programaci\u00f3n en paralelo que utilice procesadores gr\u00e1ficos y las ventajas que se pueden obtener al utilizar \u00e9stos, haciendo \u00e9nfasis en las mejoras logradas en cierto tipo de problemas relacionados con sistemas din\u00e1micos al implementar CUDA. \n",
      "\n",
      "Posteriormente a la parte introductoria del lenguaje CUDA se har\u00e1n otros Notebooks para mostrar el uso de la paqueter\u00eda PyCUDA. \n",
      "En estos se detalla lo siguiente:\n",
      "\n",
      "- Comunicaci\u00f3n entre IPython y CUDA.\n",
      "- Sintaxis b\u00e1sica.\n",
      "- Llamadas al procesador gr\u00e1fico.\n",
      "- Por qu\u00e9 no siempre es \u00fatil hacer todo en GPU.\n",
      "- Programaci\u00f3n eficiente combinando CPU y GPU.\n",
      "\n",
      "Como siguiente punto se presentar\u00e1n algunos Notebooks con problemas *vergonzosamente paralelizables* que ejemplifiquen el uso de PyCUDA; tales como:\n",
      "\n",
      "- Caminatas aleatorias y el problema de la ruina.\n",
      "- Percolaci\u00f3n.\n",
      "- Ataques de fuerza bruta en criptograf\u00eda.\n",
      "- Algoritmos gen\u00e9ticos."
     ]
    }
   ],
   "metadata": {}
  }
 ]
}