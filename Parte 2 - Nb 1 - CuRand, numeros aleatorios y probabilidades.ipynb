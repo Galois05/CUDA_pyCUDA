{
 "cells": [
  {
   "cell_type": "markdown",
   "metadata": {},
   "source": [
    "Bienvenidos a la segunda parte de estas notas. El objetivo de este y los siguiente notebooks será de profundizar en el manejo de la computación en paralelo usando CUDA C y aprender (o revisar) algunos tópicos de física estadística."
   ]
  },
  {
   "cell_type": "markdown",
   "metadata": {},
   "source": [
    "Al final del notebook se preguntarán si en realidad este no pertenece a la primera parte de las notas, puesto que por el momento no veremos todavía nada de física y nos dedicaremos únicamente a aprender a utilizar algunas herramientas de CUDA. Lo cierto es que estas herramientas son básicas en los ejemplos físicos que daremos, así que no desesperen y aprendamos a generar *números aleatorios* dentro de nuestros `kernels`. "
   ]
  },
  {
   "cell_type": "markdown",
   "metadata": {},
   "source": [
    "##  Librería cuRAND"
   ]
  },
  {
   "cell_type": "markdown",
   "metadata": {},
   "source": [
    "Como ya seguro sabrán, las computadoras no pueden en realidad generar números **aleatorios** *per se*, sino que generan números *pseudoaleatorios* o *cuasialeatorios*. Esto debido al determinismo de la computadora misma. \n",
    "\n",
    "Sin embargo los matemáticos y computólogos han trabajado durante décadas para poder crear algoritmos que creen números lo suficientemente *aleatorios*. Hasta hoy, el algoritmo preferido por todos aquellos que trabajan en estadística es el **Mersenne Twister** creado en el Japón a finales del milenio pasado. Para un poco más de información sobre esto revisa las referencias de este notebook.\n",
    "\n",
    "CUDA ha decidido utilizar en su librería `cuRAND` otros generadores tales como el *XORWOW* o el *SOBOL*. Pero no nos metamos en eso. Hasta hace unas versiones, el generador *MT* no estaba disponible en `device API`. Afortunadamente han corregido eso."
   ]
  },
  {
   "cell_type": "markdown",
   "metadata": {},
   "source": [
    "**cuRAND** fue creada para la utilización de `CUDA` en otros ambientes tales como los financieros, matemáticos, físicos donde la estadística puede ser pan de cada día. \n",
    "\n",
    "Para todos aquellos ingenuos mal acostumbrados (como nosotros en un principio) que piensan que únicamente basta con poner en el `kernel` algo así como\n",
    "\n",
    "```C\n",
    "\n",
    "__global__ void Aleatorio(int n, float *d_A) \n",
    "{\n",
    "    idx = blockDim.x*blockIdx.x + threadIdx.x ;\n",
    "    \n",
    "    d_A[idx] = rand() ;\n",
    "    \n",
    "}\n",
    "\n",
    "```\n",
    "\n",
    "Pues están equívocados. El proceso es más complicado que eso y hay algunos detalles extras que poner."
   ]
  },
  {
   "cell_type": "markdown",
   "metadata": {},
   "source": [
    "### Host API y device API"
   ]
  },
  {
   "cell_type": "markdown",
   "metadata": {},
   "source": [
    "Uno de los primeros detalles a comentar es a la hora de compilar. al usar la librería `cuRAND` uno tiene escribir la bandera `-lcurand` en la línea `nvcc`."
   ]
  },
  {
   "cell_type": "code",
   "execution_count": null,
   "metadata": {
    "collapsed": true
   },
   "outputs": [],
   "source": [
    "nvcc mi_primer_programa.cu -lcurand"
   ]
  },
  {
   "cell_type": "markdown",
   "metadata": {},
   "source": [
    "De la misma manera, en el programa se tiene que incluir la librería escribiendo \n",
    "```C\n",
    "#include <curand.h>\n",
    "```"
   ]
  },
  {
   "cell_type": "markdown",
   "metadata": {},
   "source": [
    "Una de las diferencias esenciales entre usar `Host API` y `Device API` es el dinamismo del problema. Si de entrada uno sabe la cantidad de números aleatorios y no desea controlar esta cantidad, `Host API` puede llegar a ser más conveniente y práctico. Sin embargo, si uno no sabe la cantidad de número aleatorios que necesitara y desea tener un mayor control sobre el programa, `Device API`, aunque más tedioso y complejo, traerá mayores ventajas."
   ]
  },
  {
   "cell_type": "markdown",
   "metadata": {},
   "source": [
    "+ **Host API**"
   ]
  },
  {
   "cell_type": "markdown",
   "metadata": {},
   "source": [
    "El procedimiento es en realidad bastante sencillo. \n",
    "+ En primer lugar se tiene que crear un generador de números aleaatorios. Este tipo de variable es de tipo `curandRandGenerator_t`.\n",
    "+ Luego se aloja en el `GPU` la memoria que será destinada a los números aleatorios con `cudaMalloc()`.\n",
    "+ Aquí viene lo delicado. Hay que definir a nuestro generador usando las funciones `curandCreateGenerator()` y `curandSetPseudoRandomGeneratorSeed`().\n",
    "+ Se manda la orden de crear una cierta cantidad de números aleatorios en el `GPU` mediante `curandGenerateUniform()`.\n",
    "\n",
    "En este último paso hay distintas opciones para generar números aleatorios en distintas distribuciones. En nuestra lista utilizamos una distribución uniforme, pero también las hay *normal* bajo `curandGenerateNormal()` o *log-normal* con `curandGenerateLogNormal()`.\n",
    "\n",
    "Cada una de estas distribuciones tiene la opción de dar un número con precisión `doble` agregando `Double` al final del nombre de la función, como en `curandGenerateLogNormalDouble()`.\n",
    "También hay la opción de dar dúplas de números aleatorios (bastante útil) agregando un `2` al final del nombre de la función, como en `curandGenerateNormal2()`.\n",
    "\n",
    "+ Finalmente hay que limpiar todo. Análogamente a `cudaFree()` y `free()`, en `cuRAND` tenemos `curandDestroyGenerator()`."
   ]
  },
  {
   "cell_type": "markdown",
   "metadata": {},
   "source": [
    "Mostremos un ejemplo sencillo para irnos acostumbrando a esto."
   ]
  },
  {
   "cell_type": "markdown",
   "metadata": {},
   "source": [
    "```C\n",
    "\n",
    "// Este programa utiliza cuRAND para generar 10 números aleatorios\n",
    "\n",
    "#include<stdio.h>\n",
    "#include<stdlib.h>\n",
    "#include<cuda.h>\n",
    "#include<curand.h>\n",
    "\n",
    "int main ( int argc, char ∗argv[] ) {\n",
    "     int n = 10 ;\n",
    "     curandGenerator_t gen ; // Creamos la variable gen que será nuestro generador\n",
    "     float ∗devData, ∗hostData ;\n",
    "\n",
    "    \n",
    "     hostData = (float∗)calloc(n, sizeof(float) ) ; // Alocación de 10 floats en el CPU\n",
    "     cudaMalloc( (void ∗∗) &devData, n∗sizeof(float) ) ; // Alocación de la memoria en el GPU\n",
    "     \n",
    "     curandCreateGenerator(&gen, CURAND_RNG_PSEUDO_MTGP32) ; // Creación de un generador MT\n",
    "     curandSetPseudoRandomGeneratorSeed(gen, 1234ULL) ; // Ajustamos la semilla o seed\n",
    "     curandGenerateUniform(gen, devData, n) ; // Generamos los números aleatorios en el GPU\n",
    "\n",
    "     cudaMemcpy( hostData, devData, n∗sizeof(float), cudaMemcpyDeviceToHost ) ;\n",
    "\n",
    "      // Unas líneas para mostrar los resultados\n",
    "     printf( ”Distribucion uniforme entre 0. y 1.:\\n” ) ;\n",
    "     for( int i = 0 ; i < n ; i ++) \n",
    "     {\n",
    "         printf(”%1.4f\\n”, hostData[i]) ;\n",
    "     }\n",
    "     printf( ”\\n” ) ;\n",
    "\n",
    "     curandDestroyGenerator(gen) ;\n",
    "     cudaFree(devData) ;\n",
    "     free(hostData) ;\n",
    "}\n",
    "\n",
    "\n",
    "```\n",
    "\n",
    "Este código lo colocamos en un archivo llamado host_api.cu"
   ]
  },
  {
   "cell_type": "code",
   "execution_count": null,
   "metadata": {
    "collapsed": true
   },
   "outputs": [],
   "source": [
    "nvcc host_api.cu -lcurand -o host_api"
   ]
  },
  {
   "cell_type": "code",
   "execution_count": null,
   "metadata": {
    "collapsed": true
   },
   "outputs": [],
   "source": [
    "./host_api"
   ]
  },
  {
   "cell_type": "markdown",
   "metadata": {},
   "source": [
    "+ **Device API**"
   ]
  },
  {
   "cell_type": "markdown",
   "metadata": {},
   "source": [
    "Como mencionamos anteriormente, `Device API` nos da el control sobre todos los generadores y \"números aleatorios\" que creamos en el `GPU`. Pero mayores poderes conllevan mayores responsabilidades, por lo que el código se vuelve a primera vista un poco más complicado, sin embargo la idea de fondo es bastante sencilla."
   ]
  },
  {
   "cell_type": "markdown",
   "metadata": {},
   "source": [
    "A diferencia de `Host API`, en este caso habrá que escribir un `kernel` el cual se encarge de iniciar un *generador* distinto en cada `thread` que vayamos a ocupar. Este `kernel` tiene la forma siguiente:\n",
    "\n",
    "```C\n",
    "\n",
    "__global__ Init( curandState * state) \n",
    "{\n",
    "    idx = blockDim.x*blockIdx.x + threadIdx.x ;\n",
    "    curandinit( 1234, idx, 0, state[idx]) ;\n",
    "}\n",
    "```\n",
    "\n",
    "Veamos. Los generadores que había en nuestro ejemplo `Host API` han sido remplazados por las variables tipo `State`. En este ejemplo hemos usado un *generador de números pseudo-aleatorios* (el predefinido para `Device API` es *XORWOW*, para *MT* lo haremos más adelante) . La variable se declara en el `host` como `curandState`. Claro hay también otro tipo de generadores, que pueden ser consultados en la documentación.\n",
    "\n",
    "La segunda cosa que salta a la vista es la función `curandinit()` la cual coloca en cada `thread` un generador. Los cuatro argumentos de `curandinit()` se refieren a:\n",
    "+ la `semilla` o `seed` del generador.\n",
    "+ la sub-secuencia. Esto es lo que nos permite asegurar que cada `thread` no generará la misma cadena de números aleatorios.\n",
    "+ el `offset`, el cual para fines prácticos lo anularemos.\n",
    "+ el generador que se le asigna a cada una de los `threads`.\n",
    "\n"
   ]
  },
  {
   "cell_type": "markdown",
   "metadata": {},
   "source": [
    "+ segundo kernel\n",
    "+ como se ve el int main\n",
    "+ MT"
   ]
  },
  {
   "cell_type": "markdown",
   "metadata": {},
   "source": [
    "## Referencias"
   ]
  },
  {
   "cell_type": "markdown",
   "metadata": {},
   "source": [
    "+ La documentación completa de cuRAND se encuentra [aquí](http://hpc.oit.uci.edu/nvidia-doc/sdk-cuda-doc/CUDALibraries/doc/CURAND_Library.pdf)\n",
    "+ Sobre [Pseudo-aleatoriedad](https://en.wikipedia.org/wiki/Pseudorandomness) y [Generadores de Números Pseudo-aleatorios (PNG)](https://en.wikipedia.org/wiki/Pseudorandom_number_generator)\n",
    "+ Sobre [Cuasi-aleatoriedad](https://en.wikipedia.org/wiki/Low-discrepancy_sequence). También [aquí](http://mathworld.wolfram.com/QuasirandomSequence.html) hay más info.\n",
    "+ Un poco más de información sobre Mersenne Twister en su [Wiki](https://en.wikipedia.org/wiki/Mersenne_Twister)"
   ]
  },
  {
   "cell_type": "code",
   "execution_count": null,
   "metadata": {
    "collapsed": true
   },
   "outputs": [],
   "source": []
  }
 ],
 "metadata": {
  "kernelspec": {
   "display_name": "Python 2",
   "language": "python",
   "name": "python2"
  },
  "language_info": {
   "codemirror_mode": {
    "name": "ipython",
    "version": 2
   },
   "file_extension": ".py",
   "mimetype": "text/x-python",
   "name": "python",
   "nbconvert_exporter": "python",
   "pygments_lexer": "ipython2",
   "version": "2.7.9"
  }
 },
 "nbformat": 4,
 "nbformat_minor": 0
}
