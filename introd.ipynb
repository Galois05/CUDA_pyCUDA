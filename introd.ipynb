{
 "metadata": {
  "name": "",
  "signature": "sha256:76782ef6e803cfadb58ba1f885dcdc36fda508887d7fec9d80f70b75378167f4"
 },
 "nbformat": 3,
 "nbformat_minor": 0,
 "worksheets": []
}