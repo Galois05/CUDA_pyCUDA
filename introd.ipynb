{
 "metadata": {
  "name": "",
  "signature": "sha256:acfd37add4624d5a827f2496b1033de21519fe47be25f75f835b708787c19882"
 },
 "nbformat": 3,
 "nbformat_minor": 0,
 "worksheets": [
  {
   "cells": [
    {
     "cell_type": "markdown",
     "metadata": {},
     "source": [
      "Hola"
     ]
    }
   ],
   "metadata": {}
  }
 ]
}