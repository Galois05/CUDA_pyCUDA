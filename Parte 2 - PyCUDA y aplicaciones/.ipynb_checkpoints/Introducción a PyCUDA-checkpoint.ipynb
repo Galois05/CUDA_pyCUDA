{
 "cells": [
  {
   "cell_type": "markdown",
   "metadata": {},
   "source": [
    "# ¿Por qué PyCUDA?\n",
    "\n",
    "Hasta ahora hemos visto que si bien CUDA no es un lenguaje imposible de aprender, puede llegar a ser un dolor de cabeza el tener muchos apuntadores y manejar la memoria de un modo tan rudimentario.\n",
    "\n",
    "Sin embargo hay alternativas que nos permiten trabajar en entornos más agradables, un ejemplo de ellos es [PyCUDA](http://mathema.tician.de/software/pycuda/) creado con [Andreas Klöckner](http://mathema.tician.de/). Básicamente PyCUDA se encarga de mapear todo CUDA dentro de Python. \n",
    "\n",
    "Por poner un ejemplo, un código simple sería el siguiente\n",
    "\n",
    "```python\n",
    "import pycuda.autoinit\n",
    "import pycuda.driver as drv\n",
    "import numpy\n",
    "\n",
    "from pycuda.compiler import SourceModule\n",
    "mod = SourceModule(\"\"\"\n",
    "__global__ void multiplicar(float *dest, float *a, float *b)\n",
    "{\n",
    "  const int i = threadIdx.x;\n",
    "  dest[i] = a[i] * b[i];\n",
    "}\n",
    "\"\"\")\n",
    "\n",
    "multiplicar = mod.get_function(\"multiplicar\")\n",
    "\n",
    "a = numpy.random.randn(400).astype(numpy.float32)\n",
    "b = numpy.random.randn(400).astype(numpy.float32)\n",
    "\n",
    "dest = numpy.zeros_like(a)\n",
    "\n",
    "multiplicar(\n",
    "        drv.Out(dest), drv.In(a), drv.In(b),\n",
    "        block=(400,1,1), grid=(1,1))\n",
    "\n",
    "print dest-a*b\n",
    "\n",
    "```\n",
    "\n",
    "Al correr este programa vamos a obtener un montón de ceros; algo no muy interesante. Sin embargo detrás de escenas sí pasó algo interesante.\n",
    "\n",
    "- PyCUDA compiló el código fuente y lo cargó a la tarjeta.\n",
    "- Se asignó memoria automáticamente, además de copiar las cosas de CPU a GPU y de vuelta.\n",
    "- Por último la limpieza (liberación de memoria) se hace sola.\n",
    "\n",
    "**Útil ¿cierto?**"
   ]
  },
  {
   "cell_type": "markdown",
   "metadata": {},
   "source": [
    "# Usando PyCUDA\n",
    "\n",
    "Para empezar debemos importar e incializar PyCUDA\n",
    "\n",
    "```python \n",
    "import pycuda.driver as cuda\n",
    "import pycuda.autoinit\n",
    "from pycuda.compiler import SourceModule\n",
    "```\n",
    "\n",
    "## Transferir datos\n",
    "\n",
    "The next step in most programs is to transfer data onto the device. In PyCuda, you will mostly transfer data from numpy arrays on the host. (But indeed, everything that satisfies the Python buffer interface will work, even a str.) Let’s make a 4x4 array of random numbers:\n",
    "\n",
    "import numpy\n",
    "a = numpy.random.randn(4,4)\n",
    "\n",
    "El siguiente paso es transferir datos al GPU. Principalmente arreglos de numpy. Por ejemplo, tomemos un arreglo de números aleatorios de $4 \\times 4$"
   ]
  }
 ],
 "metadata": {
  "kernelspec": {
   "display_name": "Python 3",
   "language": "python",
   "name": "python3"
  },
  "language_info": {
   "codemirror_mode": {
    "name": "ipython",
    "version": 3
   },
   "file_extension": ".py",
   "mimetype": "text/x-python",
   "name": "python",
   "nbconvert_exporter": "python",
   "pygments_lexer": "ipython3",
   "version": "3.4.1"
  }
 },
 "nbformat": 4,
 "nbformat_minor": 0
}
