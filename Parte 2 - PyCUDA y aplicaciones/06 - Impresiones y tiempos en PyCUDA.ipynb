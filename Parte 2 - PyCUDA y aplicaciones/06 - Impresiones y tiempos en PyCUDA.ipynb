{
 "cells": [
  {
   "cell_type": "markdown",
   "metadata": {},
   "source": [
    "# Impresiones\n",
    "\n",
    "Si uno desea que el kernel imprima algo mientras se ejecuta se tiene que hacer uso de printf que es la función utilizada en C y CUDA para imprimir. Sin embargo hay recordar algunas cosas. En primer lugar, printf imprime cosas en la consola, es por eso que el lector notará al ejecutar la siguiente celda, que incluso cuando en el kernel le estamos ordenando que imprima, en el notebook no obtenemos nada. A primera vista parecería un error garrafal, sin embargo si comentáramos la primer linea (la que comienza con `%%writefile`), al revisar la consola desde la cuál abrimos el notebook se observaría que los resultados esperados se han impreso ahí. Ejecutemos la siguiente celda, con el comando mágico `%%writefile` para escribir el contenido de la celda en un archivo."
   ]
  },
  {
   "cell_type": "code",
   "execution_count": 1,
   "metadata": {
    "collapsed": false
   },
   "outputs": [
    {
     "name": "stdout",
     "output_type": "stream",
     "text": [
      "Writing ./Programas/saludar.py\n"
     ]
    }
   ],
   "source": [
    "%%writefile ./Programas/saludar.py\n",
    "import pycuda.driver as cuda\n",
    "import pycuda.autoinit\n",
    "from pycuda.compiler import SourceModule\n",
    "\n",
    "mod = SourceModule(\"\"\"\n",
    "    #include <stdio.h>\n",
    "\n",
    "    __global__ void saluda()\n",
    "    {\n",
    "      printf(\"Mi indice x es %d, mi indice en y es %d\\\\n\", threadIdx.x, threadIdx.y);\n",
    "    }\n",
    "    \"\"\")\n",
    "\n",
    "func = mod.get_function(\"saluda\")\n",
    "func(block=(4,4,1))"
   ]
  },
  {
   "cell_type": "markdown",
   "metadata": {},
   "source": [
    "Ahora ejecutemos el programa"
   ]
  },
  {
   "cell_type": "code",
   "execution_count": 2,
   "metadata": {
    "collapsed": false
   },
   "outputs": [
    {
     "name": "stdout",
     "output_type": "stream",
     "text": [
      "Mi indice x es 0, mi indice en y es 0\r\n",
      "Mi indice x es 1, mi indice en y es 0\r\n",
      "Mi indice x es 2, mi indice en y es 0\r\n",
      "Mi indice x es 3, mi indice en y es 0\r\n",
      "Mi indice x es 0, mi indice en y es 1\r\n",
      "Mi indice x es 1, mi indice en y es 1\r\n",
      "Mi indice x es 2, mi indice en y es 1\r\n",
      "Mi indice x es 3, mi indice en y es 1\r\n",
      "Mi indice x es 0, mi indice en y es 2\r\n",
      "Mi indice x es 1, mi indice en y es 2\r\n",
      "Mi indice x es 2, mi indice en y es 2\r\n",
      "Mi indice x es 3, mi indice en y es 2\r\n",
      "Mi indice x es 0, mi indice en y es 3\r\n",
      "Mi indice x es 1, mi indice en y es 3\r\n",
      "Mi indice x es 2, mi indice en y es 3\r\n",
      "Mi indice x es 3, mi indice en y es 3\r\n"
     ]
    }
   ],
   "source": [
    "!ipython ./Programas/saludar.py"
   ]
  },
  {
   "cell_type": "markdown",
   "metadata": {},
   "source": [
    "Por último hagamos un kernel que imprima más datos acerca del thread, como su índice de bloque, la dimensión del bloque, y sus índices dentro del bloque."
   ]
  },
  {
   "cell_type": "code",
   "execution_count": 3,
   "metadata": {
    "collapsed": false
   },
   "outputs": [
    {
     "name": "stdout",
     "output_type": "stream",
     "text": [
      "Writing ./Programas/saludar_bloques.py\n"
     ]
    }
   ],
   "source": [
    "%%writefile ./Programas/saludar_bloques.py\n",
    "import pycuda.driver as cuda\n",
    "import pycuda.autoinit\n",
    "from pycuda.compiler import SourceModule\n",
    "\n",
    "mod = SourceModule(\"\"\"\n",
    "    #include <stdio.h>\n",
    "\n",
    "    __global__ void say_hi()\n",
    "    {\n",
    "      printf(\"Soy el thread numero %d en threadIdx.x:%d.threadIdx.y:%d  blockIdx.:%d blockIdx.y:%d blockDim.x:%d blockDim.y:%d\\\\n\",(threadIdx.x+threadIdx.y*blockDim.x+(blockIdx.x*blockDim.x*blockDim.y)+(blockIdx.y*blockDim.x*blockDim.y)),threadIdx.x, threadIdx.y,blockIdx.x,blockIdx.y,blockDim.x,blockDim.y);\n",
    "    }\n",
    "    \"\"\")\n",
    "\n",
    "func = mod.get_function(\"say_hi\")\n",
    "func(block=(4,4,1),grid=(2,2,1))"
   ]
  },
  {
   "cell_type": "code",
   "execution_count": 4,
   "metadata": {
    "collapsed": false
   },
   "outputs": [
    {
     "name": "stdout",
     "output_type": "stream",
     "text": [
      "Soy el thread numero 0 en threadIdx.x:0.threadIdx.y:0  blockIdx.:0 blockIdx.y:0 blockDim.x:4 blockDim.y:4\r\n",
      "Soy el thread numero 1 en threadIdx.x:1.threadIdx.y:0  blockIdx.:0 blockIdx.y:0 blockDim.x:4 blockDim.y:4\r\n",
      "Soy el thread numero 2 en threadIdx.x:2.threadIdx.y:0  blockIdx.:0 blockIdx.y:0 blockDim.x:4 blockDim.y:4\r\n",
      "Soy el thread numero 3 en threadIdx.x:3.threadIdx.y:0  blockIdx.:0 blockIdx.y:0 blockDim.x:4 blockDim.y:4\r\n",
      "Soy el thread numero 4 en threadIdx.x:0.threadIdx.y:1  blockIdx.:0 blockIdx.y:0 blockDim.x:4 blockDim.y:4\r\n",
      "Soy el thread numero 5 en threadIdx.x:1.threadIdx.y:1  blockIdx.:0 blockIdx.y:0 blockDim.x:4 blockDim.y:4\r\n",
      "Soy el thread numero 6 en threadIdx.x:2.threadIdx.y:1  blockIdx.:0 blockIdx.y:0 blockDim.x:4 blockDim.y:4\r\n",
      "Soy el thread numero 7 en threadIdx.x:3.threadIdx.y:1  blockIdx.:0 blockIdx.y:0 blockDim.x:4 blockDim.y:4\r\n",
      "Soy el thread numero 8 en threadIdx.x:0.threadIdx.y:2  blockIdx.:0 blockIdx.y:0 blockDim.x:4 blockDim.y:4\r\n",
      "Soy el thread numero 9 en threadIdx.x:1.threadIdx.y:2  blockIdx.:0 blockIdx.y:0 blockDim.x:4 blockDim.y:4\r\n",
      "Soy el thread numero 10 en threadIdx.x:2.threadIdx.y:2  blockIdx.:0 blockIdx.y:0 blockDim.x:4 blockDim.y:4\r\n",
      "Soy el thread numero 11 en threadIdx.x:3.threadIdx.y:2  blockIdx.:0 blockIdx.y:0 blockDim.x:4 blockDim.y:4\r\n",
      "Soy el thread numero 12 en threadIdx.x:0.threadIdx.y:3  blockIdx.:0 blockIdx.y:0 blockDim.x:4 blockDim.y:4\r\n",
      "Soy el thread numero 13 en threadIdx.x:1.threadIdx.y:3  blockIdx.:0 blockIdx.y:0 blockDim.x:4 blockDim.y:4\r\n",
      "Soy el thread numero 14 en threadIdx.x:2.threadIdx.y:3  blockIdx.:0 blockIdx.y:0 blockDim.x:4 blockDim.y:4\r\n",
      "Soy el thread numero 15 en threadIdx.x:3.threadIdx.y:3  blockIdx.:0 blockIdx.y:0 blockDim.x:4 blockDim.y:4\r\n",
      "Soy el thread numero 32 en threadIdx.x:0.threadIdx.y:0  blockIdx.:1 blockIdx.y:1 blockDim.x:4 blockDim.y:4\r\n",
      "Soy el thread numero 33 en threadIdx.x:1.threadIdx.y:0  blockIdx.:1 blockIdx.y:1 blockDim.x:4 blockDim.y:4\r\n",
      "Soy el thread numero 34 en threadIdx.x:2.threadIdx.y:0  blockIdx.:1 blockIdx.y:1 blockDim.x:4 blockDim.y:4\r\n",
      "Soy el thread numero 35 en threadIdx.x:3.threadIdx.y:0  blockIdx.:1 blockIdx.y:1 blockDim.x:4 blockDim.y:4\r\n",
      "Soy el thread numero 36 en threadIdx.x:0.threadIdx.y:1  blockIdx.:1 blockIdx.y:1 blockDim.x:4 blockDim.y:4\r\n",
      "Soy el thread numero 37 en threadIdx.x:1.threadIdx.y:1  blockIdx.:1 blockIdx.y:1 blockDim.x:4 blockDim.y:4\r\n",
      "Soy el thread numero 38 en threadIdx.x:2.threadIdx.y:1  blockIdx.:1 blockIdx.y:1 blockDim.x:4 blockDim.y:4\r\n",
      "Soy el thread numero 39 en threadIdx.x:3.threadIdx.y:1  blockIdx.:1 blockIdx.y:1 blockDim.x:4 blockDim.y:4\r\n",
      "Soy el thread numero 40 en threadIdx.x:0.threadIdx.y:2  blockIdx.:1 blockIdx.y:1 blockDim.x:4 blockDim.y:4\r\n",
      "Soy el thread numero 41 en threadIdx.x:1.threadIdx.y:2  blockIdx.:1 blockIdx.y:1 blockDim.x:4 blockDim.y:4\r\n",
      "Soy el thread numero 42 en threadIdx.x:2.threadIdx.y:2  blockIdx.:1 blockIdx.y:1 blockDim.x:4 blockDim.y:4\r\n",
      "Soy el thread numero 43 en threadIdx.x:3.threadIdx.y:2  blockIdx.:1 blockIdx.y:1 blockDim.x:4 blockDim.y:4\r\n",
      "Soy el thread numero 44 en threadIdx.x:0.threadIdx.y:3  blockIdx.:1 blockIdx.y:1 blockDim.x:4 blockDim.y:4\r\n",
      "Soy el thread numero 45 en threadIdx.x:1.threadIdx.y:3  blockIdx.:1 blockIdx.y:1 blockDim.x:4 blockDim.y:4\r\n",
      "Soy el thread numero 46 en threadIdx.x:2.threadIdx.y:3  blockIdx.:1 blockIdx.y:1 blockDim.x:4 blockDim.y:4\r\n",
      "Soy el thread numero 47 en threadIdx.x:3.threadIdx.y:3  blockIdx.:1 blockIdx.y:1 blockDim.x:4 blockDim.y:4\r\n",
      "Soy el thread numero 16 en threadIdx.x:0.threadIdx.y:0  blockIdx.:0 blockIdx.y:1 blockDim.x:4 blockDim.y:4\r\n",
      "Soy el thread numero 17 en threadIdx.x:1.threadIdx.y:0  blockIdx.:0 blockIdx.y:1 blockDim.x:4 blockDim.y:4\r\n",
      "Soy el thread numero 18 en threadIdx.x:2.threadIdx.y:0  blockIdx.:0 blockIdx.y:1 blockDim.x:4 blockDim.y:4\r\n",
      "Soy el thread numero 19 en threadIdx.x:3.threadIdx.y:0  blockIdx.:0 blockIdx.y:1 blockDim.x:4 blockDim.y:4\r\n",
      "Soy el thread numero 20 en threadIdx.x:0.threadIdx.y:1  blockIdx.:0 blockIdx.y:1 blockDim.x:4 blockDim.y:4\r\n",
      "Soy el thread numero 21 en threadIdx.x:1.threadIdx.y:1  blockIdx.:0 blockIdx.y:1 blockDim.x:4 blockDim.y:4\r\n",
      "Soy el thread numero 22 en threadIdx.x:2.threadIdx.y:1  blockIdx.:0 blockIdx.y:1 blockDim.x:4 blockDim.y:4\r\n",
      "Soy el thread numero 23 en threadIdx.x:3.threadIdx.y:1  blockIdx.:0 blockIdx.y:1 blockDim.x:4 blockDim.y:4\r\n",
      "Soy el thread numero 24 en threadIdx.x:0.threadIdx.y:2  blockIdx.:0 blockIdx.y:1 blockDim.x:4 blockDim.y:4\r\n",
      "Soy el thread numero 25 en threadIdx.x:1.threadIdx.y:2  blockIdx.:0 blockIdx.y:1 blockDim.x:4 blockDim.y:4\r\n",
      "Soy el thread numero 26 en threadIdx.x:2.threadIdx.y:2  blockIdx.:0 blockIdx.y:1 blockDim.x:4 blockDim.y:4\r\n",
      "Soy el thread numero 27 en threadIdx.x:3.threadIdx.y:2  blockIdx.:0 blockIdx.y:1 blockDim.x:4 blockDim.y:4\r\n",
      "Soy el thread numero 28 en threadIdx.x:0.threadIdx.y:3  blockIdx.:0 blockIdx.y:1 blockDim.x:4 blockDim.y:4\r\n",
      "Soy el thread numero 29 en threadIdx.x:1.threadIdx.y:3  blockIdx.:0 blockIdx.y:1 blockDim.x:4 blockDim.y:4\r\n",
      "Soy el thread numero 30 en threadIdx.x:2.threadIdx.y:3  blockIdx.:0 blockIdx.y:1 blockDim.x:4 blockDim.y:4\r\n",
      "Soy el thread numero 31 en threadIdx.x:3.threadIdx.y:3  blockIdx.:0 blockIdx.y:1 blockDim.x:4 blockDim.y:4\r\n",
      "Soy el thread numero 16 en threadIdx.x:0.threadIdx.y:0  blockIdx.:1 blockIdx.y:0 blockDim.x:4 blockDim.y:4\r\n",
      "Soy el thread numero 17 en threadIdx.x:1.threadIdx.y:0  blockIdx.:1 blockIdx.y:0 blockDim.x:4 blockDim.y:4\r\n",
      "Soy el thread numero 18 en threadIdx.x:2.threadIdx.y:0  blockIdx.:1 blockIdx.y:0 blockDim.x:4 blockDim.y:4\r\n",
      "Soy el thread numero 19 en threadIdx.x:3.threadIdx.y:0  blockIdx.:1 blockIdx.y:0 blockDim.x:4 blockDim.y:4\r\n",
      "Soy el thread numero 20 en threadIdx.x:0.threadIdx.y:1  blockIdx.:1 blockIdx.y:0 blockDim.x:4 blockDim.y:4\r\n",
      "Soy el thread numero 21 en threadIdx.x:1.threadIdx.y:1  blockIdx.:1 blockIdx.y:0 blockDim.x:4 blockDim.y:4\r\n",
      "Soy el thread numero 22 en threadIdx.x:2.threadIdx.y:1  blockIdx.:1 blockIdx.y:0 blockDim.x:4 blockDim.y:4\r\n",
      "Soy el thread numero 23 en threadIdx.x:3.threadIdx.y:1  blockIdx.:1 blockIdx.y:0 blockDim.x:4 blockDim.y:4\r\n",
      "Soy el thread numero 24 en threadIdx.x:0.threadIdx.y:2  blockIdx.:1 blockIdx.y:0 blockDim.x:4 blockDim.y:4\r\n",
      "Soy el thread numero 25 en threadIdx.x:1.threadIdx.y:2  blockIdx.:1 blockIdx.y:0 blockDim.x:4 blockDim.y:4\r\n",
      "Soy el thread numero 26 en threadIdx.x:2.threadIdx.y:2  blockIdx.:1 blockIdx.y:0 blockDim.x:4 blockDim.y:4\r\n",
      "Soy el thread numero 27 en threadIdx.x:3.threadIdx.y:2  blockIdx.:1 blockIdx.y:0 blockDim.x:4 blockDim.y:4\r\n",
      "Soy el thread numero 28 en threadIdx.x:0.threadIdx.y:3  blockIdx.:1 blockIdx.y:0 blockDim.x:4 blockDim.y:4\r\n",
      "Soy el thread numero 29 en threadIdx.x:1.threadIdx.y:3  blockIdx.:1 blockIdx.y:0 blockDim.x:4 blockDim.y:4\r\n",
      "Soy el thread numero 30 en threadIdx.x:2.threadIdx.y:3  blockIdx.:1 blockIdx.y:0 blockDim.x:4 blockDim.y:4\r\n",
      "Soy el thread numero 31 en threadIdx.x:3.threadIdx.y:3  blockIdx.:1 blockIdx.y:0 blockDim.x:4 blockDim.y:4\r\n"
     ]
    }
   ],
   "source": [
    "!ipython ./Programas/saludar_bloques.py"
   ]
  },
  {
   "cell_type": "markdown",
   "metadata": {},
   "source": [
    "# Rendimiento"
   ]
  },
  {
   "cell_type": "code",
   "execution_count": 5,
   "metadata": {
    "collapsed": false
   },
   "outputs": [
    {
     "name": "stdout",
     "output_type": "stream",
     "text": [
      "Usando 8192 valores\n",
      "Calculando 100000 iteraciones\n",
      "Tiempo con SourceModule y primeros 3 resultados:\n",
      "0.102129s, [ 0.005477  0.005477  0.005477]\n",
      "Tiempo con Elementwise y primeros 3 resultados:\n",
      "0.232770s, [ 0.005477  0.005477  0.005477]\n",
      "Tiempo con Elementwise en Python y primeros 3 resultados:\n",
      "1.979794s, [ 0.005477  0.005477  0.005477]\n",
      "Tiempo con GPUArray y primeros 3 resultados:\n",
      "6.091540s, [ 0.005477  0.005477  0.005477]\n",
      "tiempo con CPU y primeros 3 resultados:\n",
      "4.378356s, [ 0.005477  0.005477  0.005477]\n"
     ]
    }
   ],
   "source": [
    "import pycuda.driver as drv\n",
    "import pycuda.tools\n",
    "import pycuda.autoinit\n",
    "import numpy\n",
    "from pycuda.compiler import SourceModule\n",
    "import pycuda.gpuarray as gpuarray\n",
    "import pycuda.cumath\n",
    "from pycuda.elementwise import ElementwiseKernel\n",
    "\n",
    "blocks = 64\n",
    "block_size = 128\n",
    "valores = blocks * block_size\n",
    "\n",
    "print \"Usando\", valores, \"valores\"\n",
    "\n",
    "# Número de iteraciones para los cálculos\n",
    "n_iter = 100000\n",
    "print \"Calculando %d iteraciones\" % (n_iter)\n",
    "\n",
    "# Crear dos timers\n",
    "inicio = drv.Event()\n",
    "fin = drv.Event()\n",
    "\n",
    "\n",
    "# SourceModele\n",
    "\n",
    "mod = SourceModule(\"\"\"\n",
    "__global__ void gpusin(float *dest, float *a, int n_iter)\n",
    "{\n",
    "  const int i = blockDim.x*blockIdx.x + threadIdx.x;\n",
    "  for(int n = 0; n < n_iter; n++) {\n",
    "    a[i] = sin(a[i]);\n",
    "  }\n",
    "  dest[i] = a[i];\n",
    "}\n",
    "\"\"\")\n",
    "\n",
    "gpusin = mod.get_function(\"gpusin\")\n",
    "\n",
    "# creamos un arreglo 1s\n",
    "a = numpy.ones(valores).astype(numpy.float32)\n",
    "# creamos un arreglo para guardar el resultado\n",
    "dest = numpy.zeros_like(a)\n",
    "\n",
    "inicio.record() # comenzamos a tomar el tiempo\n",
    "gpusin(drv.Out(dest), drv.In(a), numpy.int32(n_iter), grid=(blocks,1), block=(block_size,1,1) )\n",
    "fin.record() # terminamos de tomar el tiempo\n",
    "# calculamos cuánto duró la corrida\n",
    "fin.synchronize()\n",
    "segs = inicio.time_till(fin)*1e-3\n",
    "print \"Tiempo con SourceModule y primeros 3 resultados:\"\n",
    "print \"%fs, %s\" % (segs, str(dest[:3]))\n",
    "\n",
    "\n",
    "# Usando ElementwiseKernel con sin en un ciclo for en C\n",
    "\n",
    "kernel = ElementwiseKernel(\n",
    "   \"float *a, int n_iter\",\n",
    "   \"for(int n = 0; n < n_iter; n++) { a[i] = sin(a[i]);}\",\n",
    "   \"gpusin\")\n",
    "\n",
    "a = numpy.ones(valores).astype(numpy.float32)\n",
    "a_gpu = gpuarray.to_gpu(a)\n",
    "inicio.record() # comenzamos a tomar el tiempo\n",
    "kernel(a_gpu, numpy.int(n_iter))\n",
    "fin.record() # terminamos de tomar el tiempo\n",
    "# calculamos cuánto duró la corrida\n",
    "fin.synchronize()\n",
    "segs = inicio.time_till(fin)*1e-3\n",
    "print \"Tiempo con Elementwise y primeros 3 resultados:\"\n",
    "print \"%fs, %s\" % (segs, str(a_gpu.get()[:3]))\n",
    "\n",
    "\n",
    "\n",
    "# Elementwise haciendo el loop en Python\n",
    "\n",
    "kernel = ElementwiseKernel(\n",
    "   \"float *a\",\n",
    "   \"a[i] = sin(a[i]);\",\n",
    "   \"gpusin\")\n",
    "\n",
    "a = numpy.ones(valores).astype(numpy.float32)\n",
    "a_gpu = gpuarray.to_gpu(a)\n",
    "inicio.record() # comenzamos a tomar el tiempo\n",
    "for i in range(n_iter):\n",
    "    kernel(a_gpu)\n",
    "fin.record() # terminamos de tomar el tiempo\n",
    "# calculamos cuánto duró la corrida\n",
    "fin.synchronize()\n",
    "segs = inicio.time_till(fin)*1e-3\n",
    "print \"Tiempo con Elementwise en Python y primeros 3 resultados:\"\n",
    "print \"%fs, %s\" % (segs, str(a_gpu.get()[:3]))\n",
    "\n",
    "\n",
    "# GPUArray\n",
    "# El resultado se copia a la memoria principal en cada iteración (esto es un cuello de botella)\n",
    "\n",
    "a = numpy.ones(valores).astype(numpy.float32)\n",
    "a_gpu = gpuarray.to_gpu(a)\n",
    "inicio.record() # comenzamos a tomar el tiempo\n",
    "for i in range(n_iter):\n",
    "    a_gpu = pycuda.cumath.sin(a_gpu)\n",
    "fin.record() # terminamos de tomar el tiempo\n",
    "# calculamos cuánto duró la corrida\n",
    "fin.synchronize()\n",
    "segs = inicio.time_till(fin)*1e-3\n",
    "print \"Tiempo con GPUArray y primeros 3 resultados:\"\n",
    "print \"%fs, %s\" % (segs, str(a_gpu.get()[:3]))\n",
    "\n",
    "\n",
    "\n",
    "# CPU \n",
    "\n",
    "a = numpy.ones(valores).astype(numpy.float32)\n",
    "inicio.record() # comenzamos a tomar el tiempo\n",
    "inicio.synchronize()\n",
    "\n",
    "for i in range(n_iter):\n",
    "    a = numpy.sin(a)\n",
    "\n",
    "fin.record() # terminamos de tomar el tiempo\n",
    "# calculamos cuánto duró la corrida\n",
    "fin.synchronize()\n",
    "segs = inicio.time_till(fin)*1e-3\n",
    "print \"tiempo con CPU y primeros 3 resultados:\"\n",
    "print \"%fs, %s\" % (segs, str(a[:3]))\n"
   ]
  }
 ],
 "metadata": {
  "kernelspec": {
   "display_name": "Python 2",
   "language": "python",
   "name": "python2"
  },
  "language_info": {
   "codemirror_mode": {
    "name": "ipython",
    "version": 2
   },
   "file_extension": ".py",
   "mimetype": "text/x-python",
   "name": "python",
   "nbconvert_exporter": "python",
   "pygments_lexer": "ipython2",
   "version": "2.7.6"
  }
 },
 "nbformat": 4,
 "nbformat_minor": 0
}
