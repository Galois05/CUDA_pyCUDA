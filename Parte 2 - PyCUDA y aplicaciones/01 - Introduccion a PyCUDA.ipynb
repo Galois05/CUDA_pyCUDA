{
 "cells": [
  {
   "cell_type": "markdown",
   "metadata": {},
   "source": [
    "# ¿Por qué PyCUDA?\n",
    "\n",
    "Hasta ahora hemos visto que si bien CUDA no es un lenguaje imposible de aprender, puede llegar a ser un dolor de cabeza el tener muchos apuntadores y manejar la memoria de un modo tan rudimentario.\n",
    "\n",
    "Sin embargo hay alternativas que nos permiten trabajar en entornos más agradables, un ejemplo de ellos es [PyCUDA](http://mathema.tician.de/software/pycuda/) creado con [Andreas Klöckner](http://mathema.tician.de/). Básicamente PyCUDA se encarga de mapear todo CUDA dentro de Python. \n",
    "\n",
    "Por poner un ejemplo, un código simple sería el siguiente"
   ]
  },
  {
   "cell_type": "code",
   "execution_count": 2,
   "metadata": {
    "collapsed": false,
    "scrolled": true
   },
   "outputs": [
    {
     "name": "stdout",
     "output_type": "stream",
     "text": [
      "[ 0.  0.  0.  0.  0.  0.  0.  0.  0.  0.  0.  0.  0.  0.  0.  0.  0.  0.\n",
      "  0.  0.  0.  0.  0.  0.  0.  0.  0.  0.  0.  0.  0.  0.  0.  0.  0.  0.\n",
      "  0.  0.  0.  0.  0.  0.  0.  0.  0.  0.  0.  0.  0.  0.  0.  0.  0.  0.\n",
      "  0.  0.  0.  0.  0.  0.  0.  0.  0.  0.  0.  0.  0.  0.  0.  0.  0.  0.\n",
      "  0.  0.  0.  0.  0.  0.  0.  0.  0.  0.  0.  0.  0.  0.  0.  0.  0.  0.\n",
      "  0.  0.  0.  0.  0.  0.  0.  0.  0.  0.  0.  0.  0.  0.  0.  0.  0.  0.\n",
      "  0.  0.  0.  0.  0.  0.  0.  0.  0.  0.  0.  0.  0.  0.  0.  0.  0.  0.\n",
      "  0.  0.  0.  0.  0.  0.  0.  0.  0.  0.  0.  0.  0.  0.  0.  0.  0.  0.\n",
      "  0.  0.  0.  0.  0.  0.  0.  0.  0.  0.  0.  0.  0.  0.  0.  0.  0.  0.\n",
      "  0.  0.  0.  0.  0.  0.  0.  0.  0.  0.  0.  0.  0.  0.  0.  0.  0.  0.\n",
      "  0.  0.  0.  0.  0.  0.  0.  0.  0.  0.  0.  0.  0.  0.  0.  0.  0.  0.\n",
      "  0.  0.  0.  0.  0.  0.  0.  0.  0.  0.  0.  0.  0.  0.  0.  0.  0.  0.\n",
      "  0.  0.  0.  0.  0.  0.  0.  0.  0.  0.  0.  0.  0.  0.  0.  0.  0.  0.\n",
      "  0.  0.  0.  0.  0.  0.  0.  0.  0.  0.  0.  0.  0.  0.  0.  0.  0.  0.\n",
      "  0.  0.  0.  0.  0.  0.  0.  0.  0.  0.  0.  0.  0.  0.  0.  0.  0.  0.\n",
      "  0.  0.  0.  0.  0.  0.  0.  0.  0.  0.  0.  0.  0.  0.  0.  0.  0.  0.\n",
      "  0.  0.  0.  0.  0.  0.  0.  0.  0.  0.  0.  0.  0.  0.  0.  0.  0.  0.\n",
      "  0.  0.  0.  0.  0.  0.  0.  0.  0.  0.  0.  0.  0.  0.  0.  0.  0.  0.\n",
      "  0.  0.  0.  0.  0.  0.  0.  0.  0.  0.  0.  0.  0.  0.  0.  0.  0.  0.\n",
      "  0.  0.  0.  0.  0.  0.  0.  0.  0.  0.  0.  0.  0.  0.  0.  0.  0.  0.\n",
      "  0.  0.  0.  0.  0.  0.  0.  0.  0.  0.  0.  0.  0.  0.  0.  0.  0.  0.\n",
      "  0.  0.  0.  0.  0.  0.  0.  0.  0.  0.  0.  0.  0.  0.  0.  0.  0.  0.\n",
      "  0.  0.  0.  0.]\n",
      "[ -7.29295135e-01  -1.63122728e-01   7.48025596e-01  -2.01550219e-02\n",
      "  -7.40357161e-01   1.77833423e-01  -5.48080146e-01  -5.17968595e-01\n",
      "  -8.25655181e-03   1.04494405e+00  -1.27416864e-01  -9.92649794e-01\n",
      "  -2.07260787e-01   1.16689861e-01  -5.98529447e-03  -1.23859525e+00\n",
      "  -1.98446655e+00  -1.11601003e-01  -5.75085700e-01  -1.48331463e+00\n",
      "  -9.47878897e-01   3.73744428e-01   3.00651759e-01  -5.87353110e-01\n",
      "  -4.31155622e-01  -7.59824004e-04   7.42176198e-04   3.09307194e+00\n",
      "  -4.10795033e-01   1.18445516e-01  -1.01262581e+00  -9.41025540e-02\n",
      "  -3.41837741e-02   1.93039250e+00  -7.61319399e-01   1.01761751e-01\n",
      "  -9.36986208e-01  -7.37684548e-01   2.62279958e-01  -2.72690225e-02\n",
      "  -1.04870391e+00  -3.07658553e+00  -1.18220434e-01  -2.06974700e-01\n",
      "  -2.73346841e-01  -2.54020810e-01  -2.91847587e-02  -3.53373379e-01\n",
      "  -3.07288498e-01  -1.23245433e-01  -1.34837782e+00   1.47882909e-01\n",
      "   5.79590738e-01   1.39371014e+00   9.69857946e-02  -2.10220647e+00\n",
      "   3.70149106e-01   6.09112740e-01  -2.73842722e-01   1.27934813e-02\n",
      "   2.14319968e+00   2.67078698e-01  -9.82469082e-01  -1.60912305e-01\n",
      "  -1.11976099e+00  -1.51984513e-01   1.04712701e+00   7.91416824e-01\n",
      "  -3.43119740e-01   3.47977966e-01  -4.90232781e-02  -1.02497041e-02\n",
      "   6.17753491e-02   3.12699735e-01  -5.09162307e-01  -1.56322384e+00\n",
      "  -1.17373448e-02  -1.78311035e-01  -1.03836215e+00  -2.30755186e+00\n",
      "   1.04877543e+00   6.72218919e-01   1.52979708e+00  -6.75185025e-02\n",
      "  -1.97895616e-01   7.13431597e-01  -6.58598483e-01   2.87904471e-01\n",
      "   3.06193680e-01  -9.14463475e-02   1.25801172e-02   4.81194347e-01\n",
      "   8.72728944e-01  -5.86831808e-01  -2.11235940e-01   8.23425829e-01\n",
      "   2.76273459e-01  -5.84690928e-01  -8.05782795e-01   7.98843801e-02\n",
      "   5.74509501e-01  -7.09847987e-01   8.74962509e-01  -2.13499099e-01\n",
      "  -2.88626403e-01   5.58702588e-01   4.18269962e-01  -3.39943218e+00\n",
      "  -4.18150663e+00  -4.72884655e-01   8.34697247e-01  -1.46614957e+00\n",
      "  -5.53548001e-02  -8.74124747e-03  -4.79376704e-01   3.08310175e+00\n",
      "   5.47712684e-01   2.45458317e+00  -2.48506200e-03  -1.05888993e-01\n",
      "   1.01717913e+00   1.01144031e-01  -2.64842719e-01  -1.81793738e-02\n",
      "   2.87060868e-02   5.10646522e-01   7.03582108e-01   8.18086505e-01\n",
      "  -3.81875902e-01  -2.13270736e+00   3.31019796e-03   5.10590971e-01\n",
      "   3.24543148e-01  -8.94521773e-02  -2.75053591e-01   4.54604954e-01\n",
      "  -7.58921325e-01   4.86087054e-02   1.12946458e-01  -2.56405145e-01\n",
      "  -9.45808947e-01  -1.47977912e+00   1.02807546e+00  -1.45876810e-01\n",
      "   7.24788308e-02   2.58400941e+00   4.06131685e-01  -4.65613317e+00\n",
      "   8.75463903e-01   4.88879472e-01   2.89222628e-01   2.18854383e-01\n",
      "  -8.58857185e-02  -9.91050422e-01   1.17513394e+00   2.20144629e-01\n",
      "  -1.29758716e+00  -5.68862319e-01   1.69142544e-01   5.22590160e-01\n",
      "  -1.69001147e-01   5.86292446e-02   7.97886029e-02  -6.81236610e-02\n",
      "   4.90537798e-03  -5.43628812e-01  -2.33243942e+00  -4.44185048e-01\n",
      "  -2.73540586e-01  -4.50779088e-02   6.15448117e-01   2.23393410e-01\n",
      "  -1.11835277e+00  -5.17642796e-01  -1.00323536e-01  -1.42800450e-01\n",
      "  -1.71153474e+00   2.36217439e-01  -9.98605862e-02   6.88769400e-01\n",
      "  -6.70092702e-02   6.74008012e-01   1.34743974e-01  -2.85875463e+00\n",
      "   2.94012499e+00   1.29697263e-01   1.04461648e-01  -1.90719771e+00\n",
      "   8.22014660e-02  -8.38290080e-02  -6.17018119e-02  -7.18073845e-02\n",
      "   1.27657974e+00  -1.40512788e+00   1.42866135e-01   1.42022949e-02\n",
      "   3.43075618e-02   1.95893443e+00  -1.15048397e+00   2.20168903e-01\n",
      "  -1.46749866e+00   4.43480194e-01   4.09739196e-01  -2.30271697e-01\n",
      "  -8.88587609e-02  -7.71810114e-01   2.26495087e-01   2.29301199e-01\n",
      "   2.12345019e-01   8.96355152e-01  -5.62579408e-02  -7.77137652e-02\n",
      "  -3.57888728e-01   1.24599263e-02  -1.74252033e+00  -4.19145413e-02\n",
      "   3.99671584e-01   2.39697158e-01  -7.09204702e-03  -1.99443445e-01\n",
      "   1.31636783e-01  -1.48891151e-01  -7.68212676e-02  -2.80098945e-01\n",
      "   7.59970367e-01   8.35664213e-01  -3.39225829e-01  -1.90658882e-01\n",
      "   4.43985850e-01   1.70073450e+00   9.24564362e-01  -4.59566683e-01\n",
      "   3.95223904e+00  -1.99097767e-01   5.26198804e-01  -5.37722945e-01\n",
      "  -3.50153930e-02  -5.91890037e-01   3.62259857e-02   7.20597953e-02\n",
      "  -4.14229184e-03  -1.08384180e+00   1.31051028e+00   1.39127743e+00\n",
      "   4.88604605e-02  -2.58757304e-02  -7.20363557e-01  -6.61665248e-03\n",
      "   5.35313845e-01  -1.09314203e+00  -5.99219084e-01  -1.86266735e-01\n",
      "   7.89073706e-01  -2.91613847e-01   1.34589028e+00   6.77037379e-03\n",
      "   5.25407819e-03   9.15939867e-01  -5.13336286e-02   6.35988126e-03\n",
      "   7.70409331e-02  -1.41810015e-01   3.40629667e-01  -5.39603806e+00\n",
      "   1.53419122e-01   4.93326217e-01   3.19406739e-03  -4.12693322e-01\n",
      "   4.90828186e-01  -2.92181969e-01   5.31451441e-02  -6.04994535e-01\n",
      "  -1.82535112e-01   5.13368011e-01  -3.29775870e-01   2.24298149e-01\n",
      "  -6.09636903e-02   2.13243037e-01   9.96311009e-02  -1.42898709e-01\n",
      "  -1.77681434e+00   2.55119681e-01   1.80572756e-02  -7.64266968e-01\n",
      "  -2.72469550e-01   4.64492649e-01   1.35984123e-01   1.15436934e-01\n",
      "  -4.98494983e-01  -1.76752520e+00   5.58534741e-01   1.00973308e+00\n",
      "  -1.31412074e-01   1.21726438e-01  -2.71085650e-01   1.06844985e+00\n",
      "  -9.43100989e-01  -2.62185447e-02   2.56251454e-01  -1.20443851e-01\n",
      "   1.01863565e-02   2.97363067e+00   4.50345963e-01   6.02904558e-01\n",
      "   1.01545334e+00   7.47675002e-01  -1.18400253e-01  -1.62483733e-02\n",
      "   1.11886036e+00  -3.77557993e-01  -6.16919279e-01   6.08543716e-02\n",
      "   7.15314746e-01  -2.35723972e+00   2.45841336e+00   3.69143772e+00\n",
      "  -1.48799077e-01  -7.05116808e-01  -7.75982261e-01  -2.36832976e-01\n",
      "   6.64791584e-01   2.66719162e-01   7.94908047e-01  -4.89045978e-01\n",
      "   3.48435223e-01   3.19305629e-01   1.42358109e-01  -4.23824072e-01\n",
      "  -9.50632319e-02   1.19604608e-02  -1.75014988e-01  -1.26201093e-01\n",
      "  -5.02122223e-01  -2.45289207e+00  -5.44265211e-01  -1.28938186e+00\n",
      "  -1.32046473e+00   1.56476498e-01   1.09367704e+00  -1.38665581e+00\n",
      "  -1.83421046e-01   1.15906768e-01   5.07194340e-01  -1.03861928e-01\n",
      "   5.41428864e-01   9.67870653e-01   3.38789001e-02  -9.36318517e-01\n",
      "  -7.72504747e-01  -7.45799439e-03   4.49854910e-01  -3.27545971e-01\n",
      "   2.08292663e-01   4.08965021e-01   8.10395479e-01   6.69399276e-02\n",
      "   1.26567319e-01   6.28151655e-01  -2.83502966e-01  -2.57075578e-01\n",
      "   1.74870491e-01  -6.05165064e-02  -2.87399471e-01  -5.27574956e-01\n",
      "   3.88711601e-01  -5.45880914e-01   2.22903162e-01   1.33283138e+00\n",
      "  -2.40936384e-01  -8.86918128e-01   6.48292661e-01   1.24373031e+00\n",
      "   2.05843881e-01  -1.20226517e-01  -2.02025890e-01   7.15240121e-01\n",
      "  -6.89968348e-01  -5.66740334e-01  -1.34531093e+00  -1.31879258e+00\n",
      "  -1.02368832e+00  -4.37913835e-01   1.37750115e-02  -1.33556056e+00\n",
      "  -3.17149460e-01  -3.88181591e+00  -3.99906576e-01  -6.88549995e-01\n",
      "  -1.22786903e+00  -2.39121842e+00  -7.35889822e-02  -2.50975537e+00\n",
      "   3.11583281e-01  -2.46149927e-01  -5.51515341e-01   1.17480195e+00\n",
      "   1.94669113e-01   1.91335726e+00   6.78962827e-01  -4.01570290e-01]\n",
      "[ 0.  0.  0.  0.  0.  0.  0.  0.  0.  0.  0.  0.  0.  0.  0.  0.  0.  0.\n",
      "  0.  0.  0.  0.  0.  0.  0.  0.  0.  0.  0.  0.  0.  0.  0.  0.  0.  0.\n",
      "  0.  0.  0.  0.  0.  0.  0.  0.  0.  0.  0.  0.  0.  0.  0.  0.  0.  0.\n",
      "  0.  0.  0.  0.  0.  0.  0.  0.  0.  0.  0.  0.  0.  0.  0.  0.  0.  0.\n",
      "  0.  0.  0.  0.  0.  0.  0.  0.  0.  0.  0.  0.  0.  0.  0.  0.  0.  0.\n",
      "  0.  0.  0.  0.  0.  0.  0.  0.  0.  0.  0.  0.  0.  0.  0.  0.  0.  0.\n",
      "  0.  0.  0.  0.  0.  0.  0.  0.  0.  0.  0.  0.  0.  0.  0.  0.  0.  0.\n",
      "  0.  0.  0.  0.  0.  0.  0.  0.  0.  0.  0.  0.  0.  0.  0.  0.  0.  0.\n",
      "  0.  0.  0.  0.  0.  0.  0.  0.  0.  0.  0.  0.  0.  0.  0.  0.  0.  0.\n",
      "  0.  0.  0.  0.  0.  0.  0.  0.  0.  0.  0.  0.  0.  0.  0.  0.  0.  0.\n",
      "  0.  0.  0.  0.  0.  0.  0.  0.  0.  0.  0.  0.  0.  0.  0.  0.  0.  0.\n",
      "  0.  0.  0.  0.  0.  0.  0.  0.  0.  0.  0.  0.  0.  0.  0.  0.  0.  0.\n",
      "  0.  0.  0.  0.  0.  0.  0.  0.  0.  0.  0.  0.  0.  0.  0.  0.  0.  0.\n",
      "  0.  0.  0.  0.  0.  0.  0.  0.  0.  0.  0.  0.  0.  0.  0.  0.  0.  0.\n",
      "  0.  0.  0.  0.  0.  0.  0.  0.  0.  0.  0.  0.  0.  0.  0.  0.  0.  0.\n",
      "  0.  0.  0.  0.  0.  0.  0.  0.  0.  0.  0.  0.  0.  0.  0.  0.  0.  0.\n",
      "  0.  0.  0.  0.  0.  0.  0.  0.  0.  0.  0.  0.  0.  0.  0.  0.  0.  0.\n",
      "  0.  0.  0.  0.  0.  0.  0.  0.  0.  0.  0.  0.  0.  0.  0.  0.  0.  0.\n",
      "  0.  0.  0.  0.  0.  0.  0.  0.  0.  0.  0.  0.  0.  0.  0.  0.  0.  0.\n",
      "  0.  0.  0.  0.  0.  0.  0.  0.  0.  0.  0.  0.  0.  0.  0.  0.  0.  0.\n",
      "  0.  0.  0.  0.  0.  0.  0.  0.  0.  0.  0.  0.  0.  0.  0.  0.  0.  0.\n",
      "  0.  0.  0.  0.  0.  0.  0.  0.  0.  0.  0.  0.  0.  0.  0.  0.  0.  0.\n",
      "  0.  0.  0.  0.]\n"
     ]
    }
   ],
   "source": [
    "import pycuda.autoinit\n",
    "import pycuda.driver as drv\n",
    "import numpy\n",
    "\n",
    "from pycuda.compiler import SourceModule\n",
    "mod = SourceModule(\"\"\"\n",
    "__global__ void multiplicar(float *dest, float *a, float *b)\n",
    "{\n",
    "  const int i = threadIdx.x;\n",
    "  dest[i] = a[i] * b[i];\n",
    "}\n",
    "\"\"\")\n",
    "\n",
    "multiplicar = mod.get_function(\"multiplicar\")\n",
    "\n",
    "a = numpy.random.randn(400).astype(numpy.float32)\n",
    "b = numpy.random.randn(400).astype(numpy.float32)\n",
    "\n",
    "dest = numpy.zeros_like(a)\n",
    "\n",
    "print dest\n",
    "\n",
    "multiplicar(\n",
    "        drv.Out(dest), drv.In(a), drv.In(b),\n",
    "        block=(400,1,1), grid=(1,1))\n",
    "\n",
    "print dest\n",
    "\n",
    "print dest-a*b"
   ]
  },
  {
   "cell_type": "markdown",
   "metadata": {},
   "source": [
    "Al correr este programa vamos a obtener un montón de ceros; algo no muy interesante. Sin embargo detrás de escenas sí pasó algo interesante.\n",
    "\n",
    "- PyCUDA compiló el código fuente y lo cargó a la tarjeta.\n",
    "- Se asignó memoria automáticamente, además de copiar las cosas de CPU a GPU y de vuelta.\n",
    "- Por último la limpieza (liberación de memoria) se hace sola.\n",
    "\n",
    "**Útil ¿cierto?**"
   ]
  },
  {
   "cell_type": "markdown",
   "metadata": {},
   "source": [
    "# Usando PyCUDA\n",
    "\n",
    "Para empezar debemos importar e incializar PyCUDA"
   ]
  },
  {
   "cell_type": "code",
   "execution_count": 6,
   "metadata": {
    "collapsed": true
   },
   "outputs": [],
   "source": [
    "import pycuda.driver as cuda\n",
    "import pycuda.autoinit\n",
    "from pycuda.compiler import SourceModule"
   ]
  },
  {
   "cell_type": "markdown",
   "metadata": {},
   "source": [
    "## Transferir datos\n",
    "\n",
    "El siguiente paso es transferir datos al GPU. Principalmente arreglos de numpy. Por ejemplo, tomemos un arreglo de números aleatorios de $4 \\times 4$"
   ]
  },
  {
   "cell_type": "code",
   "execution_count": 7,
   "metadata": {
    "collapsed": true
   },
   "outputs": [],
   "source": [
    "import numpy\n",
    "a = numpy.random.randn(4,4)"
   ]
  },
  {
   "cell_type": "markdown",
   "metadata": {},
   "source": [
    "sin embargo nuestro arreglo `a` consiste en números de doble precisión, dado que no todos los GPU de NVIDIA cuentan con doble precisión es que hacemos lo siguiente"
   ]
  },
  {
   "cell_type": "code",
   "execution_count": 8,
   "metadata": {
    "collapsed": true
   },
   "outputs": [],
   "source": [
    "a = a.astype(numpy.float32)"
   ]
  },
  {
   "cell_type": "markdown",
   "metadata": {},
   "source": [
    "finalmente, necesitmos un arreglo hacia el cuál transferir la información, así que deberíamos guardar la memoria en el dispositivo:"
   ]
  },
  {
   "cell_type": "code",
   "execution_count": 9,
   "metadata": {
    "collapsed": true
   },
   "outputs": [],
   "source": [
    "a_gpu = cuda.mem_alloc(a.nbytes)"
   ]
  },
  {
   "cell_type": "markdown",
   "metadata": {},
   "source": [
    "como último paso, necesitamos tranferir los datos al GPU"
   ]
  },
  {
   "cell_type": "code",
   "execution_count": 10,
   "metadata": {
    "collapsed": true
   },
   "outputs": [],
   "source": [
    "cuda.memcpy_htod(a_gpu, a)"
   ]
  },
  {
   "cell_type": "markdown",
   "metadata": {},
   "source": [
    "## Ejecutando kernels\n",
    "\n",
    "\n",
    "Durante este capítulo nos centraremos en un ejemplo muy simple. Escribir un código para duplicar cada una de las entradas en un arreglo, en seguida escribimos el kernel en CUDA C, y se lo otorgamos al constructor de `pycuda.compiler.SourceModule`"
   ]
  },
  {
   "cell_type": "code",
   "execution_count": 11,
   "metadata": {
    "collapsed": true
   },
   "outputs": [],
   "source": [
    "mod = SourceModule(\"\"\"\n",
    "  __global__ void duplicar(float *a)\n",
    "  {\n",
    "    int idx = threadIdx.x + threadIdx.y*4;\n",
    "    a[idx] *= 2;\n",
    "  }\n",
    "  \"\"\")"
   ]
  },
  {
   "cell_type": "markdown",
   "metadata": {},
   "source": [
    "Si no hay errores, el código ahora ha sido compilado y cargado en el dispositivo. Encontramos una referencia a nuestra `pycuda.driver.Function` y la llamamos, especificando `a_gpu` como el argumento, y un tamaño de bloque de $4\\times 4$:"
   ]
  },
  {
   "cell_type": "code",
   "execution_count": 12,
   "metadata": {
    "collapsed": false
   },
   "outputs": [
    {
     "data": {
      "text/plain": [
       "<pycuda.compiler.SourceModule at 0x7fa818033210>"
      ]
     },
     "execution_count": 12,
     "metadata": {},
     "output_type": "execute_result"
    }
   ],
   "source": [
    "mod"
   ]
  },
  {
   "cell_type": "code",
   "execution_count": 17,
   "metadata": {
    "collapsed": false
   },
   "outputs": [],
   "source": [
    "func = mod.get_function(\"duplicar\")\n",
    "func(a_gpu, block=(4,4,1))"
   ]
  },
  {
   "cell_type": "code",
   "execution_count": 15,
   "metadata": {
    "collapsed": false
   },
   "outputs": [
    {
     "data": {
      "text/plain": [
       "<pycuda._driver.Function at 0x7fa818097758>"
      ]
     },
     "execution_count": 15,
     "metadata": {},
     "output_type": "execute_result"
    }
   ],
   "source": [
    "func"
   ]
  },
  {
   "cell_type": "markdown",
   "metadata": {},
   "source": [
    "Finalmente recogemos la información del GPU y la mostramos con el `a` original"
   ]
  },
  {
   "cell_type": "code",
   "execution_count": 18,
   "metadata": {
    "collapsed": false
   },
   "outputs": [
    {
     "name": "stdout",
     "output_type": "stream",
     "text": [
      "[[ 1.76978874 -2.59513664  1.74092507 -4.21144247]\n",
      " [-4.01644087 -1.26684439 -0.03778078  2.58979082]\n",
      " [ 7.21419668  0.9136216  -4.31184435  2.72471142]\n",
      " [-0.06935506  7.27780581 -1.56498134 -2.90156698]]\n",
      "[[ 0.44244719 -0.64878416  0.43523127 -1.05286062]\n",
      " [-1.00411022 -0.3167111  -0.00944519  0.64744771]\n",
      " [ 1.80354917  0.2284054  -1.07796109  0.68117785]\n",
      " [-0.01733876  1.81945145 -0.39124534 -0.72539175]]\n"
     ]
    }
   ],
   "source": [
    "a_duplicado = numpy.empty_like(a)\n",
    "cuda.memcpy_dtoh(a_duplicado, a_gpu)\n",
    "print a_duplicado\n",
    "print a"
   ]
  },
  {
   "cell_type": "code",
   "execution_count": 19,
   "metadata": {
    "collapsed": true
   },
   "outputs": [],
   "source": [
    "a_duplicado = a_gpu"
   ]
  },
  {
   "cell_type": "code",
   "execution_count": 20,
   "metadata": {
    "collapsed": false
   },
   "outputs": [
    {
     "data": {
      "text/plain": [
       "<pycuda._driver.DeviceAllocation at 0x7fa8187128a0>"
      ]
     },
     "execution_count": 20,
     "metadata": {},
     "output_type": "execute_result"
    }
   ],
   "source": [
    "a_duplicado"
   ]
  },
  {
   "cell_type": "markdown",
   "metadata": {},
   "source": [
    "¡Y eso es todo! Hemos terminado con el trabajo. PyCUDA se encarga de hacer toda la limpieza por nosotros."
   ]
  }
 ],
 "metadata": {
  "kernelspec": {
   "display_name": "Python 2",
   "language": "python",
   "name": "python2"
  },
  "language_info": {
   "codemirror_mode": {
    "name": "ipython",
    "version": 2
   },
   "file_extension": ".py",
   "mimetype": "text/x-python",
   "name": "python",
   "nbconvert_exporter": "python",
   "pygments_lexer": "ipython2",
   "version": "2.7.9"
  }
 },
 "nbformat": 4,
 "nbformat_minor": 0
}
