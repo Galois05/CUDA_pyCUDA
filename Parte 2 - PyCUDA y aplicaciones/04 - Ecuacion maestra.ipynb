{
 "cells": [
  {
   "cell_type": "markdown",
   "metadata": {},
   "source": [
    "Hasta el momento hemos trabajado independientemente con caminantes aleatorios y distribuciones de probabilidad. Ahora trataremos de juntar los dos tópicos.\n",
    "\n",
    "Si $P_{t}(i)$ es la probabilidad de que un caminante se encuentra en el sitio $i$ al tiempo $t$, entonces la distribución de probabilidad está dada por el conjunto $\\{ P_{t}(i): i \\in \\mathbb{Z} \\}$. Abstrayendo un poco, este objeto puede ser visto también como un vector con el número de entradas igual al número de sitios en el cual puede estar nuestro caminante.\n",
    "\n",
    "A este vector lo llamaremos $\\mathbf{P}_{t}$.\n",
    "\n",
    "**Nota 1**: Este es el primer ejemplo en cual podemos decir que el tiempo es discreto, por lo que $t \\in \\mathbb{N}$.\n",
    "\n",
    "**Nota 2**: En principio, el *lugar* donde nuestros caminantes marchen puede ser *infinito* (por ahora en una dimensión), por lo que el vector $\\mathbf{P}_{t}$ tendría una infinidad de entradas. "
   ]
  },
  {
   "cell_type": "markdown",
   "metadata": {},
   "source": [
    "##  Ecuación maestra"
   ]
  },
  {
   "cell_type": "markdown",
   "metadata": {},
   "source": [
    "Coloquemonos en nuestro paso $0$, i.e. $t=0$. El caminante estará en su condición inicial esperando a la bandera de salida. Supongamos que su condición inicial es en $i = 0$ y que el caminante tiene una probabilidad $p$ de dar un paso a la derecha y $q:= 1-p$ de darlo a la izquierda.\n",
    "\n",
    "Para lo siguiente supondremos que $p = q = \\frac{1}{2}$\n",
    "\n",
    "No es dificil llegar entonces a que $P_{0}(i) = 0,   \\ \\forall i \\neq 0$ y que $P_{0}(0) = 1 $\n",
    "\n",
    "En el primer paso, tendremos que:\n",
    "$$\n",
    "\\begin{matrix}\n",
    "P_{1}(-1) = \\frac{1}{2} & P_{1}(0) = 0 & P_{1}(1) = \\frac{1}{2} \n",
    "\\end{matrix}\n",
    "$$\n",
    "\n",
    "¿Qué pasa en el siguiente paso?\n",
    "\n",
    "El espacio que el caminante puede abarcar se hace más grande, yendo de $i =-2,\\dotsc, 2$. Ahora veamos como queda la distribución de probabilidad.\n",
    "\n",
    "$$\n",
    "\\begin{matrix}\n",
    "P_{2}(-2) = \\frac{1}{4} & P_{2}(-1) = 0 & P_{2}(0) = \\frac{1}{2} & P_{2}(1) = 0 & P_{2}(2) = \\frac{1}{4}\n",
    "\\end{matrix}\n",
    "$$\n",
    "\n",
    "Las cosas ya se han puesto un poco más interesantes. Para entender un poco más como se han calculado un poco más rigurosamente estas probabilidades tomemos el caso de $P_{2}(0)$.\n",
    "\n",
    "en el paso $t = 1$, el caminante tenía $\\frac{1}{2}$ de probabilidad de estar en $i= -1, 1$. Supongamos que estaba en la celda $i=-1$, entonces el caminante tiene $\\frac{1}{2}$ de probabilidad de dar un paso a la derecha en el paso $t = 2$; y de la misma forma, si el caminante estuviera en la celda $i = 1$, también habría $\\frac{1}{2}$ de probabilidad de que al siguiente paso estuviera de nuevo en la celda $i = 0$. \n",
    "\n",
    "De esta manera llegamos a la **ecuación maestra** de nuestro ejemplo en una dimensión y con probabilidades $p  =q = \\frac{1}{2}$\n",
    "\n",
    "$$P_{t+1}(i) = \\frac{1}{2}P_t(i-1) + \\frac{1}{2}P_t(i+1) $$\n",
    "\n",
    "La generalización de la **ecuación maestra** es la siguiente\n",
    "\n",
    "$$\n",
    "\\begin{equation} \n",
    "P_{t+1}(i) = pP_t(i-1) + (1-p)P_t(i+1)\n",
    "\\end{equation}\n",
    "$$"
   ]
  },
  {
   "cell_type": "markdown",
   "metadata": {},
   "source": [
    "**[1a]** Pongamos manos a la obra. El objetivo general será graficar como evoluciona temporalmente la distribución de probabilidad con ayuda de nuestra ecuación maestra.\n",
    "\n",
    "Para esto necesitaremos un `kernel` un poco más sofisticado de los que ya hemos hecho. El primer gran cambio es que aquí sólo jugaremos con *un solo* caminante aleatorio, y no con varios como lo habíamos hecho hasta entonces. La `malla` de `bloques` de `núcleos` pasa a ser el espacio en que se mueve el caminante. Cambio sutil pero de grandes consecuencias. \n",
    "\n",
    "En primer lugar necesitamos el arreglo en el cual el caminante pueda moverse de un lado a otro. A este le llamaremos $X$. Recuerda hacerlo lo suficientemente grande para que el caminante no choque con los extremos.\n",
    "\n",
    "Para calcular la distribución de probabilidades del paso $t+1$ necesitamos la distribución del paso $t$. Sin embargo al sobreescribir nuestro arreglo $X$ perderemos información, y por lo tanto nuestros cálculos serán incorrectos. Es por esto que necesitaremos declarar otro `arreglo` en el cual podamos copiar nuestra información del tiempo $t$ para calcular la distribución deseada.\n",
    "\n",
    "Ahora, aquí es donde viene lo interesante. *La manera de copiar los datos*. Para esto nos basaremos en el ejemplo de *tiled programmation* hecho en el Notebook 6 de la primera parte de este curso el cual se basaba en declarar un `arreglo` tipo `__shared__` en el cual copiar los datos."
   ]
  },
  {
   "cell_type": "markdown",
   "metadata": {},
   "source": [
    "Así que veamos un poco como se vería el kernel.\n",
    "\n",
    "```C++\n",
    "\n",
    "__shared__ float ds_copiaX[BLOCK_SIZE+2] ;\n",
    "\n",
    "int tx = threadIdx.x ;\n",
    "int idx = blockIdx.x*BLOCK_SIZE + tx ;\n",
    "int idx_copia = idx - 1 ;\n",
    "\n",
    "if tx < BLOCK_SIZE {\n",
    "    if ((idx_copia >= 0) && (idx_copia < Dim_Camino) ) {\n",
    "\n",
    "        ds_copiaX[tx] = X[idx_copia] ;\n",
    "\n",
    "        } else {\n",
    "\n",
    "        ds_copia[tx] = 0.0f ;\n",
    "\n",
    "        }\n",
    "    __syncthreads() ;\n",
    "}\n",
    "\n",
    "if blockDim.x*(blockIdx.x+1) < Dim_Camino {\n",
    "\n",
    "    ds_copiaX[BLOCK_SIZE+1] = X[blockDim.x*(blockIdx.x +1)] ;\n",
    "\n",
    "} else {\n",
    " \n",
    "    ds_copiaX[BLOCK_SIZE+1] = 0.0f ;\n",
    "    \n",
    "}\n",
    "\n",
    "__syncthreads() ;\n",
    "\n",
    "```\n",
    "Una muestra de lo que hace esta pequeña parte del kernel puede ser vista en el código aquí abajo. En este caso se está trabajando con bloques de 4, por lo que la copia de `X` necesitará todos los datos para calcular la distribución en esos 4 espacios. Para eso necesitaremos, claramente, los 4 datos, pero además uno más en el extremo izquierdo y uno en el extremo derecho, puesto que según nuestra ecación maestra, $P_{t+1}(i)$ depende de $P_{t}(i-1)$ y de $P_{t}(i+1)$.\n",
    "\n",
    "Una vez hecha la copia de los datos de `X` en `ds_copiaX` sólo falta reescribir `X` con los nuevos valores. Eso quedará de ustedes. \n",
    "\n",
    "También es importante fijar tamaño de los bloques, dado en el `kernel` como `BLOCK_SIZE`. Así que ahora es hora de que el lector se ponga a trabajar y complete el `kernel` para luego graficar la evolución temporal de la distribución de probabilidad del caminante aleatorio. Supón en un primer tiempo que $p = q = \\frac{1}{2}$.\n",
    "\n",
    "Recomendamos graficar con la función `imshow()` de `matplotlib`.\n",
    "\n",
    "Este método de resolver la ecuación maestra numéricamente se llama **enumeración exacta**.\n",
    "\n",
    "**[1b]** Una vez que hayas obtenido las imágenes, cambia el valor de $p$ para ver como varía la distribución de probabilidad."
   ]
  },
  {
   "cell_type": "code",
   "execution_count": 2,
   "metadata": {
    "collapsed": true
   },
   "outputs": [],
   "source": [
    "import numpy as np"
   ]
  },
  {
   "cell_type": "code",
   "execution_count": 3,
   "metadata": {
    "collapsed": true
   },
   "outputs": [],
   "source": [
    "A = np.array([1,2,3,4,5,6,7,8,9,10,11,12, 13, 14, 15, 16, 17])\n",
    "\n",
    "B = np.ones(6)"
   ]
  },
  {
   "cell_type": "code",
   "execution_count": 9,
   "metadata": {
    "collapsed": false
   },
   "outputs": [
    {
     "name": "stdout",
     "output_type": "stream",
     "text": [
      "[ 0.  1.  2.  3.  4.  5.]\n",
      "[ 4.  5.  6.  7.  8.  9.]\n",
      "[  8.   9.  10.  11.  12.  13.]\n",
      "[ 12.  13.  14.  15.  16.  17.]\n",
      "[ 16.  17.   0.   0.   0.   0.]\n"
     ]
    }
   ],
   "source": [
    "blockDim = 4\n",
    "gridDim = len(A)/blockDim+1\n",
    "TILE_WIDTH = blockDim+2\n",
    "\n",
    "for blockIdx in xrange(gridDim):\n",
    "    for tx in xrange(TILE_WIDTH-1):\n",
    "        if blockDim*blockIdx + tx-1 >= 0 and blockDim*blockIdx + tx-1 < len(A) :\n",
    "            B[tx] = A[blockDim*blockIdx + tx-1]\n",
    "        else:\n",
    "            B[tx] = 0.0\n",
    "            \n",
    "    if 4*(blockIdx+1) < len(A):\n",
    "        B[TILE_WIDTH-1] = A[blockDim*(blockIdx+1)]\n",
    "    else:\n",
    "        B[TILE_WIDTH-1] = 0.\n",
    "\n",
    "        \n",
    "    print B"
   ]
  },
  {
   "cell_type": "markdown",
   "metadata": {},
   "source": [
    "##  Dos dimensiones"
   ]
  },
  {
   "cell_type": "markdown",
   "metadata": {},
   "source": [
    "**[2]** Escribe la ecuación maestra del caminante aleatorio en dos dimensiones.\n",
    "\n",
    "**[3]** Modifica tu código para obtener una seria de imágenes con las que puedas observar la evolución temporal de la distribución de probabilidad en 2 dimensiones.\n",
    "\n",
    "**Hint**: En este caso tendrás que hacer una matriz tipo `__shared__` y no un arreglo unidimensional. Te recomendamos revisar los Notebooks sobre multiplicación de matrices para que recuerdes la manera de indexar.\n",
    "\n",
    "Ahora tendremos cuatro indices:\n",
    "\n",
    "```C++\n",
    "\n",
    "\tint Fila = blockIdx.y*BLOCK_SIZE + ty ;\n",
    "\tint Columna = blockIdx.x*BLOCK_SIZE + tx ;\n",
    "\tint Fila_copia = Fila - 1 ; int Columna_copia = Columna - 1 ;\n",
    "    \n",
    "    \n",
    "    if( (Fila_copia >= 0) && (Fila_copia < DimY) && (Columna_copia >= 0) && (Columna_copia < DimX) ) {\n",
    "        ds_copiaPlano[ty][tx] = Plano[Fila_copia][Columna_copia]; \n",
    "    } else { \n",
    "        ds_copiaPlano[ty][tx] = 0.0f ; \n",
    "    }\n",
    "    \n",
    "```\n",
    "\n",
    "En caso de que te pierdas con los índices y copias, haz un código en Python semejante al de arriba que te sirva como guía."
   ]
  },
  {
   "cell_type": "markdown",
   "metadata": {},
   "source": [
    "## Fronteras"
   ]
  },
  {
   "cell_type": "markdown",
   "metadata": {},
   "source": [
    "Hasta ahora no nos hemos enfrentado con el problema de las fronteras, pero no podíamos escapar de él. Supongamos que son paredes *reflejantes* y no *absorbentes*, lo cual hará que el caminante \"rebote\" en las fronteras.\n",
    "\n",
    "**[4]** Escribe la regla que tienen que seguir las probabilidades cuando un caminante llega a cualquiera de las cuatro fronteras.\n",
    "\n",
    "**[5]** Implementa esta regla en tu código y observa qué pasa.\n"
   ]
  },
  {
   "cell_type": "markdown",
   "metadata": {},
   "source": [
    "##  Una primera aproximación a las EDP"
   ]
  },
  {
   "cell_type": "markdown",
   "metadata": {
    "collapsed": true
   },
   "source": [
    "Supongamos ahora que los cambios en el espacio y en el tiempo del caminante aleatorio se dan por diferenciales $\\delta x$ y $\\delta t$, nuestra ecuación maestra en 1D se vuelve entonces\n",
    "\n",
    "$$ P(x, t+\\delta t) = pP(x-\\delta x, t) + qP(x+\\delta x, t) $$\n",
    "\n",
    "Si ahora expandemos cada termino en series de Taylor (hasta 2º orden), llegamos a que:\n",
    "\n",
    "$$ \\frac{\\partial P}{\\partial t}(x, t) = (q-p)\\frac{\\delta x}{\\delta t}\\frac{\\partial P}{\\partial x}(x, t)+ \\frac{\\delta x^2}{2\\delta t}\\frac{\\partial^2 P}{\\partial x^2}(x, t) $$\n",
    "\n",
    "Si ahora volvemos de nuevo al caso $p = q = \\frac{1}{2}$, y haciendo $D = \\frac{\\delta x^2}{2\\delta t}$ obtenemos entonces la ya conocida ecuación de difusión.\n",
    "\n",
    "$$\\frac{\\partial P}{\\partial t}(x, t) = D\\frac{\\partial^2 P}{\\partial x^2}(x, t)$$\n",
    "\n",
    "**[6]** Las soluciones analíticas de esta EDP son bien conocidas. Compáralas con tu solución numérica.\n",
    "\n",
    "Así, vemos que el método de enumeración exacta para un caminante aleatorio provee un método numérico para resolver esta EDP de evolución. [El método se llama el de diferencias finitas.]"
   ]
  },
  {
   "cell_type": "markdown",
   "metadata": {},
   "source": [
    "## Referencias"
   ]
  },
  {
   "cell_type": "markdown",
   "metadata": {},
   "source": [
    "+ [Ecuación maestra](https://en.wikipedia.org/wiki/Master_equation)\n",
    "+ Método de [diferencias finitas](https://en.wikipedia.org/wiki/Finite_difference_method)\n",
    "+ [Ecuación de difusión](https://en.wikipedia.org/wiki/Diffusion_equation)"
   ]
  },
  {
   "cell_type": "code",
   "execution_count": null,
   "metadata": {
    "collapsed": true
   },
   "outputs": [],
   "source": []
  }
 ],
 "metadata": {
  "kernelspec": {
   "display_name": "Python 2",
   "language": "python",
   "name": "python2"
  },
  "language_info": {
   "codemirror_mode": {
    "name": "ipython",
    "version": 2
   },
   "file_extension": ".py",
   "mimetype": "text/x-python",
   "name": "python",
   "nbconvert_exporter": "python",
   "pygments_lexer": "ipython2",
   "version": "2.7.9"
  }
 },
 "nbformat": 4,
 "nbformat_minor": 0
}
