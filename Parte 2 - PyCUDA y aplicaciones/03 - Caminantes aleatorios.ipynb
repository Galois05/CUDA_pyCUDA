{
 "cells": [
  {
   "cell_type": "markdown",
   "metadata": {},
   "source": [
    "En este notebook nos dedicaremos a estudiar *Caminantes Aleatorios*. Ellos son la base de movimiento Browniano, tan importante en sistemas físicos y dinámicos. \n",
    "\n",
    "Ya en el notebook pasado dimos el primer paso a `PyCUDA` y las grandes ventajas que obtenemos de él. Ya en este notebook podremos hacer algunas cosas interesantes."
   ]
  },
  {
   "cell_type": "markdown",
   "metadata": {
    "collapsed": true
   },
   "source": [
    "## Números aleatorios y probabilidades"
   ]
  },
  {
   "cell_type": "markdown",
   "metadata": {},
   "source": [
    "La primera pregunta que nos haremos es: ¿cómo hacer que un evento siga una probabilidad $p$, con $0<p<1$?\n",
    "\n",
    "Pues ya tenemos un generador de números aleatorios. También tenemos condicionales que nos pueden ser útiles. ¿Ya pensaron en la solución? en realidad es muy fácil e intuitiva.\n",
    "\n",
    "Escribamos un condicional `if`, de tal forma que al generar un número pseudo-aleatorio $x$, si este es menor a un número $p$, con $0<p<1$, entonces el evento desado pasa.\n",
    "\n",
    "En otras palabras, si queremos que un evento tenga una probabilidad $0.5$ de pasar, entonces escribiremos un condicional de la forma\n",
    "\n",
    "```Python\n",
    "\n",
    "x = rand()\n",
    "p = 0.5\n",
    "if x <= p:\n",
    "    printf(\"Hola\")\n",
    "```\n",
    "\n",
    "En este ejemplo nuestro evento es imprimir \"Hola\".\n",
    "\n",
    "Fácil, ¿no?"
   ]
  },
  {
   "cell_type": "markdown",
   "metadata": {},
   "source": [
    "**[1]** Pasemos ahora al primer ejercicio: Escribir una función donde, a partir de una cierta *condición inicial*, cierta cantidad de `threads` (a elección del lector) de un paso hacia la izquierda o hacia la derecha ($-1$ o $+1$) con probabilidad $1-p$ y $p$ respectivamente. La función deberá tener como argumento la probabilidad $p$ y deberá regresar el estado resultante de los `threads`."
   ]
  },
  {
   "cell_type": "code",
   "execution_count": null,
   "metadata": {
    "collapsed": true
   },
   "outputs": [],
   "source": [
    "# Primero importamos todos los paquetes necesarios\n",
    "\n",
    "import pycuda.autoinit\n",
    "import pycuda.driver as drv\n",
    "import numpy as np\n",
    "from pycuda.curandom import rand as curand\n",
    "from pycuda.compiler import SourceModule\n",
    "import pycuda.gpuarray as gpuarray\n",
    "\n",
    "# Primero escribimos el kernel \n",
    "\n",
    "mod = SourceModule(\"\"\"\n",
    "\n",
    "__global__ void Caminante(float * proba, float * X, float p){\n",
    "\n",
    "    idx = blockDim.x * blockIdx.x + threadIdx.x ;\n",
    "\n",
    "    if (proba[idx] < p) {\n",
    "        X[idx] += 1 ;\n",
    "    } else {\n",
    "        X[idx] -= 1 ;\n",
    "    }\n",
    "}\n",
    "\"\"\")\n",
    "\n",
    "# Define el número de threads M que usaremos y la probabilidad p = 0.5\n",
    "\n",
    "\n",
    "# Ahora hagz dos arreglos en el GPU, uno será la condición inicial de todos los threads.\n",
    "# El segundo será la probabilidad\n",
    "\n",
    "# También haz un arreglo semejando al de la condición inicial en el cual copiarás el resultado final\n",
    "\n",
    "# Obten la función \"Caminante\" de mod y lanza el kernel\n",
    "\n",
    "# Copia el resultado al host y finalmente imprimelo\n",
    "\n"
   ]
  },
  {
   "cell_type": "markdown",
   "metadata": {},
   "source": [
    "**[2]** Ahora hagamos una extensión natural de la función pasada.\n",
    "\n",
    "Tal como en el notebook pasado, ahora completa el código para que el caminante de N pasos hacia la derecha o izquierda. En este ejercicio puedes usar también `kernels __device__` para aumentar la eficiencia. También puedes usar la `memoria compartida` o `shared memory`.\n"
   ]
  },
  {
   "cell_type": "markdown",
   "metadata": {},
   "source": [
    "**[3]** Finalmente, grafica todas las trayectorias en una gráfica, para distintos valores de $p$ (recomendamos empezar con $p = \\frac{1}{2}$). Esto lo puedes hacer con matplotlib tal como vimos en el notebook 01 de la segunda parte.\n",
    "\n",
    "¿Qué observas?"
   ]
  },
  {
   "cell_type": "markdown",
   "metadata": {},
   "source": [
    "Es interesante ver la evolución de la trayectoria de los caminantes aleatorios. Este tipo de fenómenos son difusivos, y siguen ********"
   ]
  },
  {
   "cell_type": "markdown",
   "metadata": {},
   "source": [
    "Regresa a $p = \\frac{1}{2}$ e intenta comprender/adivinar/atinarle al comportamiento que sigue la difusión del movimiento de los caminantes aleatorios\n",
    "\n",
    "Esto lo puedes hacer graficando algunas funciones en la misma gráfica de las distintas trayectorias de los caminantes aleatorios, observando si el comportamiento de las funciones tiene algún parecido con el de los caminantes."
   ]
  },
  {
   "cell_type": "markdown",
   "metadata": {},
   "source": [
    "Si ya lo sabías, lo encontraste o ya te cansaste de buscar, te proponemos que veas la imagen siguiente."
   ]
  },
  {
   "cell_type": "markdown",
   "metadata": {},
   "source": [
    "<img src=CaminantesAleatorios align=center>\n",
    "<h4 align=center >Gráfica hecha en el laboratorio con 100 caminantes durante 100 pasos. La función utilizada aquí es $f(x) = \\sqrt{x}$"
   ]
  },
  {
   "cell_type": "markdown",
   "metadata": {},
   "source": [
    "Como se puede observar claramente, en este caso la función $\\sqrt{n}$ parece describir muy bien el comportamiento de los caminantes aleatorios. Esto no es casualidad y viene de del hecho que el \"radio\" de un caminante aleatorio se puede relacionar directamente con la deviación estándar que tiene la posición del caminante. \n",
    "\n",
    "Para una demostración más formal, la página de Mathworld en las referencias contiene una derivación bastante interesante.\n",
    "\n",
    "Intenta graficar la raíz cuadrada en tu código. ¿no parece estar bien normalizada?\n",
    "\n",
    "En realidad la función puede aproximarse a $f(n) = A\\sqrt{n}$ donde $A$ es un número positivo. Intenta descubir cuál es.\n",
    "\n",
    "**Hint**: $A$ está relacionado con el paso que dan los caminantes."
   ]
  },
  {
   "cell_type": "markdown",
   "metadata": {},
   "source": [
    "Por ahora hemos dado un primer buen vistazo a los caminantes aleatorios y han aprofundizado sus conocimientos en `PyCUDA`. Como ya hemos dicho, estos fenómenos podrán ser escalados poco a poco hasta llevar a modelos más complicados, sin perder la esencia básica de los caminantes aleatorios.\n",
    "\n",
    "Finalmente recomendamos los siguientes ejercicios para que el lector se empape **aún más** de la magia de los caminantes aleatorios.\n",
    "\n",
    "**[4]** Modifica tu caminante para que tenga una probabilidad $r$ de quedarse en el mismo lugar. ¿Cómo cambian los resultados?\n",
    "\n",
    "**[5]** Haz lo mismo para caminantes en 2D y caminantes en 3D. [Aquí ya no dibujes las trayectorias como función del tiempo, sino dibuja las trayectorias en el espacio.]"
   ]
  },
  {
   "cell_type": "markdown",
   "metadata": {
    "collapsed": true
   },
   "source": [
    "## Referencias"
   ]
  },
  {
   "cell_type": "markdown",
   "metadata": {},
   "source": [
    "+ Página de caminatas aleatorias en 1D de [Mathworld](http://mathworld.wolfram.com/RandomWalk1-Dimensional.html)\n",
    "+ Wiki de [caminatas aleatorias](https://en.wikipedia.org/wiki/Random_walk)\n",
    "+ Wiki de [desviación estándar](https://en.wikipedia.org/wiki/Standard_deviation)\n",
    "+ [Sethna, Statistical Mechanics: Entropy, Order Parameters, and Complexity](http://pages.physics.cornell.edu/~sethna/StatMech/EntropyOrderParametersComplexity.pdf)"
   ]
  },
  {
   "cell_type": "code",
   "execution_count": null,
   "metadata": {
    "collapsed": true
   },
   "outputs": [],
   "source": []
  }
 ],
 "metadata": {
  "kernelspec": {
   "display_name": "Python 2",
   "language": "python",
   "name": "python2"
  },
  "language_info": {
   "codemirror_mode": {
    "name": "ipython",
    "version": 2
   },
   "file_extension": ".py",
   "mimetype": "text/x-python",
   "name": "python",
   "nbconvert_exporter": "python",
   "pygments_lexer": "ipython2",
   "version": "2.7.10"
  }
 },
 "nbformat": 4,
 "nbformat_minor": 0
}
