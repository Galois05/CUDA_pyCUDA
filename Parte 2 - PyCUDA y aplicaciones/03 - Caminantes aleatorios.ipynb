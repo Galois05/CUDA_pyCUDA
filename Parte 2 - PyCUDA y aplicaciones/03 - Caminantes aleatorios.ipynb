{
 "cells": [
  {
   "cell_type": "markdown",
   "metadata": {},
   "source": [
    "En este notebook nos dedicaremos a estudiar *Caminantes Aleatorios*. Ellos son la base de movimiento Browniano, tan importante en sistemas físicos y dinámicos. \n",
    "\n",
    "Ya en el notebook pasado dimos el primer paso a `PyCUDA` y las grandes ventajas que obtenemos de él. Ya en este notebook podremos hacer algunas cosas interesantes."
   ]
  },
  {
   "cell_type": "markdown",
   "metadata": {
    "collapsed": true
   },
   "source": [
    "## Números aleatorios y probabilidades"
   ]
  },
  {
   "cell_type": "markdown",
   "metadata": {},
   "source": [
    "La primera pregunta que nos haremos es: ¿cómo hacer que un evento siga una probabilidad $p$, con $0<p<1$?\n",
    "\n",
    "Pues ya tenemos un generador de números aleatorios. También tenemos condicionales que nos pueden ser útiles. ¿Ya pensaron en la solución? en realidad es muy fácil e intuitiva.\n",
    "\n",
    "Escribamos un condicional `if`, de tal forma que al generar un número pseudo-aleatorio $x$, si este es menor a un número $p$, con $0<p<1$, entonces el evento desado pasa.\n",
    "\n",
    "En otras palabras, si queremos que un evento tenga una probabilidad $0.5$ de pasar, entonces escribiremos un condicional de la forma\n",
    "\n",
    "```Python\n",
    "\n",
    "x = rand()\n",
    "p = 0.5\n",
    "if x <= p:\n",
    "    printf(\"Hola\")\n",
    "```\n",
    "\n",
    "En este ejemplo nuestro evento es imprimir \"Hola\".\n",
    "\n",
    "¿Fácil, no?"
   ]
  },
  {
   "cell_type": "markdown",
   "metadata": {},
   "source": [
    "**[1]** Pasemos ahora al primer ejercicio: Escribir una función donde, a partir de una cierta *condición inicial*, cierta cantidad de `threads` (a elección del lector) de un paso hacia la izquierda o hacia la derecha ($-1$ o $+1$) con probabilidad $1-p$ y $p$ respectivamente. La función deberá tener como argumento la probabilidad $p$ y deberá regresar el estado estado resultante de los `threads`.\n",
    "\n",
    "Recomendamos que se trabajen con `Arreglos`, para que así tanto los argumentos como el resultado sea un objeto de este tipo. También se recomienda que la *condición inicial* sea $0$. ¿Por qué no escoger una pequeña cantidad de `threads` que puedan imprimirse en la pantalla para verificar que todo esté bien?"
   ]
  },
  {
   "cell_type": "markdown",
   "metadata": {},
   "source": [
    "**[2]** Ahora hagamos una extensión natural de la función pasada. Esta función deberá ahora de tener también como argumento un número natural $n$ refiriéndose al número de pasos que cada *camimante* ha de dar. \n",
    "\n",
    "Esta función puede hacerse de dos maneras. Una es repitiendo el `kernel` $n$ veces dentro de nuestro código en el `host`.\n",
    "\n",
    "La otra manera es insertar esta iteración *dentro* del `kernel`. Esto, como se pueden imaginar es mucho más eficiente que la manera anterior. \n",
    "\n",
    "**Hint**: utiliza `Memset` para declarar directamente la condición inicial y declara un `arreglo` intermediario en la memoria compartida para hacer las iteraciones. En otras palabras, copia la condición inicial a un arreglo de memoria compartida para luego trabajar con él en las iteraciones. Una vez que hayan terminado estas, vuelve a copiar a la memoria global para finalmente llevarlo al `host`. \n",
    "A la función hecha en el inciso anterior puedes convertira en un `kernel` `device` de tal forma que lo llames desde tu `kernel` `global`.\n",
    "Esto hará a tu código más eficiente."
   ]
  },
  {
   "cell_type": "markdown",
   "metadata": {},
   "source": [
    "**[3]** Finalmente, grafica todas las trayectorias en una gráfica, para distintos valores de $p$ (recomendamos empezar con $p = \\frac{1}{2}$)\n",
    "\n",
    "¿Qué observas?"
   ]
  },
  {
   "cell_type": "markdown",
   "metadata": {},
   "source": [
    "Es interesante ver la evolución de la trayectoria de los caminantes aleatorios. Este tipo de fenómenos son difusivos, y siguen ********"
   ]
  },
  {
   "cell_type": "markdown",
   "metadata": {},
   "source": [
    "Regresa a $p = \\frac{1}{2}$ e intenta comprender/adivinar/atinarle al comportamiento que sigue la difusión del movimiento de los caminantes aleatorios\n",
    "\n",
    "Esto lo puedes hacer graficando algunas funciones en la misma gráfica de las distintas trayectorias de los caminantes aleatorios, observando si el comportamiento de las funciones tiene algún parecido con el de los caminantes."
   ]
  },
  {
   "cell_type": "markdown",
   "metadata": {},
   "source": [
    "Si ya lo sabías, lo encontraste o ya te cansaste de buscar, te proponemos que veas la imagen siguiente."
   ]
  },
  {
   "cell_type": "markdown",
   "metadata": {},
   "source": [
    "<img src=CaminantesAleatorios align=center>\n",
    "<h4 align=center >Gráfica hecha en el laboratorio con 100 caminantes durante 100 pasos. La función utilizada aquí es $f(x) = \\sqrt{x}$"
   ]
  },
  {
   "cell_type": "markdown",
   "metadata": {},
   "source": [
    "Como se puede observar claramente, en este caso la función $\\sqrt{n}$ parece describir muy bien el comportamiento de los caminantes aleatorios. Esto no es casualidad y viene de ---------------\n",
    "\n",
    "Intenta graficar la raíz cuadrada en tu código. ¿no parece estar bien normalizada?\n",
    "\n",
    "En realidad la función completa es $f(n) = A\\sqrt{n}$ donde $A$ es un número positivo. Intenta descubir cuál es.\n",
    "\n",
    "**Hint**: $A$ está relacionado con el paso que dan los caminantes."
   ]
  },
  {
   "cell_type": "markdown",
   "metadata": {},
   "source": [
    "Por ahora hemos dado un primer buen vistazo a los caminantes aleatorios y han aprofundizado sus conocimientos en `PyCUDA`. Como ya hemos dicho, estos fenómenos podrán ser escalados poco a poco hasta llevar a modelos más complicados, sin perder la esencia básica de los caminantes aleatorios.\n",
    "\n",
    "Finalmente recomendamos los siguientes ejercicios para que el lector se empape **aún más** de la magia de los caminantes aleatorios.\n",
    "\n",
    "**[4]** Modifica tu caminante para que tenga una probabilidad $r$ de quedarse en el mismo lugar. ¿Cómo cambian los resultados?\n",
    "\n",
    "**[5]** Haz lo mismo para caminantes en 2D y caminantes en 3D. [Aquí ya no dibujes las trayectorias como función del tiempo, sino dibuja las trayectorias en el espacio.]"
   ]
  },
  {
   "cell_type": "code",
   "execution_count": null,
   "metadata": {
    "collapsed": true
   },
   "outputs": [],
   "source": []
  }
 ],
 "metadata": {
  "kernelspec": {
   "display_name": "Python 2",
   "language": "python",
   "name": "python2"
  },
  "language_info": {
   "codemirror_mode": {
    "name": "ipython",
    "version": 2
   },
   "file_extension": ".py",
   "mimetype": "text/x-python",
   "name": "python",
   "nbconvert_exporter": "python",
   "pygments_lexer": "ipython2",
   "version": "2.7.9"
  }
 },
 "nbformat": 4,
 "nbformat_minor": 0
}
