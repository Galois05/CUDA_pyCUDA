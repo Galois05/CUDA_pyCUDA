{
 "cells": [
  {
   "cell_type": "markdown",
   "metadata": {},
   "source": [
    "Bienvenidos a este apéndice escrito con el fin de enseñar a crear números aleatorios con CUDA C. \n",
    "\n",
    "¿Por qué no usamos cuRAND - CUDA C para la segunda parte de las notas?\n",
    "\n",
    "Para esa pregunta hay dos respuestas. La primera es que uno de los objetivos generales de estas notas eran enseñar al lector tanto CUDA C como pyCUDA. Los autores pensamos que la parte 2 era un buen punto de inicio para pyCUDA; y es ahí donde entra la segunda respuesta. cuRAND - CUDA C tiene una sintáxis mucho más complicada que cuRAND en pyCUDA, por lo que no quisimos complicarnos (y complicarles) la vida, cuando pyCUDA puede ser muy accesible."
   ]
  },
  {
   "cell_type": "markdown",
   "metadata": {},
   "source": [
    "Así que empecemos ahora con esta parte, que es como una continuación de la parte 1 de las notas, para aquellos curiosos que quieran aprender a generar  números aleatorios con CUDA C."
   ]
  },
  {
   "cell_type": "markdown",
   "metadata": {},
   "source": [
    "##  Librería cuRAND"
   ]
  },
  {
   "cell_type": "markdown",
   "metadata": {},
   "source": [
    "Como ya seguro sabrán, las computadoras no pueden en realidad generar números **aleatorios** *per se*, sino que generan números *pseudoaleatorios* o *cuasialeatorios*. Esto debido al determinismo de la computadora misma. \n",
    "\n",
    "Sin embargo los matemáticos y computólogos han trabajado durante décadas para poder crear algoritmos que creen números lo suficientemente *aleatorios*. Hasta hoy, el algoritmo preferido por todos aquellos que trabajan en estadística es el **Mersenne Twister** creado en el Japón a finales del milenio pasado. Para un poco más de información sobre esto revisa las referencias de este notebook.\n",
    "\n",
    "CUDA ha decidido utilizar en su librería `cuRAND` otros generadores tales como el *XORWOW* o el *SOBOL*. Pero no nos metamos en eso. Hasta hace unas versiones, el generador *MT* no estaba disponible en `device API`. Afortunadamente han corregido eso."
   ]
  },
  {
   "cell_type": "markdown",
   "metadata": {},
   "source": [
    "**cuRAND** fue creada para la utilización de `CUDA` en otros ambientes tales como los financieros, matemáticos, físicos donde la estadística puede ser pan de cada día. \n",
    "\n",
    "Para todos aquellos ingenuos mal acostumbrados (como nosotros en un principio) que piensan que únicamente basta con poner en el `kernel` algo así como\n",
    "\n",
    "```C\n",
    "\n",
    "__global__ void Aleatorio(int n, float *d_A) \n",
    "{\n",
    "    idx = blockDim.x*blockIdx.x + threadIdx.x ;\n",
    "    \n",
    "    d_A[idx] = rand() ;\n",
    "    \n",
    "}\n",
    "\n",
    "```\n",
    "\n",
    "Pues están equívocados. El proceso es más complicado que eso y hay algunos detalles extras que poner."
   ]
  },
  {
   "cell_type": "markdown",
   "metadata": {},
   "source": [
    "### Host API y device API"
   ]
  },
  {
   "cell_type": "markdown",
   "metadata": {},
   "source": [
    "Uno de los primeros detalles a comentar es a la hora de compilar. al usar la librería `cuRAND` uno tiene escribir la bandera `-lcurand` en la línea `nvcc`."
   ]
  },
  {
   "cell_type": "code",
   "execution_count": null,
   "metadata": {
    "collapsed": true
   },
   "outputs": [],
   "source": [
    "nvcc mi_primer_programa.cu -lcurand"
   ]
  },
  {
   "cell_type": "markdown",
   "metadata": {},
   "source": [
    "De la misma manera, en el programa se tiene que incluir la librería escribiendo \n",
    "```C\n",
    "#include <curand.h>\n",
    "```"
   ]
  },
  {
   "cell_type": "markdown",
   "metadata": {},
   "source": [
    "Una de las diferencias esenciales entre usar `Host API` y `Device API` es el dinamismo del problema. Si de entrada uno sabe la cantidad de números aleatorios y no desea controlar esta cantidad, `Host API` puede llegar a ser más conveniente y práctico. Sin embargo, si uno no sabe la cantidad de número aleatorios que necesitara y desea tener un mayor control sobre el programa, `Device API`, aunque más tedioso y complejo, traerá mayores ventajas."
   ]
  },
  {
   "cell_type": "markdown",
   "metadata": {},
   "source": [
    "+ **Host API**"
   ]
  },
  {
   "cell_type": "markdown",
   "metadata": {},
   "source": [
    "El procedimiento es en realidad bastante sencillo. \n",
    "+ En primer lugar se tiene que crear un generador de números aleaatorios. Este tipo de variable es de tipo `curandRandGenerator_t`.\n",
    "+ Luego se aloja en el `GPU` la memoria que será destinada a los números aleatorios con `cudaMalloc()`.\n",
    "+ Aquí viene lo delicado. Hay que definir a nuestro generador usando las funciones `curandCreateGenerator()` y `curandSetPseudoRandomGeneratorSeed`().\n",
    "+ Se manda la orden de crear una cierta cantidad de números aleatorios en el `GPU` mediante `curandGenerateUniform()`.\n",
    "\n",
    "En este último paso hay distintas opciones para generar números aleatorios en distintas distribuciones. En nuestra lista utilizamos una distribución uniforme, pero también las hay *normal* bajo `curandGenerateNormal()` o *log-normal* con `curandGenerateLogNormal()`.\n",
    "\n",
    "Cada una de estas distribuciones tiene la opción de dar un número con precisión `doble` agregando `Double` al final del nombre de la función, como en `curandGenerateLogNormalDouble()`.\n",
    "También hay la opción de dar dúplas de números aleatorios (bastante útil) agregando un `2` al final del nombre de la función, como en `curandGenerateNormal2()`.\n",
    "\n",
    "+ Finalmente hay que limpiar todo. Análogamente a `cudaFree()` y `free()`, en `cuRAND` tenemos `curandDestroyGenerator()`."
   ]
  },
  {
   "cell_type": "markdown",
   "metadata": {},
   "source": [
    "Mostremos un ejemplo sencillo para irnos acostumbrando a esto."
   ]
  },
  {
   "cell_type": "markdown",
   "metadata": {},
   "source": [
    "```C\n",
    "\n",
    "// Este programa utiliza cuRAND para generar 10 números aleatorios\n",
    "\n",
    "#include<stdio.h>\n",
    "#include<stdlib.h>\n",
    "#include<cuda.h>\n",
    "#include<curand.h>\n",
    "\n",
    "int main ( int argc, char ∗argv[] ) {\n",
    "     int n = 10 ;\n",
    "     curandGenerator_t gen ; // Creamos la variable gen que será nuestro generador\n",
    "     float ∗devData, ∗hostData ;\n",
    "\n",
    "    \n",
    "     hostData = (float∗)calloc(n, sizeof(float) ) ; // Alocación de 10 floats en el CPU\n",
    "     cudaMalloc( (void ∗∗) &devData, n∗sizeof(float) ) ; // Alocación de la memoria en el GPU\n",
    "     \n",
    "     curandCreateGenerator(&gen, CURAND_RNG_PSEUDO_MTGP32) ; // Creación de un generador MT\n",
    "     curandSetPseudoRandomGeneratorSeed(gen, 1234ULL) ; // Ajustamos la semilla o seed\n",
    "     curandGenerateUniform(gen, devData, n) ; // Generamos los números aleatorios en el GPU\n",
    "\n",
    "     cudaMemcpy( hostData, devData, n∗sizeof(float), cudaMemcpyDeviceToHost ) ;\n",
    "\n",
    "      // Unas líneas para mostrar los resultados\n",
    "     printf( ”Distribucion uniforme entre 0. y 1.:\\n” ) ;\n",
    "     for( int i = 0 ; i < n ; i ++) \n",
    "     {\n",
    "         printf(”%1.4f\\n”, hostData[i]) ;\n",
    "     }\n",
    "     printf( ”\\n” ) ;\n",
    "\n",
    "     curandDestroyGenerator(gen) ;\n",
    "     cudaFree(devData) ;\n",
    "     free(hostData) ;\n",
    "     \n",
    "     return 0 ;\n",
    "}\n",
    "\n",
    "\n",
    "```\n",
    "\n",
    "Este código lo colocamos en un archivo llamado host_api.cu"
   ]
  },
  {
   "cell_type": "code",
   "execution_count": null,
   "metadata": {
    "collapsed": true
   },
   "outputs": [],
   "source": [
    "nvcc host_api.cu -lcurand -o host_api"
   ]
  },
  {
   "cell_type": "code",
   "execution_count": null,
   "metadata": {
    "collapsed": true
   },
   "outputs": [],
   "source": [
    "./host_api"
   ]
  },
  {
   "cell_type": "markdown",
   "metadata": {},
   "source": [
    "+ **Device API**"
   ]
  },
  {
   "cell_type": "markdown",
   "metadata": {},
   "source": [
    "Como mencionamos anteriormente, `Device API` nos da el control sobre todos los generadores y \"números aleatorios\" que creamos en el `GPU`. Pero mayores poderes conllevan mayores responsabilidades, por lo que el código se vuelve a primera vista un poco más complicado, sin embargo la idea de fondo es bastante sencilla."
   ]
  },
  {
   "cell_type": "markdown",
   "metadata": {},
   "source": [
    "A diferencia de `Host API`, en este caso habrá que escribir un `kernel` el cual se encarge de iniciar un *generador* distinto en cada `thread` que vayamos a ocupar. Este `kernel` tiene la forma siguiente:\n",
    "\n",
    "```C\n",
    "\n",
    "__global__ void Init(curandState * state) \n",
    "{\n",
    "    int idx = blockDim.x*blockIdx.x + threadIdx.x ;\n",
    "    curandinit( 1234, idx, 0, state[idx]) ;\n",
    "}\n",
    "```\n",
    "\n",
    "Veamos. Los generadores que había en nuestro ejemplo `Host API` han sido remplazados por las variables tipo `State`. En este ejemplo hemos usado un *generador de números pseudo-aleatorios* (el predefinido para `Device API` es *XORWOW*, para *MT* lo haremos más adelante) . La variable se declara en el `host` como `curandState`. Claro hay también otro tipo de generadores, que pueden ser consultados en la documentación.\n",
    "\n",
    "La segunda cosa que salta a la vista es la función `curandinit()` la cual coloca en cada `thread` un generador. Los cuatro argumentos de `curandinit()` se refieren a:\n",
    "+ la `semilla` o `seed` del generador.\n",
    "+ la sub-secuencia. Esto es lo que nos permite asegurar que cada `thread` no generará la misma cadena de números aleatorios.\n",
    "+ el `offset`, el cual para fines prácticos lo anularemos.\n",
    "+ el generador que se le asigna a cada una de los `threads`.\n",
    "\n"
   ]
  },
  {
   "cell_type": "markdown",
   "metadata": {},
   "source": [
    "Una vez que se hayan iniciado los generadores en el `GPU`, ¡es tiempo de poner manos a la obra!\n",
    "\n",
    "Ahora un kernel muy sencillo con el que únicamente hacemos un `Arreglo` de números aleatorios.\n",
    "\n",
    "```C\n",
    "\n",
    "__global__ void Arreglo_Alea(curandState * state, float * d_randArray)\n",
    "{\n",
    "    int idx = blockDim.x*blockIdx.x + threadIdx.x ;\n",
    "    \n",
    "    curandState localState = state[idx] ;\n",
    "    \n",
    "    d_randArray[idx] = curand_uniform(&localState) ;\n",
    "    \n",
    "    state[idx] = localState ;\n",
    "    \n",
    "}    \n",
    "\n",
    "```\n",
    "\n",
    "La función `curand_uniform()` es básicamente la misma que `curandGenerateUniform()` en el `Host API`, por lo que no tendría que haber ningún problema.\n",
    "Creamos la variable `localState` para fines de eficiencias, jugando un poco con el tiempo de acceso entre la función `curand_uniform()` y un estado *local*.\n",
    "La última línea nos asegura que si en un momento dado se quiere lanzar el `kernel` más de una vez, este de distintos números aleatorios cada vez que es lanzado."
   ]
  },
  {
   "cell_type": "markdown",
   "metadata": {},
   "source": [
    "Veamos el programa completo. \n",
    "\n",
    "```C\n",
    "\n",
    "#include <stdio.h>\n",
    "#include <stdlib.h>\n",
    "#include <curand.h>\n",
    "#include <curand_kernel.h>\n",
    "\n",
    "#define T_BLOQUE 16\n",
    "#define T_GRID 16\n",
    "\n",
    "__global__ void Init(curandState * state) \n",
    "{\n",
    "    int idx = blockDim.x*blockIdx.x + threadIdx.x ;\n",
    "    curandinit( 1234, idx, 0, state[idx]) ;\n",
    "}\n",
    "\n",
    "\n",
    "__global__ void Arreglo_Alea(curandState * state, float * d_randArray)\n",
    "{\n",
    "    int idx = blockDim.x*blockIdx.x + threadIdx.x ;\n",
    "    \n",
    "    curandState localState = state[idx] ;\n",
    "    \n",
    "    d_randArray[idx] = curand_uniform(&localState) ;\n",
    "    \n",
    "    state[idx] = localState ;\n",
    "    \n",
    "}  \n",
    "\n",
    "\n",
    "int main(int argc, char *argv[] )\n",
    "{\n",
    "    float *d_Resultados, h_Resultados ;\n",
    "    curandState *d_Estados ;\n",
    "    \n",
    "    h_Resultados = (float *) calloc( T_BLOQUE * T_GRID, sizeof(float)  ) ;\n",
    "    cudaMalloc( (void **)&d_Resultados, T_BLOQUE*T_GRID*sizeof(float) ) ;\n",
    "    cudaMalloc( (void **)&d_Estados, T_BLOQUE*T_GRID*sizeof(curandState) ) ;\n",
    "    cudaMemset( d_Resultados, 0., T_GRID*T_BLOQUE*sizeof(float) ) ;\n",
    "    \n",
    "    dim3 dimBlock(T_BLOQUE, 1, 1) ;\n",
    "    dim3 dimGrid(T_GRID, 1, 1) ;\n",
    "    \n",
    "    Init<<<dimGrid, dimBlock>>>(d_Estados) ;\n",
    "    \n",
    "    Arreglo_Alea<<<dimGrid, dimBlock>>>(d_Estados, d_Resultados) ;\n",
    "    \n",
    "    cudaMemcpy(h_Resultados, d_Resultados, T_BLOQUE*T_GRID*sizeof(float), cudaMemcpyDeviceToHost) ;\n",
    "    \n",
    "    for (int i = 0; i < T_BLOQUE*T_GRID ; i ++) \n",
    "    {\n",
    "        printf(\"%1.4f \\n\", h_Resultados[i]) ;\n",
    "    {\n",
    "    printf(\"\\n\") ;\n",
    "    \n",
    "    cudaFree(d_Estados) ;\n",
    "    cudaFree(d_Resultados) ;\n",
    "    Free(h_Resultados) ;\n",
    " \n",
    "     return 0;\n",
    "}\n",
    "```\n",
    "\n",
    "Un detalle **muy importante** es que a la hora de usar `Device API` hay que incluir una un paquete más al inicio de nuestro código. Este es\n",
    "\n",
    "```C\n",
    "\n",
    "#include <curand_kernel.h>\n",
    "\n",
    "```\n",
    "\n",
    "Fuera de eso, también es importante notar el trato que se le da a la variable `d_Estados`. \n",
    "+ Se declara como una variable `curandState`.\n",
    "+ Se aloja en la memoria como cualquier otro objeto.\n",
    "+ Se libera de la memoria como cualquier otro objeto en el `GPU`. En `Device API` no hay una función como `curandDestroyGenerator()` como en `Host API`.\n",
    "\n",
    "Aquí hemos incluido también una nueva función nativa de CUDA C: `Memset()`. Esto nos ahorra varias líneas a la hora de querer fijar un arreglo con valores fijos tales como $0$ o $1$. \n",
    "\n",
    "\n",
    "Pararemos por ahora los detalles generales de `Host API` y `Device API` esperando que el lector se lleve una buena impresión sobre como utilizar `cuRAND`. A lo largo de los siguientes notebooks se ahondará en todos estos temas para que se pueda programar con más seguridad y fluidez.\n",
    "\n",
    "Ahora pasaremos a un ejemplo concreto: el crear generadores *Mersenne Twister* con `Device API`. Esto debido a que hasta el momento el generador predefinido es *XORWOW*, y a diferencia de `Host API`, el crear un generador *MT* no es tan sencillo."
   ]
  },
  {
   "cell_type": "code",
   "execution_count": null,
   "metadata": {
    "collapsed": true
   },
   "outputs": [],
   "source": [
    "nvcc device_api.cu -lcurand -o device_api"
   ]
  },
  {
   "cell_type": "code",
   "execution_count": null,
   "metadata": {
    "collapsed": true
   },
   "outputs": [],
   "source": [
    "./device_api"
   ]
  },
  {
   "cell_type": "markdown",
   "metadata": {},
   "source": [
    "###  *Mersenne Twister* en Device API"
   ]
  },
  {
   "cell_type": "markdown",
   "metadata": {
    "collapsed": true
   },
   "source": [
    "Para generar pseudo-números aleatorios con el algoritmo *MT* tendremos que importar algunas librerías extras, las cuales están señaladas en el código escrito a continuación. Se importan no sólo algunas funciones extras, sino también parámetros ya computados.\n",
    "\n",
    "Una vez hecho esta importación, hay que escribir algunas líneas extras las cuales no daremos detalle tan extensivo, con el objetivo de que no se vuelva cansado y tedioso.\n",
    "\n",
    "En primer lugar hay que alojar la memoria de los estados `curandState` y los parámetros correspondientes a *MT*. Una vez hecho esto, modificamos los parámetros importados. Para más información ir a la documentación de Nvidia sobre Mersenne Twister en las referencias.\n",
    "\n",
    "**Nota**: Si las cosas parecían complicarse aún más, en este caso tenemos la desventaja que el máximo número de generadores activos en `GPU`'s tipo Tesla es de 256. Para el caso de `GPU`'s tipo Fermi, 1024 generadores pueden ser activados sin -en principio- tener mayor problema.\n",
    "\n",
    "Hemos escrito más comentarios que lo acostumbrado en el código a continuación para una mejor comprensión del lector."
   ]
  },
  {
   "cell_type": "markdown",
   "metadata": {},
   "source": [
    "```C\n",
    "\n",
    "#include <stdio.h>\n",
    "#include <stdlib.h>\n",
    "#include <cuda.h>\n",
    "#include <curand_kernel.h>\n",
    "/* incluimos las funciones auxiliares del host de MTGP */\n",
    "#include <curand_mtgp32_host.h>\n",
    "/* incluimos los parámetros pre-computados de MTGP */\n",
    "#include <curand_mtgp32dc_p_11213.h>\n",
    "\n",
    "#define T_GRID 64\n",
    "#define T_BLOQUE 256\n",
    "\n",
    "__global__ void generate_kernel(curandStateMtgp32 *state, int *d_randArray)\n",
    "{\n",
    "    int idx = blockDim.x*blockIdx.x + threadIdx.x ;\n",
    "    d_randArray[idx] =  curand(&state[idx]) ;\n",
    "}\n",
    "\n",
    "int main(int argc, char *argv[])\n",
    "{\n",
    "\n",
    "    curandStateMtgp32 *d_MTGPStates ;\n",
    "    mtgp32_kernel_params *d_KernelParams ;\n",
    "    int *d_Results, *h_Results ;\n",
    "    \n",
    "     \n",
    "    /* Allojamos espacio para los resultados en el CPU*/\n",
    "    h_Results = (int *)calloc( T_GRID*T_BLOQUE, sizeof(int)) ;\n",
    "\n",
    "    /* Alojamos espsacio para los resultados en el GPU */\n",
    "    cudaMalloc((void **)&d_Results, T_GRID * T_BLOQUE * sizeof(int)) ;\n",
    "\n",
    "    /* Fijamos los resultados como 0 */\n",
    "    cudaMemset(d_Results, 0, T_GRID * T_BLOQUE * sizeof(int)) ;\n",
    "\n",
    "    /* Alojamos espacio para los estados en el GPU */\n",
    "    cudaMalloc((void **)&d_MTGPStates, T_GRID * sizeof(curandStateMtgp32)) ;\n",
    "    \n",
    "    /* Hasta ahora todo está igual, ahora vienen los ajustes para MTGP32 */\n",
    "    \n",
    "    /* Alojamos espacio para los parámetros del kernel MTGP32 */\n",
    "    cudaMalloc((void**)&d_KernelParams, sizeof(mtgp32_kernel_params)) ;\n",
    "    \n",
    "    /* Redefinimos los parámetros predefinios al formato del kernel */\n",
    "    /* y copiamos los parámetros del kernel a la memoria del GPU */\n",
    "    curandMakeMTGP32Constants(mtgp32dc_params_fast_11213, d_KernelParams);\n",
    "    \n",
    "    /* E iniciamos un estado por bloque */\n",
    "    curandMakeMTGP32KernelState(d_MTGPStates, mtgp32dc_params_fast_11213, d_KernelParams, T_GRID, 1234);\n",
    "    \n",
    "    /* Ajustes completos */\n",
    "    \n",
    "    /* Lanzamos el kernel para generar números pseudo-aleatorios  */\n",
    "    \n",
    "    dim3 dimGrid(T_GRID, 1, 1) ;\n",
    "    dim3 dimBlock(T_BLOQUE, 1, 1) ;\n",
    "    \n",
    "    generate_kernel<<<dimGrid, dimBlock>>>(d_MTGPStates, d_Results) ;\n",
    "    \n",
    "    /* Copiamos la memoria de vuelta al CPU */\n",
    "    cudaMemcpy(h_Results, d_Results, T_GRID * T_BLOQUE * sizeof(int), cudaMemcpyDeviceToHost) ;\n",
    "\n",
    "    /* Mostramos los resultados */\n",
    "    for(int i = 0; i < T_GRID*T_BLOQUE ; i++) {\n",
    "        printf(\"%1.f \\n\", hostResults[i]) ;\n",
    "    }\n",
    "    printf(\"\\n\") \n",
    "\n",
    "    /* Limpiamos */\n",
    "    cudaFree(d_MTGPStates) ;\n",
    "    cudaFree(d_Results) ;\n",
    "    free(h_Results) ;\n",
    "\n",
    "}\n",
    "```"
   ]
  },
  {
   "cell_type": "markdown",
   "metadata": {},
   "source": [
    "### Conclusiones"
   ]
  },
  {
   "cell_type": "markdown",
   "metadata": {},
   "source": [
    "`cuRAND` no es una librería tan sencilla para generar números aleatorios como se puede observar en otros lenguajes de programación. Sin embargo detrás de todas estas líneas de código se encuentran grandes ventajas como el control simultáneo de los generadores de números pseudo-aleatorios, además de la gran eficiencia de los códigos en parelelo.\n",
    "A lo largo de los siguientes notebooks iremos sacando todo el jugo que esta librería puede darnos. Sin embargo primero tenremos que pasar por algunos ejemplos clásicos como *caminantes aleatorios* o *distribuciones de probabilidad*. Así que vayamos tomando vuelo porque esto apenas empieza."
   ]
  },
  {
   "cell_type": "markdown",
   "metadata": {},
   "source": [
    "## Referencias"
   ]
  },
  {
   "cell_type": "markdown",
   "metadata": {},
   "source": [
    "+ La documentación completa de cuRAND se encuentra [aquí](http://hpc.oit.uci.edu/nvidia-doc/sdk-cuda-doc/CUDALibraries/doc/CURAND_Library.pdf)\n",
    "+ Sobre [Pseudo-aleatoriedad](https://en.wikipedia.org/wiki/Pseudorandomness) y [Generadores de Números Pseudo-aleatorios (PNG)](https://en.wikipedia.org/wiki/Pseudorandom_number_generator)\n",
    "+ Sobre [Cuasi-aleatoriedad](https://en.wikipedia.org/wiki/Low-discrepancy_sequence). También [aquí](http://mathworld.wolfram.com/QuasirandomSequence.html) hay más info.\n",
    "+ Un poco más de información sobre Mersenne Twister en su [Wiki](https://en.wikipedia.org/wiki/Mersenne_Twister)\n",
    "+ Mersenne Twister con Device API en la [página de Nvidia](http://docs.nvidia.com/cuda/curand/device-api-overview.html#bit-generation-2)"
   ]
  },
  {
   "cell_type": "code",
   "execution_count": null,
   "metadata": {
    "collapsed": true
   },
   "outputs": [],
   "source": []
  }
 ],
 "metadata": {
  "kernelspec": {
   "display_name": "Python 2",
   "language": "python",
   "name": "python2"
  },
  "language_info": {
   "codemirror_mode": {
    "name": "ipython",
    "version": 2
   },
   "file_extension": ".py",
   "mimetype": "text/x-python",
   "name": "python",
   "nbconvert_exporter": "python",
   "pygments_lexer": "ipython2",
   "version": "2.7.9"
  }
 },
 "nbformat": 4,
 "nbformat_minor": 0
}
